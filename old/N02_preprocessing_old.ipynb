{
  "cells": [
    {
      "cell_type": "markdown",
      "id": "d0922e8f",
      "metadata": {
        "id": "d0922e8f"
      },
      "source": [
        "# Preprocessing der Trainingsdaten"
      ]
    },
    {
      "cell_type": "code",
      "source": [
        "from google.colab import drive\n",
        "drive.mount('/content/drive')"
      ],
      "metadata": {
        "colab": {
          "base_uri": "https://localhost:8080/"
        },
        "id": "w1Mvxr89ygC4",
        "outputId": "e3f78abb-0eda-42ee-c8cb-4137693c097b"
      },
      "id": "w1Mvxr89ygC4",
      "execution_count": 1,
      "outputs": [
        {
          "output_type": "stream",
          "name": "stdout",
          "text": [
            "Mounted at /content/drive\n"
          ]
        }
      ]
    },
    {
      "cell_type": "code",
      "execution_count": 2,
      "id": "62016b76",
      "metadata": {
        "colab": {
          "base_uri": "https://localhost:8080/"
        },
        "id": "62016b76",
        "outputId": "1ad03fa7-b879-4298-9867-250b18bf50cb"
      },
      "outputs": [
        {
          "output_type": "stream",
          "name": "stdout",
          "text": [
            "Current working directory: /content\n",
            "Train data path: /content/resources\\train_data\\\n"
          ]
        }
      ],
      "source": [
        "import pandas as pd\n",
        "import os\n",
        "import numpy as np\n",
        "\n",
        "print(\"Current working directory: \" + os.getcwd())\n",
        "train_data_path = os.path.join(os.getcwd(), \"resources\\\\train_data\\\\\")\n",
        "print(\"Train data path: \" + train_data_path)"
      ]
    },
    {
      "cell_type": "code",
      "source": [
        "print(\"Current working directory: \" + os.getcwd())\n",
        "train_data_path = os.path.join(os.getcwd(), \"drive/MyDrive/WR2 Brrr/Trainingsdaten_Proj3/\")\n",
        "print(\"Train data path: \" + train_data_path)\n",
        "# collection_path = '/content/drive/MyDrive/WR2 Brrr/Trainingsdaten_Proj3/collection4_train_data_dump.csv'\n",
        "# collection_param_path = '/content/drive/MyDrive/WR2 Brrr/Trainingsdaten_Proj3/collection4_parameter_dump.csv'"
      ],
      "metadata": {
        "colab": {
          "base_uri": "https://localhost:8080/"
        },
        "id": "VD8LcN5Jyytl",
        "outputId": "a59ab74b-a551-45a3-b348-278b4e67d331"
      },
      "id": "VD8LcN5Jyytl",
      "execution_count": 3,
      "outputs": [
        {
          "output_type": "stream",
          "name": "stdout",
          "text": [
            "Current working directory: /content\n",
            "Train data path: /content/drive/MyDrive/WR2 Brrr/Trainingsdaten_Proj3/\n"
          ]
        }
      ]
    },
    {
      "cell_type": "markdown",
      "id": "23d938f5",
      "metadata": {
        "id": "23d938f5"
      },
      "source": [
        "## Datensätze laden"
      ]
    },
    {
      "cell_type": "code",
      "execution_count": 4,
      "id": "19e92e99",
      "metadata": {
        "colab": {
          "base_uri": "https://localhost:8080/"
        },
        "id": "19e92e99",
        "outputId": "4b5288d9-82d2-4116-9f42-17dc63244867"
      },
      "outputs": [
        {
          "output_type": "stream",
          "name": "stdout",
          "text": [
            "['2022-07-14-05-25-14-train_data_dump.csv', 'collection5_train_data_dump.csv']\n",
            "['2022-07-14-05-25-14-parameter_dump.csv', 'collection5_parameter_dump.csv']\n"
          ]
        }
      ],
      "source": [
        "df_list = []\n",
        "param_list = []\n",
        "train_data_file_names = sorted([name for name in os.listdir(train_data_path) if 'train_data_dump' in name])\n",
        "parameter_file_names = sorted([name for name in os.listdir(train_data_path) if 'parameter_dump' in name])\n",
        "print(train_data_file_names)\n",
        "print(parameter_file_names)"
      ]
    },
    {
      "cell_type": "code",
      "execution_count": null,
      "id": "2261d346",
      "metadata": {
        "colab": {
          "base_uri": "https://localhost:8080/"
        },
        "id": "2261d346",
        "outputId": "a484829a-b6e9-45a3-91e6-078f3a85043f"
      },
      "outputs": [
        {
          "output_type": "stream",
          "name": "stdout",
          "text": [
            "Datensatz Nummer 1\n",
            "(30000, 4801)\n",
            "(30000, 3)\n",
            "Datensatz Nummer 2\n"
          ]
        }
      ],
      "source": [
        "for ind, (name_train, name_param) in enumerate(zip(train_data_file_names,parameter_file_names)):\n",
        "    print(\"Datensatz Nummer \" + str(ind+1))\n",
        "    df_list.append(pd.read_csv(os.path.join(train_data_path, name_train), header = None))\n",
        "    print(df_list[-1].shape)\n",
        "    param_list.append(pd.read_csv(os.path.join(train_data_path, name_param), names = [\"coefficientType\",\"parameterNames\",\"parameterValues\"]))\n",
        "    print(param_list[-1].shape)\n",
        "    if param_list[-1].shape[0] > df_list[-1].shape[0]:\n",
        "        print(param_list[-1].iloc[0,])\n",
        "        param_list[-1] = param_list[-1].drop(0).reset_index(drop = True)\n",
        "        print(param_list[-1].shape)"
      ]
    },
    {
      "cell_type": "code",
      "source": [
        "# bool_ind = param_list[0].coefficientType == \"Random Blocks\"\n",
        "# rb_df = df_list[0].loc[bool_ind,]\n",
        "# rb_param_df = param_list[0].loc[bool_ind,]\n",
        "# print(rb_df.shape)\n",
        "# print(rb_param_df.shape)\n",
        "# df_list[0] = df_list[0].loc[~bool_ind,]\n",
        "# print(df_list[0].shape)\n",
        "# param_list[0] = param_list[0].loc[~bool_ind,]\n",
        "# print(param_list[0].shape)"
      ],
      "metadata": {
        "colab": {
          "base_uri": "https://localhost:8080/"
        },
        "id": "TXbZOsIL17jr",
        "outputId": "068c5aed-3b30-4203-e2e6-23dd767f6516"
      },
      "id": "TXbZOsIL17jr",
      "execution_count": null,
      "outputs": [
        {
          "output_type": "stream",
          "name": "stdout",
          "text": [
            "(50054, 4802)\n",
            "(50054, 3)\n",
            "(52590, 4802)\n",
            "(52590, 3)\n"
          ]
        }
      ]
    },
    {
      "cell_type": "code",
      "source": [
        "# rb_sample = rb_df.sample(frac = 0.5)\n",
        "# print(rb_sample.shape)\n",
        "# rb_sample.head()"
      ],
      "metadata": {
        "colab": {
          "base_uri": "https://localhost:8080/",
          "height": 253
        },
        "id": "PCsmbRrW5gPi",
        "outputId": "2063a05b-dcda-4a80-efed-1caff91c9905"
      },
      "id": "PCsmbRrW5gPi",
      "execution_count": null,
      "outputs": [
        {
          "output_type": "stream",
          "name": "stdout",
          "text": [
            "(25027, 4802)\n"
          ]
        },
        {
          "output_type": "execute_result",
          "data": {
            "text/plain": [
              "          0     1     2     3     4     5     6     7     8     9     ...  \\\n",
              "17091      NaN     1     1     1     1     1     1     1     1     1  ...   \n",
              "29127  10593.0     0     0     0     0     0     0     0     0     0  ...   \n",
              "59237  40937.0     0     0     0     0     0     0     0     0     0  ...   \n",
              "51247  32789.0     0     0     0     0     0     0     0     0     0  ...   \n",
              "71201  53115.0     0     0     1     1     1     1     1     1     1  ...   \n",
              "\n",
              "       4792  4793  4794  4795  4796  4797  4798  4799  4800  4801  \n",
              "17091     1     1     1     1     1     1     1     1     1     1  \n",
              "29127     0     0     0     0     0     0     0     0     0     0  \n",
              "59237     0     0     0     0     0     0     0     1     1     1  \n",
              "51247     1     1     1     1     1     1     1     1     1     0  \n",
              "71201     1     1     1     1     1     1     1     1     0     0  \n",
              "\n",
              "[5 rows x 4802 columns]"
            ],
            "text/html": [
              "\n",
              "  <div id=\"df-ecbd6e31-717f-472c-8d42-e213e6ad7103\">\n",
              "    <div class=\"colab-df-container\">\n",
              "      <div>\n",
              "<style scoped>\n",
              "    .dataframe tbody tr th:only-of-type {\n",
              "        vertical-align: middle;\n",
              "    }\n",
              "\n",
              "    .dataframe tbody tr th {\n",
              "        vertical-align: top;\n",
              "    }\n",
              "\n",
              "    .dataframe thead th {\n",
              "        text-align: right;\n",
              "    }\n",
              "</style>\n",
              "<table border=\"1\" class=\"dataframe\">\n",
              "  <thead>\n",
              "    <tr style=\"text-align: right;\">\n",
              "      <th></th>\n",
              "      <th>0</th>\n",
              "      <th>1</th>\n",
              "      <th>2</th>\n",
              "      <th>3</th>\n",
              "      <th>4</th>\n",
              "      <th>5</th>\n",
              "      <th>6</th>\n",
              "      <th>7</th>\n",
              "      <th>8</th>\n",
              "      <th>9</th>\n",
              "      <th>...</th>\n",
              "      <th>4792</th>\n",
              "      <th>4793</th>\n",
              "      <th>4794</th>\n",
              "      <th>4795</th>\n",
              "      <th>4796</th>\n",
              "      <th>4797</th>\n",
              "      <th>4798</th>\n",
              "      <th>4799</th>\n",
              "      <th>4800</th>\n",
              "      <th>4801</th>\n",
              "    </tr>\n",
              "  </thead>\n",
              "  <tbody>\n",
              "    <tr>\n",
              "      <th>17091</th>\n",
              "      <td>NaN</td>\n",
              "      <td>1</td>\n",
              "      <td>1</td>\n",
              "      <td>1</td>\n",
              "      <td>1</td>\n",
              "      <td>1</td>\n",
              "      <td>1</td>\n",
              "      <td>1</td>\n",
              "      <td>1</td>\n",
              "      <td>1</td>\n",
              "      <td>...</td>\n",
              "      <td>1</td>\n",
              "      <td>1</td>\n",
              "      <td>1</td>\n",
              "      <td>1</td>\n",
              "      <td>1</td>\n",
              "      <td>1</td>\n",
              "      <td>1</td>\n",
              "      <td>1</td>\n",
              "      <td>1</td>\n",
              "      <td>1</td>\n",
              "    </tr>\n",
              "    <tr>\n",
              "      <th>29127</th>\n",
              "      <td>10593.0</td>\n",
              "      <td>0</td>\n",
              "      <td>0</td>\n",
              "      <td>0</td>\n",
              "      <td>0</td>\n",
              "      <td>0</td>\n",
              "      <td>0</td>\n",
              "      <td>0</td>\n",
              "      <td>0</td>\n",
              "      <td>0</td>\n",
              "      <td>...</td>\n",
              "      <td>0</td>\n",
              "      <td>0</td>\n",
              "      <td>0</td>\n",
              "      <td>0</td>\n",
              "      <td>0</td>\n",
              "      <td>0</td>\n",
              "      <td>0</td>\n",
              "      <td>0</td>\n",
              "      <td>0</td>\n",
              "      <td>0</td>\n",
              "    </tr>\n",
              "    <tr>\n",
              "      <th>59237</th>\n",
              "      <td>40937.0</td>\n",
              "      <td>0</td>\n",
              "      <td>0</td>\n",
              "      <td>0</td>\n",
              "      <td>0</td>\n",
              "      <td>0</td>\n",
              "      <td>0</td>\n",
              "      <td>0</td>\n",
              "      <td>0</td>\n",
              "      <td>0</td>\n",
              "      <td>...</td>\n",
              "      <td>0</td>\n",
              "      <td>0</td>\n",
              "      <td>0</td>\n",
              "      <td>0</td>\n",
              "      <td>0</td>\n",
              "      <td>0</td>\n",
              "      <td>0</td>\n",
              "      <td>1</td>\n",
              "      <td>1</td>\n",
              "      <td>1</td>\n",
              "    </tr>\n",
              "    <tr>\n",
              "      <th>51247</th>\n",
              "      <td>32789.0</td>\n",
              "      <td>0</td>\n",
              "      <td>0</td>\n",
              "      <td>0</td>\n",
              "      <td>0</td>\n",
              "      <td>0</td>\n",
              "      <td>0</td>\n",
              "      <td>0</td>\n",
              "      <td>0</td>\n",
              "      <td>0</td>\n",
              "      <td>...</td>\n",
              "      <td>1</td>\n",
              "      <td>1</td>\n",
              "      <td>1</td>\n",
              "      <td>1</td>\n",
              "      <td>1</td>\n",
              "      <td>1</td>\n",
              "      <td>1</td>\n",
              "      <td>1</td>\n",
              "      <td>1</td>\n",
              "      <td>0</td>\n",
              "    </tr>\n",
              "    <tr>\n",
              "      <th>71201</th>\n",
              "      <td>53115.0</td>\n",
              "      <td>0</td>\n",
              "      <td>0</td>\n",
              "      <td>1</td>\n",
              "      <td>1</td>\n",
              "      <td>1</td>\n",
              "      <td>1</td>\n",
              "      <td>1</td>\n",
              "      <td>1</td>\n",
              "      <td>1</td>\n",
              "      <td>...</td>\n",
              "      <td>1</td>\n",
              "      <td>1</td>\n",
              "      <td>1</td>\n",
              "      <td>1</td>\n",
              "      <td>1</td>\n",
              "      <td>1</td>\n",
              "      <td>1</td>\n",
              "      <td>1</td>\n",
              "      <td>0</td>\n",
              "      <td>0</td>\n",
              "    </tr>\n",
              "  </tbody>\n",
              "</table>\n",
              "<p>5 rows × 4802 columns</p>\n",
              "</div>\n",
              "      <button class=\"colab-df-convert\" onclick=\"convertToInteractive('df-ecbd6e31-717f-472c-8d42-e213e6ad7103')\"\n",
              "              title=\"Convert this dataframe to an interactive table.\"\n",
              "              style=\"display:none;\">\n",
              "        \n",
              "  <svg xmlns=\"http://www.w3.org/2000/svg\" height=\"24px\"viewBox=\"0 0 24 24\"\n",
              "       width=\"24px\">\n",
              "    <path d=\"M0 0h24v24H0V0z\" fill=\"none\"/>\n",
              "    <path d=\"M18.56 5.44l.94 2.06.94-2.06 2.06-.94-2.06-.94-.94-2.06-.94 2.06-2.06.94zm-11 1L8.5 8.5l.94-2.06 2.06-.94-2.06-.94L8.5 2.5l-.94 2.06-2.06.94zm10 10l.94 2.06.94-2.06 2.06-.94-2.06-.94-.94-2.06-.94 2.06-2.06.94z\"/><path d=\"M17.41 7.96l-1.37-1.37c-.4-.4-.92-.59-1.43-.59-.52 0-1.04.2-1.43.59L10.3 9.45l-7.72 7.72c-.78.78-.78 2.05 0 2.83L4 21.41c.39.39.9.59 1.41.59.51 0 1.02-.2 1.41-.59l7.78-7.78 2.81-2.81c.8-.78.8-2.07 0-2.86zM5.41 20L4 18.59l7.72-7.72 1.47 1.35L5.41 20z\"/>\n",
              "  </svg>\n",
              "      </button>\n",
              "      \n",
              "  <style>\n",
              "    .colab-df-container {\n",
              "      display:flex;\n",
              "      flex-wrap:wrap;\n",
              "      gap: 12px;\n",
              "    }\n",
              "\n",
              "    .colab-df-convert {\n",
              "      background-color: #E8F0FE;\n",
              "      border: none;\n",
              "      border-radius: 50%;\n",
              "      cursor: pointer;\n",
              "      display: none;\n",
              "      fill: #1967D2;\n",
              "      height: 32px;\n",
              "      padding: 0 0 0 0;\n",
              "      width: 32px;\n",
              "    }\n",
              "\n",
              "    .colab-df-convert:hover {\n",
              "      background-color: #E2EBFA;\n",
              "      box-shadow: 0px 1px 2px rgba(60, 64, 67, 0.3), 0px 1px 3px 1px rgba(60, 64, 67, 0.15);\n",
              "      fill: #174EA6;\n",
              "    }\n",
              "\n",
              "    [theme=dark] .colab-df-convert {\n",
              "      background-color: #3B4455;\n",
              "      fill: #D2E3FC;\n",
              "    }\n",
              "\n",
              "    [theme=dark] .colab-df-convert:hover {\n",
              "      background-color: #434B5C;\n",
              "      box-shadow: 0px 1px 3px 1px rgba(0, 0, 0, 0.15);\n",
              "      filter: drop-shadow(0px 1px 2px rgba(0, 0, 0, 0.3));\n",
              "      fill: #FFFFFF;\n",
              "    }\n",
              "  </style>\n",
              "\n",
              "      <script>\n",
              "        const buttonEl =\n",
              "          document.querySelector('#df-ecbd6e31-717f-472c-8d42-e213e6ad7103 button.colab-df-convert');\n",
              "        buttonEl.style.display =\n",
              "          google.colab.kernel.accessAllowed ? 'block' : 'none';\n",
              "\n",
              "        async function convertToInteractive(key) {\n",
              "          const element = document.querySelector('#df-ecbd6e31-717f-472c-8d42-e213e6ad7103');\n",
              "          const dataTable =\n",
              "            await google.colab.kernel.invokeFunction('convertToInteractive',\n",
              "                                                     [key], {});\n",
              "          if (!dataTable) return;\n",
              "\n",
              "          const docLinkHtml = 'Like what you see? Visit the ' +\n",
              "            '<a target=\"_blank\" href=https://colab.research.google.com/notebooks/data_table.ipynb>data table notebook</a>'\n",
              "            + ' to learn more about interactive tables.';\n",
              "          element.innerHTML = '';\n",
              "          dataTable['output_type'] = 'display_data';\n",
              "          await google.colab.output.renderOutput(dataTable, element);\n",
              "          const docLink = document.createElement('div');\n",
              "          docLink.innerHTML = docLinkHtml;\n",
              "          element.appendChild(docLink);\n",
              "        }\n",
              "      </script>\n",
              "    </div>\n",
              "  </div>\n",
              "  "
            ]
          },
          "metadata": {},
          "execution_count": 7
        }
      ]
    },
    {
      "cell_type": "code",
      "source": [
        "# rb_param_sample = rb_param_df.loc[rb_sample.index,]\n",
        "# print(rb_param_sample.shape)\n",
        "# rb_param_sample.head()"
      ],
      "metadata": {
        "colab": {
          "base_uri": "https://localhost:8080/",
          "height": 223
        },
        "id": "nQK3vkhP7Iyt",
        "outputId": "65c35ad3-7351-4ec5-8d6e-6fb24acdbcc5"
      },
      "id": "nQK3vkhP7Iyt",
      "execution_count": null,
      "outputs": [
        {
          "output_type": "stream",
          "name": "stdout",
          "text": [
            "(25027, 3)\n"
          ]
        },
        {
          "output_type": "execute_result",
          "data": {
            "text/plain": [
              "      coefficientType                                     parameterNames  \\\n",
              "17091   Random Blocks  rhoMin,rhoMax,nBlocks,height,heightVariance,wi...   \n",
              "29127   Random Blocks  nBlocks,height,heightVariance,width,widthVaria...   \n",
              "59237   Random Blocks  rhoMin,rhoMax,nBlocks,height,heightVariance,wi...   \n",
              "51247   Random Blocks  rhoMin,rhoMax,nBlocks,height,heightVariance,wi...   \n",
              "71201   Random Blocks  rhoMin,rhoMax,nBlocks,height,heightVariance,wi...   \n",
              "\n",
              "                     parameterValues  \n",
              "17091  1000000,1,15,16,12,16,16,4,10  \n",
              "29127       40,7,4,3,3,1,1000000,6,6  \n",
              "59237    1,1000000,80,10,2,3,6,20,14  \n",
              "51247     1,1000000,80,6,16,7,2,0,16  \n",
              "71201   1,1000000,60,9,10,10,6,14,14  "
            ],
            "text/html": [
              "\n",
              "  <div id=\"df-d26040f2-22a3-48c0-b673-4c1b71f9a650\">\n",
              "    <div class=\"colab-df-container\">\n",
              "      <div>\n",
              "<style scoped>\n",
              "    .dataframe tbody tr th:only-of-type {\n",
              "        vertical-align: middle;\n",
              "    }\n",
              "\n",
              "    .dataframe tbody tr th {\n",
              "        vertical-align: top;\n",
              "    }\n",
              "\n",
              "    .dataframe thead th {\n",
              "        text-align: right;\n",
              "    }\n",
              "</style>\n",
              "<table border=\"1\" class=\"dataframe\">\n",
              "  <thead>\n",
              "    <tr style=\"text-align: right;\">\n",
              "      <th></th>\n",
              "      <th>coefficientType</th>\n",
              "      <th>parameterNames</th>\n",
              "      <th>parameterValues</th>\n",
              "    </tr>\n",
              "  </thead>\n",
              "  <tbody>\n",
              "    <tr>\n",
              "      <th>17091</th>\n",
              "      <td>Random Blocks</td>\n",
              "      <td>rhoMin,rhoMax,nBlocks,height,heightVariance,wi...</td>\n",
              "      <td>1000000,1,15,16,12,16,16,4,10</td>\n",
              "    </tr>\n",
              "    <tr>\n",
              "      <th>29127</th>\n",
              "      <td>Random Blocks</td>\n",
              "      <td>nBlocks,height,heightVariance,width,widthVaria...</td>\n",
              "      <td>40,7,4,3,3,1,1000000,6,6</td>\n",
              "    </tr>\n",
              "    <tr>\n",
              "      <th>59237</th>\n",
              "      <td>Random Blocks</td>\n",
              "      <td>rhoMin,rhoMax,nBlocks,height,heightVariance,wi...</td>\n",
              "      <td>1,1000000,80,10,2,3,6,20,14</td>\n",
              "    </tr>\n",
              "    <tr>\n",
              "      <th>51247</th>\n",
              "      <td>Random Blocks</td>\n",
              "      <td>rhoMin,rhoMax,nBlocks,height,heightVariance,wi...</td>\n",
              "      <td>1,1000000,80,6,16,7,2,0,16</td>\n",
              "    </tr>\n",
              "    <tr>\n",
              "      <th>71201</th>\n",
              "      <td>Random Blocks</td>\n",
              "      <td>rhoMin,rhoMax,nBlocks,height,heightVariance,wi...</td>\n",
              "      <td>1,1000000,60,9,10,10,6,14,14</td>\n",
              "    </tr>\n",
              "  </tbody>\n",
              "</table>\n",
              "</div>\n",
              "      <button class=\"colab-df-convert\" onclick=\"convertToInteractive('df-d26040f2-22a3-48c0-b673-4c1b71f9a650')\"\n",
              "              title=\"Convert this dataframe to an interactive table.\"\n",
              "              style=\"display:none;\">\n",
              "        \n",
              "  <svg xmlns=\"http://www.w3.org/2000/svg\" height=\"24px\"viewBox=\"0 0 24 24\"\n",
              "       width=\"24px\">\n",
              "    <path d=\"M0 0h24v24H0V0z\" fill=\"none\"/>\n",
              "    <path d=\"M18.56 5.44l.94 2.06.94-2.06 2.06-.94-2.06-.94-.94-2.06-.94 2.06-2.06.94zm-11 1L8.5 8.5l.94-2.06 2.06-.94-2.06-.94L8.5 2.5l-.94 2.06-2.06.94zm10 10l.94 2.06.94-2.06 2.06-.94-2.06-.94-.94-2.06-.94 2.06-2.06.94z\"/><path d=\"M17.41 7.96l-1.37-1.37c-.4-.4-.92-.59-1.43-.59-.52 0-1.04.2-1.43.59L10.3 9.45l-7.72 7.72c-.78.78-.78 2.05 0 2.83L4 21.41c.39.39.9.59 1.41.59.51 0 1.02-.2 1.41-.59l7.78-7.78 2.81-2.81c.8-.78.8-2.07 0-2.86zM5.41 20L4 18.59l7.72-7.72 1.47 1.35L5.41 20z\"/>\n",
              "  </svg>\n",
              "      </button>\n",
              "      \n",
              "  <style>\n",
              "    .colab-df-container {\n",
              "      display:flex;\n",
              "      flex-wrap:wrap;\n",
              "      gap: 12px;\n",
              "    }\n",
              "\n",
              "    .colab-df-convert {\n",
              "      background-color: #E8F0FE;\n",
              "      border: none;\n",
              "      border-radius: 50%;\n",
              "      cursor: pointer;\n",
              "      display: none;\n",
              "      fill: #1967D2;\n",
              "      height: 32px;\n",
              "      padding: 0 0 0 0;\n",
              "      width: 32px;\n",
              "    }\n",
              "\n",
              "    .colab-df-convert:hover {\n",
              "      background-color: #E2EBFA;\n",
              "      box-shadow: 0px 1px 2px rgba(60, 64, 67, 0.3), 0px 1px 3px 1px rgba(60, 64, 67, 0.15);\n",
              "      fill: #174EA6;\n",
              "    }\n",
              "\n",
              "    [theme=dark] .colab-df-convert {\n",
              "      background-color: #3B4455;\n",
              "      fill: #D2E3FC;\n",
              "    }\n",
              "\n",
              "    [theme=dark] .colab-df-convert:hover {\n",
              "      background-color: #434B5C;\n",
              "      box-shadow: 0px 1px 3px 1px rgba(0, 0, 0, 0.15);\n",
              "      filter: drop-shadow(0px 1px 2px rgba(0, 0, 0, 0.3));\n",
              "      fill: #FFFFFF;\n",
              "    }\n",
              "  </style>\n",
              "\n",
              "      <script>\n",
              "        const buttonEl =\n",
              "          document.querySelector('#df-d26040f2-22a3-48c0-b673-4c1b71f9a650 button.colab-df-convert');\n",
              "        buttonEl.style.display =\n",
              "          google.colab.kernel.accessAllowed ? 'block' : 'none';\n",
              "\n",
              "        async function convertToInteractive(key) {\n",
              "          const element = document.querySelector('#df-d26040f2-22a3-48c0-b673-4c1b71f9a650');\n",
              "          const dataTable =\n",
              "            await google.colab.kernel.invokeFunction('convertToInteractive',\n",
              "                                                     [key], {});\n",
              "          if (!dataTable) return;\n",
              "\n",
              "          const docLinkHtml = 'Like what you see? Visit the ' +\n",
              "            '<a target=\"_blank\" href=https://colab.research.google.com/notebooks/data_table.ipynb>data table notebook</a>'\n",
              "            + ' to learn more about interactive tables.';\n",
              "          element.innerHTML = '';\n",
              "          dataTable['output_type'] = 'display_data';\n",
              "          await google.colab.output.renderOutput(dataTable, element);\n",
              "          const docLink = document.createElement('div');\n",
              "          docLink.innerHTML = docLinkHtml;\n",
              "          element.appendChild(docLink);\n",
              "        }\n",
              "      </script>\n",
              "    </div>\n",
              "  </div>\n",
              "  "
            ]
          },
          "metadata": {},
          "execution_count": 8
        }
      ]
    },
    {
      "cell_type": "code",
      "source": [
        "# df_list.append(rb_sample.copy())\n",
        "# param_list.append(rb_param_sample.copy())"
      ],
      "metadata": {
        "id": "9jPakeTo8DRJ"
      },
      "id": "9jPakeTo8DRJ",
      "execution_count": null,
      "outputs": []
    },
    {
      "cell_type": "code",
      "source": [
        "# del rb_param_sample\n",
        "# del rb_sample\n",
        "# del rb_df\n",
        "# del rb_param_df"
      ],
      "metadata": {
        "id": "S9Hm7Xuh8bZl"
      },
      "id": "S9Hm7Xuh8bZl",
      "execution_count": null,
      "outputs": []
    },
    {
      "cell_type": "markdown",
      "id": "3c820129",
      "metadata": {
        "id": "3c820129"
      },
      "source": [
        "## Assembliere die verschiedenen Ergebnisse anhand der Koeffizientenfunktion"
      ]
    },
    {
      "cell_type": "code",
      "execution_count": null,
      "id": "060daaab",
      "metadata": {
        "id": "060daaab"
      },
      "outputs": [],
      "source": [
        "# Diesen Block nutzen falls es Speicherprobleme gibt. \n",
        "# Hier werden erst die Duplikate rausgeschmissen bevor die DataFrame verbunden werden.\n",
        "\n",
        "# df_base = df_list[0]\n",
        "# paramdf_base = param_list[0]\n",
        "# # value_counts_pre_drop = paramdf_base['coefficientType'].value_counts()\n",
        "\n",
        "# for df, param in zip(df_list[1:],param_list[1:]):\n",
        "#     # Hänge neuen Datensatz an\n",
        "#     print(df.shape)\n",
        "#     df_base = pd.concat([df_base,df], axis = 0, ignore_index = True)\n",
        "#     print(df_base.shape)\n",
        "#     # Bestimmte alle bisherigen Duplikate\n",
        "#     duplicate_rows = df_base.duplicated()\n",
        "#     # Entferne die Duplikate\n",
        "#     df_base = df_base.loc[~duplicate_rows,]\n",
        "#     print(df_base.shape)\n",
        "#     print(\"----\")\n",
        "#     # Hänge die neue Parameterliste an und entferne sofort die Duplikate\n",
        "#     paramdf_base = pd.concat([paramdf_base, param], axis = 0, ignore_index = True).loc[~duplicate_rows,]\n",
        "    \n",
        "    \n",
        "#   #  value_counts_pre_drop += paramdf_base['coefficientType'].value_counts()\n",
        "# #    paramdf_base = paramdf_base.loc[~duplicate_rows,]\n",
        "# #    value_counts_post_drop += paramdf_base['coefficientType'].value_counts()\n",
        "    \n",
        "# print(\"shape without duplicates: \")\n",
        "# print(df_base.shape)\n",
        "# print(paramdf_base.shape)"
      ]
    },
    {
      "cell_type": "code",
      "execution_count": null,
      "id": "40e44e45",
      "metadata": {
        "colab": {
          "base_uri": "https://localhost:8080/",
          "height": 270
        },
        "id": "40e44e45",
        "outputId": "3354f561-a368-4c70-cc11-74d64df4ece3"
      },
      "outputs": [
        {
          "output_type": "stream",
          "name": "stdout",
          "text": [
            "(238283, 4801)\n",
            "(238283, 3)\n"
          ]
        },
        {
          "output_type": "execute_result",
          "data": {
            "text/plain": [
              "   0     1     2     3     4     5     6     7     8     9     ...  4791  \\\n",
              "0     1     1     1     1     1     1     1     1     1     1  ...     0   \n",
              "1     1     1     1     1     1     1     1     1     1     1  ...     1   \n",
              "2     0     0     0     0     0     0     0     0     0     0  ...     0   \n",
              "3     1     1     1     1     1     1     1     1     1     1  ...     0   \n",
              "4     0     0     0     0     0     0     0     0     0     0  ...     1   \n",
              "\n",
              "   4792  4793  4794  4795  4796  4797  4798  4799  4800  \n",
              "0     0     0     0     0     0     0     0     0     0  \n",
              "1     1     1     1     1     1     1     1     1     0  \n",
              "2     0     0     0     0     0     0     0     0     0  \n",
              "3     0     0     0     0     0     0     0     0     0  \n",
              "4     1     1     1     1     1     1     1     1     0  \n",
              "\n",
              "[5 rows x 4801 columns]"
            ],
            "text/html": [
              "\n",
              "  <div id=\"df-cd9445c1-fbca-44e4-b670-499dc523b930\">\n",
              "    <div class=\"colab-df-container\">\n",
              "      <div>\n",
              "<style scoped>\n",
              "    .dataframe tbody tr th:only-of-type {\n",
              "        vertical-align: middle;\n",
              "    }\n",
              "\n",
              "    .dataframe tbody tr th {\n",
              "        vertical-align: top;\n",
              "    }\n",
              "\n",
              "    .dataframe thead th {\n",
              "        text-align: right;\n",
              "    }\n",
              "</style>\n",
              "<table border=\"1\" class=\"dataframe\">\n",
              "  <thead>\n",
              "    <tr style=\"text-align: right;\">\n",
              "      <th></th>\n",
              "      <th>0</th>\n",
              "      <th>1</th>\n",
              "      <th>2</th>\n",
              "      <th>3</th>\n",
              "      <th>4</th>\n",
              "      <th>5</th>\n",
              "      <th>6</th>\n",
              "      <th>7</th>\n",
              "      <th>8</th>\n",
              "      <th>9</th>\n",
              "      <th>...</th>\n",
              "      <th>4791</th>\n",
              "      <th>4792</th>\n",
              "      <th>4793</th>\n",
              "      <th>4794</th>\n",
              "      <th>4795</th>\n",
              "      <th>4796</th>\n",
              "      <th>4797</th>\n",
              "      <th>4798</th>\n",
              "      <th>4799</th>\n",
              "      <th>4800</th>\n",
              "    </tr>\n",
              "  </thead>\n",
              "  <tbody>\n",
              "    <tr>\n",
              "      <th>0</th>\n",
              "      <td>1</td>\n",
              "      <td>1</td>\n",
              "      <td>1</td>\n",
              "      <td>1</td>\n",
              "      <td>1</td>\n",
              "      <td>1</td>\n",
              "      <td>1</td>\n",
              "      <td>1</td>\n",
              "      <td>1</td>\n",
              "      <td>1</td>\n",
              "      <td>...</td>\n",
              "      <td>0</td>\n",
              "      <td>0</td>\n",
              "      <td>0</td>\n",
              "      <td>0</td>\n",
              "      <td>0</td>\n",
              "      <td>0</td>\n",
              "      <td>0</td>\n",
              "      <td>0</td>\n",
              "      <td>0</td>\n",
              "      <td>0</td>\n",
              "    </tr>\n",
              "    <tr>\n",
              "      <th>1</th>\n",
              "      <td>1</td>\n",
              "      <td>1</td>\n",
              "      <td>1</td>\n",
              "      <td>1</td>\n",
              "      <td>1</td>\n",
              "      <td>1</td>\n",
              "      <td>1</td>\n",
              "      <td>1</td>\n",
              "      <td>1</td>\n",
              "      <td>1</td>\n",
              "      <td>...</td>\n",
              "      <td>1</td>\n",
              "      <td>1</td>\n",
              "      <td>1</td>\n",
              "      <td>1</td>\n",
              "      <td>1</td>\n",
              "      <td>1</td>\n",
              "      <td>1</td>\n",
              "      <td>1</td>\n",
              "      <td>1</td>\n",
              "      <td>0</td>\n",
              "    </tr>\n",
              "    <tr>\n",
              "      <th>2</th>\n",
              "      <td>0</td>\n",
              "      <td>0</td>\n",
              "      <td>0</td>\n",
              "      <td>0</td>\n",
              "      <td>0</td>\n",
              "      <td>0</td>\n",
              "      <td>0</td>\n",
              "      <td>0</td>\n",
              "      <td>0</td>\n",
              "      <td>0</td>\n",
              "      <td>...</td>\n",
              "      <td>0</td>\n",
              "      <td>0</td>\n",
              "      <td>0</td>\n",
              "      <td>0</td>\n",
              "      <td>0</td>\n",
              "      <td>0</td>\n",
              "      <td>0</td>\n",
              "      <td>0</td>\n",
              "      <td>0</td>\n",
              "      <td>0</td>\n",
              "    </tr>\n",
              "    <tr>\n",
              "      <th>3</th>\n",
              "      <td>1</td>\n",
              "      <td>1</td>\n",
              "      <td>1</td>\n",
              "      <td>1</td>\n",
              "      <td>1</td>\n",
              "      <td>1</td>\n",
              "      <td>1</td>\n",
              "      <td>1</td>\n",
              "      <td>1</td>\n",
              "      <td>1</td>\n",
              "      <td>...</td>\n",
              "      <td>0</td>\n",
              "      <td>0</td>\n",
              "      <td>0</td>\n",
              "      <td>0</td>\n",
              "      <td>0</td>\n",
              "      <td>0</td>\n",
              "      <td>0</td>\n",
              "      <td>0</td>\n",
              "      <td>0</td>\n",
              "      <td>0</td>\n",
              "    </tr>\n",
              "    <tr>\n",
              "      <th>4</th>\n",
              "      <td>0</td>\n",
              "      <td>0</td>\n",
              "      <td>0</td>\n",
              "      <td>0</td>\n",
              "      <td>0</td>\n",
              "      <td>0</td>\n",
              "      <td>0</td>\n",
              "      <td>0</td>\n",
              "      <td>0</td>\n",
              "      <td>0</td>\n",
              "      <td>...</td>\n",
              "      <td>1</td>\n",
              "      <td>1</td>\n",
              "      <td>1</td>\n",
              "      <td>1</td>\n",
              "      <td>1</td>\n",
              "      <td>1</td>\n",
              "      <td>1</td>\n",
              "      <td>1</td>\n",
              "      <td>1</td>\n",
              "      <td>0</td>\n",
              "    </tr>\n",
              "  </tbody>\n",
              "</table>\n",
              "<p>5 rows × 4801 columns</p>\n",
              "</div>\n",
              "      <button class=\"colab-df-convert\" onclick=\"convertToInteractive('df-cd9445c1-fbca-44e4-b670-499dc523b930')\"\n",
              "              title=\"Convert this dataframe to an interactive table.\"\n",
              "              style=\"display:none;\">\n",
              "        \n",
              "  <svg xmlns=\"http://www.w3.org/2000/svg\" height=\"24px\"viewBox=\"0 0 24 24\"\n",
              "       width=\"24px\">\n",
              "    <path d=\"M0 0h24v24H0V0z\" fill=\"none\"/>\n",
              "    <path d=\"M18.56 5.44l.94 2.06.94-2.06 2.06-.94-2.06-.94-.94-2.06-.94 2.06-2.06.94zm-11 1L8.5 8.5l.94-2.06 2.06-.94-2.06-.94L8.5 2.5l-.94 2.06-2.06.94zm10 10l.94 2.06.94-2.06 2.06-.94-2.06-.94-.94-2.06-.94 2.06-2.06.94z\"/><path d=\"M17.41 7.96l-1.37-1.37c-.4-.4-.92-.59-1.43-.59-.52 0-1.04.2-1.43.59L10.3 9.45l-7.72 7.72c-.78.78-.78 2.05 0 2.83L4 21.41c.39.39.9.59 1.41.59.51 0 1.02-.2 1.41-.59l7.78-7.78 2.81-2.81c.8-.78.8-2.07 0-2.86zM5.41 20L4 18.59l7.72-7.72 1.47 1.35L5.41 20z\"/>\n",
              "  </svg>\n",
              "      </button>\n",
              "      \n",
              "  <style>\n",
              "    .colab-df-container {\n",
              "      display:flex;\n",
              "      flex-wrap:wrap;\n",
              "      gap: 12px;\n",
              "    }\n",
              "\n",
              "    .colab-df-convert {\n",
              "      background-color: #E8F0FE;\n",
              "      border: none;\n",
              "      border-radius: 50%;\n",
              "      cursor: pointer;\n",
              "      display: none;\n",
              "      fill: #1967D2;\n",
              "      height: 32px;\n",
              "      padding: 0 0 0 0;\n",
              "      width: 32px;\n",
              "    }\n",
              "\n",
              "    .colab-df-convert:hover {\n",
              "      background-color: #E2EBFA;\n",
              "      box-shadow: 0px 1px 2px rgba(60, 64, 67, 0.3), 0px 1px 3px 1px rgba(60, 64, 67, 0.15);\n",
              "      fill: #174EA6;\n",
              "    }\n",
              "\n",
              "    [theme=dark] .colab-df-convert {\n",
              "      background-color: #3B4455;\n",
              "      fill: #D2E3FC;\n",
              "    }\n",
              "\n",
              "    [theme=dark] .colab-df-convert:hover {\n",
              "      background-color: #434B5C;\n",
              "      box-shadow: 0px 1px 3px 1px rgba(0, 0, 0, 0.15);\n",
              "      filter: drop-shadow(0px 1px 2px rgba(0, 0, 0, 0.3));\n",
              "      fill: #FFFFFF;\n",
              "    }\n",
              "  </style>\n",
              "\n",
              "      <script>\n",
              "        const buttonEl =\n",
              "          document.querySelector('#df-cd9445c1-fbca-44e4-b670-499dc523b930 button.colab-df-convert');\n",
              "        buttonEl.style.display =\n",
              "          google.colab.kernel.accessAllowed ? 'block' : 'none';\n",
              "\n",
              "        async function convertToInteractive(key) {\n",
              "          const element = document.querySelector('#df-cd9445c1-fbca-44e4-b670-499dc523b930');\n",
              "          const dataTable =\n",
              "            await google.colab.kernel.invokeFunction('convertToInteractive',\n",
              "                                                     [key], {});\n",
              "          if (!dataTable) return;\n",
              "\n",
              "          const docLinkHtml = 'Like what you see? Visit the ' +\n",
              "            '<a target=\"_blank\" href=https://colab.research.google.com/notebooks/data_table.ipynb>data table notebook</a>'\n",
              "            + ' to learn more about interactive tables.';\n",
              "          element.innerHTML = '';\n",
              "          dataTable['output_type'] = 'display_data';\n",
              "          await google.colab.output.renderOutput(dataTable, element);\n",
              "          const docLink = document.createElement('div');\n",
              "          docLink.innerHTML = docLinkHtml;\n",
              "          element.appendChild(docLink);\n",
              "        }\n",
              "      </script>\n",
              "    </div>\n",
              "  </div>\n",
              "  "
            ]
          },
          "metadata": {},
          "execution_count": 18
        }
      ],
      "source": [
        "df_base = pd.concat(df_list,axis = 0,ignore_index = True)\n",
        "paramdf_base = pd.concat(param_list,axis = 0,ignore_index = True)\n",
        "\n",
        "print(df_base.shape)\n",
        "print(paramdf_base.shape)\n",
        "df_base.head()"
      ]
    },
    {
      "cell_type": "code",
      "execution_count": null,
      "id": "ab57d264",
      "metadata": {
        "id": "ab57d264"
      },
      "outputs": [],
      "source": [
        "del df_list\n",
        "del param_list"
      ]
    },
    {
      "cell_type": "code",
      "execution_count": null,
      "id": "cbd20b1a",
      "metadata": {
        "colab": {
          "base_uri": "https://localhost:8080/"
        },
        "id": "cbd20b1a",
        "outputId": "7f5f7fbe-6f5a-4d76-de99-9b2e733686bb"
      },
      "outputs": [
        {
          "output_type": "stream",
          "name": "stdout",
          "text": [
            "Random Blocks        103403\n",
            "Blocks                49222\n",
            "StripesNBlocks        39976\n",
            "Completely Random     27240\n",
            "Strip                 18348\n",
            "Constant                 94\n",
            "Name: coefficientType, dtype: int64\n"
          ]
        }
      ],
      "source": [
        "# Zähle Koeffizientenfunktionen\n",
        "value_counts_pre_drop = paramdf_base['coefficientType'].value_counts()\n",
        "print(value_counts_pre_drop)"
      ]
    },
    {
      "cell_type": "code",
      "execution_count": null,
      "id": "19fcd0be",
      "metadata": {
        "colab": {
          "base_uri": "https://localhost:8080/"
        },
        "id": "19fcd0be",
        "outputId": "b896dbd8-43d0-4205-8610-a2902b7206e8"
      },
      "outputs": [
        {
          "output_type": "stream",
          "name": "stdout",
          "text": [
            "shape with duplicates: \n",
            "(238283, 4801)\n",
            "shape without duplicates: \n",
            "(130208, 4801)\n",
            "Percentage of datapoints lost: 45.35573246937465\\%\n",
            "Random Blocks        65186\n",
            "Blocks               26510\n",
            "StripesNBlocks       18828\n",
            "Completely Random    18444\n",
            "Strip                 1236\n",
            "Constant                 4\n",
            "Name: coefficientType, dtype: int64\n"
          ]
        }
      ],
      "source": [
        "# Schmeiße die Duplikate\n",
        "duplicate_rows = df_base.duplicated()\n",
        "print(\"shape with duplicates: \")\n",
        "print(df_base.shape)\n",
        "df_base = df_base.loc[~duplicate_rows,]\n",
        "paramdf_base = paramdf_base.loc[~duplicate_rows,]\n",
        "print(\"shape without duplicates: \")\n",
        "print(df_base.shape)\n",
        "print(\"Percentage of datapoints lost: \" + str((100*sum(duplicate_rows)/len(duplicate_rows))) + \"\\%\")\n",
        "value_counts_post_drop = paramdf_base['coefficientType'].value_counts()\n",
        "print(value_counts_post_drop)"
      ]
    },
    {
      "cell_type": "code",
      "execution_count": null,
      "id": "dd2feee2",
      "metadata": {
        "colab": {
          "base_uri": "https://localhost:8080/"
        },
        "id": "dd2feee2",
        "outputId": "f0b47943-0c79-4811-d472-eee54c1237f0"
      },
      "outputs": [
        {
          "output_type": "stream",
          "name": "stdout",
          "text": [
            "Random Blocks       -38217\n",
            "Blocks              -22712\n",
            "StripesNBlocks      -21148\n",
            "Completely Random    -8796\n",
            "Strip               -17112\n",
            "Constant               -90\n",
            "Name: coefficientType, dtype: int64\n"
          ]
        }
      ],
      "source": [
        "# Anzahl verloren gegangener Trainingspunkten\n",
        "print(value_counts_post_drop-value_counts_pre_drop)"
      ]
    },
    {
      "cell_type": "code",
      "execution_count": null,
      "id": "20256202",
      "metadata": {
        "id": "20256202"
      },
      "outputs": [],
      "source": [
        "# value_counts_post_drop = paramdf_base['coefficientType'].value_counts()\n",
        "# print(value_counts_post_drop)"
      ]
    },
    {
      "cell_type": "code",
      "source": [
        "# Exportiere Trainingsdaten\n",
        "df_base.to_csv(os.path.join(train_data_path, \"collection4_train_data_dump.csv\"),index = False, header = False)\n",
        "# Exportiere zugehörige Parameter\n",
        "paramdf_base.to_csv(os.path.join(train_data_path, \"collection4_parameter_dump.csv\"),index = False, header = True)"
      ],
      "metadata": {
        "id": "eUBRYxxx__Xb"
      },
      "id": "eUBRYxxx__Xb",
      "execution_count": null,
      "outputs": []
    },
    {
      "cell_type": "code",
      "execution_count": null,
      "id": "9fd25741",
      "metadata": {
        "colab": {
          "base_uri": "https://localhost:8080/",
          "height": 235
        },
        "id": "9fd25741",
        "outputId": "e8b9e8d6-807c-4cb6-dfb9-699618c0996f"
      },
      "outputs": [
        {
          "output_type": "execute_result",
          "data": {
            "text/plain": [
              "  coefficientType                                     parameterNames  \\\n",
              "0        Constant  affectedSubdomains,rhoMin,rhoMax,indexShiftx,i...   \n",
              "1        Constant  affectedSubdomains,rhoMin,rhoMax,indexShiftx,i...   \n",
              "2        Constant  affectedSubdomains,rhoMin,rhoMax,indexShiftx,i...   \n",
              "4        Constant  affectedSubdomains,rhoMin,rhoMax,indexShiftx,i...   \n",
              "8           Strip           height,nStrips,rhoMin,rhoMax,indexShifty   \n",
              "\n",
              "         parameterValues  0  1  2  3  4  5  6  ...  4791  4792  4793  4794  \\\n",
              "0  6,10,1,1000000,0,0,,,  1  1  1  1  1  1  1  ...     0     0     0     0   \n",
              "1  6,10,1,1000000,0,0,,,  1  1  1  1  1  1  1  ...     1     1     1     1   \n",
              "2  6,10,1,1000000,0,0,,,  0  0  0  0  0  0  0  ...     0     0     0     0   \n",
              "4  6,10,1000000,1,0,0,,,  0  0  0  0  0  0  0  ...     1     1     1     1   \n",
              "8   -2,4,1000000,1,8,,,,  1  0  1  1  1  1  1  ...     1     0     1     1   \n",
              "\n",
              "   4795  4796  4797  4798  4799  4800  \n",
              "0     0     0     0     0     0     0  \n",
              "1     1     1     1     1     1     0  \n",
              "2     0     0     0     0     0     0  \n",
              "4     1     1     1     1     1     0  \n",
              "8     1     1     1     1     1     1  \n",
              "\n",
              "[5 rows x 4804 columns]"
            ],
            "text/html": [
              "\n",
              "  <div id=\"df-e83fd5b4-c434-44a3-8dee-40ff8189abdd\">\n",
              "    <div class=\"colab-df-container\">\n",
              "      <div>\n",
              "<style scoped>\n",
              "    .dataframe tbody tr th:only-of-type {\n",
              "        vertical-align: middle;\n",
              "    }\n",
              "\n",
              "    .dataframe tbody tr th {\n",
              "        vertical-align: top;\n",
              "    }\n",
              "\n",
              "    .dataframe thead th {\n",
              "        text-align: right;\n",
              "    }\n",
              "</style>\n",
              "<table border=\"1\" class=\"dataframe\">\n",
              "  <thead>\n",
              "    <tr style=\"text-align: right;\">\n",
              "      <th></th>\n",
              "      <th>coefficientType</th>\n",
              "      <th>parameterNames</th>\n",
              "      <th>parameterValues</th>\n",
              "      <th>0</th>\n",
              "      <th>1</th>\n",
              "      <th>2</th>\n",
              "      <th>3</th>\n",
              "      <th>4</th>\n",
              "      <th>5</th>\n",
              "      <th>6</th>\n",
              "      <th>...</th>\n",
              "      <th>4791</th>\n",
              "      <th>4792</th>\n",
              "      <th>4793</th>\n",
              "      <th>4794</th>\n",
              "      <th>4795</th>\n",
              "      <th>4796</th>\n",
              "      <th>4797</th>\n",
              "      <th>4798</th>\n",
              "      <th>4799</th>\n",
              "      <th>4800</th>\n",
              "    </tr>\n",
              "  </thead>\n",
              "  <tbody>\n",
              "    <tr>\n",
              "      <th>0</th>\n",
              "      <td>Constant</td>\n",
              "      <td>affectedSubdomains,rhoMin,rhoMax,indexShiftx,i...</td>\n",
              "      <td>6,10,1,1000000,0,0,,,</td>\n",
              "      <td>1</td>\n",
              "      <td>1</td>\n",
              "      <td>1</td>\n",
              "      <td>1</td>\n",
              "      <td>1</td>\n",
              "      <td>1</td>\n",
              "      <td>1</td>\n",
              "      <td>...</td>\n",
              "      <td>0</td>\n",
              "      <td>0</td>\n",
              "      <td>0</td>\n",
              "      <td>0</td>\n",
              "      <td>0</td>\n",
              "      <td>0</td>\n",
              "      <td>0</td>\n",
              "      <td>0</td>\n",
              "      <td>0</td>\n",
              "      <td>0</td>\n",
              "    </tr>\n",
              "    <tr>\n",
              "      <th>1</th>\n",
              "      <td>Constant</td>\n",
              "      <td>affectedSubdomains,rhoMin,rhoMax,indexShiftx,i...</td>\n",
              "      <td>6,10,1,1000000,0,0,,,</td>\n",
              "      <td>1</td>\n",
              "      <td>1</td>\n",
              "      <td>1</td>\n",
              "      <td>1</td>\n",
              "      <td>1</td>\n",
              "      <td>1</td>\n",
              "      <td>1</td>\n",
              "      <td>...</td>\n",
              "      <td>1</td>\n",
              "      <td>1</td>\n",
              "      <td>1</td>\n",
              "      <td>1</td>\n",
              "      <td>1</td>\n",
              "      <td>1</td>\n",
              "      <td>1</td>\n",
              "      <td>1</td>\n",
              "      <td>1</td>\n",
              "      <td>0</td>\n",
              "    </tr>\n",
              "    <tr>\n",
              "      <th>2</th>\n",
              "      <td>Constant</td>\n",
              "      <td>affectedSubdomains,rhoMin,rhoMax,indexShiftx,i...</td>\n",
              "      <td>6,10,1,1000000,0,0,,,</td>\n",
              "      <td>0</td>\n",
              "      <td>0</td>\n",
              "      <td>0</td>\n",
              "      <td>0</td>\n",
              "      <td>0</td>\n",
              "      <td>0</td>\n",
              "      <td>0</td>\n",
              "      <td>...</td>\n",
              "      <td>0</td>\n",
              "      <td>0</td>\n",
              "      <td>0</td>\n",
              "      <td>0</td>\n",
              "      <td>0</td>\n",
              "      <td>0</td>\n",
              "      <td>0</td>\n",
              "      <td>0</td>\n",
              "      <td>0</td>\n",
              "      <td>0</td>\n",
              "    </tr>\n",
              "    <tr>\n",
              "      <th>4</th>\n",
              "      <td>Constant</td>\n",
              "      <td>affectedSubdomains,rhoMin,rhoMax,indexShiftx,i...</td>\n",
              "      <td>6,10,1000000,1,0,0,,,</td>\n",
              "      <td>0</td>\n",
              "      <td>0</td>\n",
              "      <td>0</td>\n",
              "      <td>0</td>\n",
              "      <td>0</td>\n",
              "      <td>0</td>\n",
              "      <td>0</td>\n",
              "      <td>...</td>\n",
              "      <td>1</td>\n",
              "      <td>1</td>\n",
              "      <td>1</td>\n",
              "      <td>1</td>\n",
              "      <td>1</td>\n",
              "      <td>1</td>\n",
              "      <td>1</td>\n",
              "      <td>1</td>\n",
              "      <td>1</td>\n",
              "      <td>0</td>\n",
              "    </tr>\n",
              "    <tr>\n",
              "      <th>8</th>\n",
              "      <td>Strip</td>\n",
              "      <td>height,nStrips,rhoMin,rhoMax,indexShifty</td>\n",
              "      <td>-2,4,1000000,1,8,,,,</td>\n",
              "      <td>1</td>\n",
              "      <td>0</td>\n",
              "      <td>1</td>\n",
              "      <td>1</td>\n",
              "      <td>1</td>\n",
              "      <td>1</td>\n",
              "      <td>1</td>\n",
              "      <td>...</td>\n",
              "      <td>1</td>\n",
              "      <td>0</td>\n",
              "      <td>1</td>\n",
              "      <td>1</td>\n",
              "      <td>1</td>\n",
              "      <td>1</td>\n",
              "      <td>1</td>\n",
              "      <td>1</td>\n",
              "      <td>1</td>\n",
              "      <td>1</td>\n",
              "    </tr>\n",
              "  </tbody>\n",
              "</table>\n",
              "<p>5 rows × 4804 columns</p>\n",
              "</div>\n",
              "      <button class=\"colab-df-convert\" onclick=\"convertToInteractive('df-e83fd5b4-c434-44a3-8dee-40ff8189abdd')\"\n",
              "              title=\"Convert this dataframe to an interactive table.\"\n",
              "              style=\"display:none;\">\n",
              "        \n",
              "  <svg xmlns=\"http://www.w3.org/2000/svg\" height=\"24px\"viewBox=\"0 0 24 24\"\n",
              "       width=\"24px\">\n",
              "    <path d=\"M0 0h24v24H0V0z\" fill=\"none\"/>\n",
              "    <path d=\"M18.56 5.44l.94 2.06.94-2.06 2.06-.94-2.06-.94-.94-2.06-.94 2.06-2.06.94zm-11 1L8.5 8.5l.94-2.06 2.06-.94-2.06-.94L8.5 2.5l-.94 2.06-2.06.94zm10 10l.94 2.06.94-2.06 2.06-.94-2.06-.94-.94-2.06-.94 2.06-2.06.94z\"/><path d=\"M17.41 7.96l-1.37-1.37c-.4-.4-.92-.59-1.43-.59-.52 0-1.04.2-1.43.59L10.3 9.45l-7.72 7.72c-.78.78-.78 2.05 0 2.83L4 21.41c.39.39.9.59 1.41.59.51 0 1.02-.2 1.41-.59l7.78-7.78 2.81-2.81c.8-.78.8-2.07 0-2.86zM5.41 20L4 18.59l7.72-7.72 1.47 1.35L5.41 20z\"/>\n",
              "  </svg>\n",
              "      </button>\n",
              "      \n",
              "  <style>\n",
              "    .colab-df-container {\n",
              "      display:flex;\n",
              "      flex-wrap:wrap;\n",
              "      gap: 12px;\n",
              "    }\n",
              "\n",
              "    .colab-df-convert {\n",
              "      background-color: #E8F0FE;\n",
              "      border: none;\n",
              "      border-radius: 50%;\n",
              "      cursor: pointer;\n",
              "      display: none;\n",
              "      fill: #1967D2;\n",
              "      height: 32px;\n",
              "      padding: 0 0 0 0;\n",
              "      width: 32px;\n",
              "    }\n",
              "\n",
              "    .colab-df-convert:hover {\n",
              "      background-color: #E2EBFA;\n",
              "      box-shadow: 0px 1px 2px rgba(60, 64, 67, 0.3), 0px 1px 3px 1px rgba(60, 64, 67, 0.15);\n",
              "      fill: #174EA6;\n",
              "    }\n",
              "\n",
              "    [theme=dark] .colab-df-convert {\n",
              "      background-color: #3B4455;\n",
              "      fill: #D2E3FC;\n",
              "    }\n",
              "\n",
              "    [theme=dark] .colab-df-convert:hover {\n",
              "      background-color: #434B5C;\n",
              "      box-shadow: 0px 1px 3px 1px rgba(0, 0, 0, 0.15);\n",
              "      filter: drop-shadow(0px 1px 2px rgba(0, 0, 0, 0.3));\n",
              "      fill: #FFFFFF;\n",
              "    }\n",
              "  </style>\n",
              "\n",
              "      <script>\n",
              "        const buttonEl =\n",
              "          document.querySelector('#df-e83fd5b4-c434-44a3-8dee-40ff8189abdd button.colab-df-convert');\n",
              "        buttonEl.style.display =\n",
              "          google.colab.kernel.accessAllowed ? 'block' : 'none';\n",
              "\n",
              "        async function convertToInteractive(key) {\n",
              "          const element = document.querySelector('#df-e83fd5b4-c434-44a3-8dee-40ff8189abdd');\n",
              "          const dataTable =\n",
              "            await google.colab.kernel.invokeFunction('convertToInteractive',\n",
              "                                                     [key], {});\n",
              "          if (!dataTable) return;\n",
              "\n",
              "          const docLinkHtml = 'Like what you see? Visit the ' +\n",
              "            '<a target=\"_blank\" href=https://colab.research.google.com/notebooks/data_table.ipynb>data table notebook</a>'\n",
              "            + ' to learn more about interactive tables.';\n",
              "          element.innerHTML = '';\n",
              "          dataTable['output_type'] = 'display_data';\n",
              "          await google.colab.output.renderOutput(dataTable, element);\n",
              "          const docLink = document.createElement('div');\n",
              "          docLink.innerHTML = docLinkHtml;\n",
              "          element.appendChild(docLink);\n",
              "        }\n",
              "      </script>\n",
              "    </div>\n",
              "  </div>\n",
              "  "
            ]
          },
          "metadata": {},
          "execution_count": 24
        }
      ],
      "source": [
        "df_base = pd.concat([paramdf_base,df_base], axis=1)\n",
        "df_base.head()"
      ]
    },
    {
      "cell_type": "markdown",
      "id": "2766b16f",
      "metadata": {
        "id": "2766b16f"
      },
      "source": [
        "### Konstante Koeffizienten"
      ]
    },
    {
      "cell_type": "code",
      "execution_count": null,
      "id": "2acf3ec5",
      "metadata": {
        "colab": {
          "base_uri": "https://localhost:8080/"
        },
        "id": "2acf3ec5",
        "outputId": "12ab1bf4-cdc2-43ba-ac5c-5934bb49a10c"
      },
      "outputs": [
        {
          "output_type": "stream",
          "name": "stdout",
          "text": [
            "(4, 4804)\n"
          ]
        }
      ],
      "source": [
        "# coeff_fun_names = [\"Constant\",\"Strip\",\"Blocks\",\"Random Blocks\",\"Completely Random\",\"StripesNBlocks\"]\n",
        "df_constant = df_base.loc[df_base['coefficientType'] == \"Constant\",]\n",
        "print(df_constant.shape)"
      ]
    },
    {
      "cell_type": "code",
      "execution_count": null,
      "id": "eead7606",
      "metadata": {
        "colab": {
          "base_uri": "https://localhost:8080/"
        },
        "id": "eead7606",
        "outputId": "a7020114-0df0-477b-a2a9-1b9bd22ddcf0"
      },
      "outputs": [
        {
          "output_type": "execute_result",
          "data": {
            "text/plain": [
              "count    4.0\n",
              "mean     0.0\n",
              "std      0.0\n",
              "min      0.0\n",
              "25%      0.0\n",
              "50%      0.0\n",
              "75%      0.0\n",
              "max      0.0\n",
              "Name: 4800, dtype: float64"
            ]
          },
          "metadata": {},
          "execution_count": 26
        }
      ],
      "source": [
        "df_constant.iloc[:,-1].describe()"
      ]
    },
    {
      "cell_type": "markdown",
      "id": "2c1dd4b3",
      "metadata": {
        "id": "2c1dd4b3"
      },
      "source": [
        "### Streifen Koeffizientenfunktion"
      ]
    },
    {
      "cell_type": "code",
      "execution_count": null,
      "id": "a6a23df6",
      "metadata": {
        "colab": {
          "base_uri": "https://localhost:8080/"
        },
        "id": "a6a23df6",
        "outputId": "565f6185-da3d-452e-acc6-93ef7024e4ff"
      },
      "outputs": [
        {
          "output_type": "stream",
          "name": "stdout",
          "text": [
            "(1236, 4804)\n"
          ]
        }
      ],
      "source": [
        "# coeff_fun_names = [\"Constant\",\"Strip\",\"Blocks\",\"Random Blocks\",\"Completely Random\",\"StripesNBlocks\"]\n",
        "df_strip = df_base.loc[df_base['coefficientType'] == \"Strip\",]\n",
        "print(df_strip.shape)"
      ]
    },
    {
      "cell_type": "code",
      "execution_count": null,
      "id": "d92ae536",
      "metadata": {
        "colab": {
          "base_uri": "https://localhost:8080/"
        },
        "id": "d92ae536",
        "outputId": "acac87dc-8caa-495c-a66d-51f69efb460f"
      },
      "outputs": [
        {
          "output_type": "execute_result",
          "data": {
            "text/plain": [
              "count    1236.000000\n",
              "mean        0.472492\n",
              "std         0.499445\n",
              "min         0.000000\n",
              "25%         0.000000\n",
              "50%         0.000000\n",
              "75%         1.000000\n",
              "max         1.000000\n",
              "Name: 4800, dtype: float64"
            ]
          },
          "metadata": {},
          "execution_count": 28
        }
      ],
      "source": [
        "df_strip.iloc[:,-1].describe()"
      ]
    },
    {
      "cell_type": "markdown",
      "id": "bf8f311c",
      "metadata": {
        "id": "bf8f311c"
      },
      "source": [
        "### Block Koeffizientenfunktion"
      ]
    },
    {
      "cell_type": "code",
      "execution_count": null,
      "id": "ef2779e9",
      "metadata": {
        "colab": {
          "base_uri": "https://localhost:8080/"
        },
        "id": "ef2779e9",
        "outputId": "3136d850-421c-4747-8ae0-9157213a96b2"
      },
      "outputs": [
        {
          "output_type": "stream",
          "name": "stdout",
          "text": [
            "(26510, 4804)\n"
          ]
        }
      ],
      "source": [
        "# coeff_fun_names = [\"Constant\",\"Strip\",\"Blocks\",\"Random Blocks\",\"Completely Random\",\"StripesNBlocks\"]\n",
        "df_blocks = df_base.loc[df_base['coefficientType'] == \"Blocks\",]\n",
        "print(df_blocks.shape)"
      ]
    },
    {
      "cell_type": "code",
      "execution_count": null,
      "id": "32a93241",
      "metadata": {
        "colab": {
          "base_uri": "https://localhost:8080/"
        },
        "id": "32a93241",
        "outputId": "523e1d5c-dfba-4ba9-9945-251f8792f814"
      },
      "outputs": [
        {
          "output_type": "execute_result",
          "data": {
            "text/plain": [
              "count    26510.000000\n",
              "mean         0.116220\n",
              "std          0.320495\n",
              "min          0.000000\n",
              "25%          0.000000\n",
              "50%          0.000000\n",
              "75%          0.000000\n",
              "max          1.000000\n",
              "Name: 4800, dtype: float64"
            ]
          },
          "metadata": {},
          "execution_count": 30
        }
      ],
      "source": [
        "df_blocks.iloc[:,-1].describe()"
      ]
    },
    {
      "cell_type": "markdown",
      "id": "90e65ff9",
      "metadata": {
        "id": "90e65ff9"
      },
      "source": [
        "### Random Block Koeffizientenfunktion"
      ]
    },
    {
      "cell_type": "code",
      "execution_count": null,
      "id": "4be7a7de",
      "metadata": {
        "colab": {
          "base_uri": "https://localhost:8080/"
        },
        "id": "4be7a7de",
        "outputId": "5c9ddedf-e6ed-4279-d333-a1da0c805f42"
      },
      "outputs": [
        {
          "output_type": "stream",
          "name": "stdout",
          "text": [
            "(65186, 4804)\n"
          ]
        }
      ],
      "source": [
        "# coeff_fun_names = [\"Constant\",\"Strip\",\"Blocks\",\"Random Blocks\",\"Completely Random\",\"StripesNBlocks\"]\n",
        "df_randBlocks = df_base.loc[paramdf_base['coefficientType'] == \"Random Blocks\",]\n",
        "print(df_randBlocks.shape)"
      ]
    },
    {
      "cell_type": "code",
      "execution_count": null,
      "id": "2afb4192",
      "metadata": {
        "colab": {
          "base_uri": "https://localhost:8080/"
        },
        "id": "2afb4192",
        "outputId": "72389cd4-6217-49c4-b498-89cf22147424"
      },
      "outputs": [
        {
          "output_type": "execute_result",
          "data": {
            "text/plain": [
              "count    65186.000000\n",
              "mean         0.045086\n",
              "std          0.207495\n",
              "min          0.000000\n",
              "25%          0.000000\n",
              "50%          0.000000\n",
              "75%          0.000000\n",
              "max          1.000000\n",
              "Name: 4800, dtype: float64"
            ]
          },
          "metadata": {},
          "execution_count": 32
        }
      ],
      "source": [
        "df_randBlocks.iloc[:,-1].describe()"
      ]
    },
    {
      "cell_type": "markdown",
      "id": "4c57ef6f",
      "metadata": {
        "id": "4c57ef6f"
      },
      "source": [
        "### Random Koeffizientenfunktion"
      ]
    },
    {
      "cell_type": "code",
      "execution_count": null,
      "id": "ea5a71c0",
      "metadata": {
        "colab": {
          "base_uri": "https://localhost:8080/"
        },
        "id": "ea5a71c0",
        "outputId": "bfd8c084-8df0-473d-9c46-d6c0e98e8d9a"
      },
      "outputs": [
        {
          "output_type": "stream",
          "name": "stdout",
          "text": [
            "(18828, 4804)\n"
          ]
        }
      ],
      "source": [
        "# coeff_fun_names = [\"Constant\",\"Strip\",\"Blocks\",\"Random Blocks\",\"Completely Random\",\"StripesNBlocks\"]\n",
        "df_random = df_base.loc[paramdf_base['coefficientType'] == \"StripesNBlocks\",]\n",
        "print(df_random.shape)"
      ]
    },
    {
      "cell_type": "code",
      "execution_count": null,
      "id": "10a2ba1b",
      "metadata": {
        "colab": {
          "base_uri": "https://localhost:8080/"
        },
        "id": "10a2ba1b",
        "outputId": "44e800b6-acb9-4926-c54c-468c3f95b944"
      },
      "outputs": [
        {
          "output_type": "execute_result",
          "data": {
            "text/plain": [
              "count    18828.000000\n",
              "mean         0.411993\n",
              "std          0.492207\n",
              "min          0.000000\n",
              "25%          0.000000\n",
              "50%          0.000000\n",
              "75%          1.000000\n",
              "max          1.000000\n",
              "Name: 4800, dtype: float64"
            ]
          },
          "metadata": {},
          "execution_count": 34
        }
      ],
      "source": [
        "df_random.iloc[:,-1].describe()"
      ]
    },
    {
      "cell_type": "markdown",
      "id": "e348f6ea",
      "metadata": {
        "id": "e348f6ea"
      },
      "source": [
        "### Stripes and Blocks"
      ]
    },
    {
      "cell_type": "code",
      "execution_count": null,
      "id": "d777409f",
      "metadata": {
        "colab": {
          "base_uri": "https://localhost:8080/"
        },
        "id": "d777409f",
        "outputId": "34539883-92a6-47a2-c26f-e719d8a7d137"
      },
      "outputs": [
        {
          "output_type": "stream",
          "name": "stdout",
          "text": [
            "(18828, 4804)\n"
          ]
        }
      ],
      "source": [
        "# coeff_fun_names = [\"Constant\",\"Strip\",\"Blocks\",\"Random Blocks\",\"Completely Random\",\"StripesNBlocks\"]\n",
        "df_stripsNBlocks = df_base.loc[paramdf_base['coefficientType'] == \"StripesNBlocks\",]\n",
        "print(df_stripsNBlocks.shape)"
      ]
    },
    {
      "cell_type": "code",
      "execution_count": null,
      "id": "7ee6d5b2",
      "metadata": {
        "colab": {
          "base_uri": "https://localhost:8080/"
        },
        "id": "7ee6d5b2",
        "outputId": "b5163f71-5822-42b6-a372-6425760cd925"
      },
      "outputs": [
        {
          "output_type": "execute_result",
          "data": {
            "text/plain": [
              "count    18828.000000\n",
              "mean         0.411993\n",
              "std          0.492207\n",
              "min          0.000000\n",
              "25%          0.000000\n",
              "50%          0.000000\n",
              "75%          1.000000\n",
              "max          1.000000\n",
              "Name: 4800, dtype: float64"
            ]
          },
          "metadata": {},
          "execution_count": 36
        }
      ],
      "source": [
        "df_stripsNBlocks.iloc[:,-1].describe()"
      ]
    },
    {
      "cell_type": "code",
      "execution_count": null,
      "id": "71eb646e",
      "metadata": {
        "id": "71eb646e"
      },
      "outputs": [],
      "source": [
        "del df_base"
      ]
    },
    {
      "cell_type": "markdown",
      "id": "8de089a7",
      "metadata": {
        "id": "8de089a7"
      },
      "source": [
        "## Datensatz zusammensetzen"
      ]
    },
    {
      "cell_type": "code",
      "execution_count": null,
      "id": "a4b13816",
      "metadata": {
        "id": "a4b13816"
      },
      "outputs": [],
      "source": [
        "randomState = 0\n",
        "shareConstant = 1\n",
        "shareStrip = 1\n",
        "shareBlocks = 0.3\n",
        "shareRandBlocks = 0.3\n",
        "shareRand = 0\n",
        "shareStripsNBlocks = 0.5"
      ]
    },
    {
      "cell_type": "code",
      "execution_count": null,
      "id": "f08617ca",
      "metadata": {
        "colab": {
          "base_uri": "https://localhost:8080/",
          "height": 253
        },
        "id": "f08617ca",
        "outputId": "e01675af-a6c8-453a-bb94-92c3eb800454"
      },
      "outputs": [
        {
          "output_type": "stream",
          "name": "stdout",
          "text": [
            "(38163, 4804)\n"
          ]
        },
        {
          "output_type": "execute_result",
          "data": {
            "text/plain": [
              "  coefficientType                                     parameterNames  \\\n",
              "0        Constant  affectedSubdomains,rhoMin,rhoMax,indexShiftx,i...   \n",
              "1        Constant  affectedSubdomains,rhoMin,rhoMax,indexShiftx,i...   \n",
              "2        Constant  affectedSubdomains,rhoMin,rhoMax,indexShiftx,i...   \n",
              "3        Constant  affectedSubdomains,rhoMin,rhoMax,indexShiftx,i...   \n",
              "4           Strip           height,nStrips,rhoMin,rhoMax,indexShifty   \n",
              "\n",
              "         parameterValues  0  1  2  3  4  5  6  ...  4791  4792  4793  4794  \\\n",
              "0  6,10,1,1000000,0,0,,,  0  0  0  0  0  0  0  ...     0     0     0     0   \n",
              "1  6,10,1000000,1,0,0,,,  0  0  0  0  0  0  0  ...     1     1     1     1   \n",
              "2  6,10,1,1000000,0,0,,,  1  1  1  1  1  1  1  ...     1     1     1     1   \n",
              "3  6,10,1,1000000,0,0,,,  1  1  1  1  1  1  1  ...     0     0     0     0   \n",
              "4   3,4,1,1000000,12,,,,  0  0  0  0  0  0  0  ...     1     1     1     1   \n",
              "\n",
              "   4795  4796  4797  4798  4799  4800  \n",
              "0     0     0     0     0     0     0  \n",
              "1     1     1     1     1     1     0  \n",
              "2     1     1     1     1     1     0  \n",
              "3     0     0     0     0     0     0  \n",
              "4     1     1     1     1     1     0  \n",
              "\n",
              "[5 rows x 4804 columns]"
            ],
            "text/html": [
              "\n",
              "  <div id=\"df-a2b9f736-c139-46fb-bb6e-bd11d4bf799b\">\n",
              "    <div class=\"colab-df-container\">\n",
              "      <div>\n",
              "<style scoped>\n",
              "    .dataframe tbody tr th:only-of-type {\n",
              "        vertical-align: middle;\n",
              "    }\n",
              "\n",
              "    .dataframe tbody tr th {\n",
              "        vertical-align: top;\n",
              "    }\n",
              "\n",
              "    .dataframe thead th {\n",
              "        text-align: right;\n",
              "    }\n",
              "</style>\n",
              "<table border=\"1\" class=\"dataframe\">\n",
              "  <thead>\n",
              "    <tr style=\"text-align: right;\">\n",
              "      <th></th>\n",
              "      <th>coefficientType</th>\n",
              "      <th>parameterNames</th>\n",
              "      <th>parameterValues</th>\n",
              "      <th>0</th>\n",
              "      <th>1</th>\n",
              "      <th>2</th>\n",
              "      <th>3</th>\n",
              "      <th>4</th>\n",
              "      <th>5</th>\n",
              "      <th>6</th>\n",
              "      <th>...</th>\n",
              "      <th>4791</th>\n",
              "      <th>4792</th>\n",
              "      <th>4793</th>\n",
              "      <th>4794</th>\n",
              "      <th>4795</th>\n",
              "      <th>4796</th>\n",
              "      <th>4797</th>\n",
              "      <th>4798</th>\n",
              "      <th>4799</th>\n",
              "      <th>4800</th>\n",
              "    </tr>\n",
              "  </thead>\n",
              "  <tbody>\n",
              "    <tr>\n",
              "      <th>0</th>\n",
              "      <td>Constant</td>\n",
              "      <td>affectedSubdomains,rhoMin,rhoMax,indexShiftx,i...</td>\n",
              "      <td>6,10,1,1000000,0,0,,,</td>\n",
              "      <td>0</td>\n",
              "      <td>0</td>\n",
              "      <td>0</td>\n",
              "      <td>0</td>\n",
              "      <td>0</td>\n",
              "      <td>0</td>\n",
              "      <td>0</td>\n",
              "      <td>...</td>\n",
              "      <td>0</td>\n",
              "      <td>0</td>\n",
              "      <td>0</td>\n",
              "      <td>0</td>\n",
              "      <td>0</td>\n",
              "      <td>0</td>\n",
              "      <td>0</td>\n",
              "      <td>0</td>\n",
              "      <td>0</td>\n",
              "      <td>0</td>\n",
              "    </tr>\n",
              "    <tr>\n",
              "      <th>1</th>\n",
              "      <td>Constant</td>\n",
              "      <td>affectedSubdomains,rhoMin,rhoMax,indexShiftx,i...</td>\n",
              "      <td>6,10,1000000,1,0,0,,,</td>\n",
              "      <td>0</td>\n",
              "      <td>0</td>\n",
              "      <td>0</td>\n",
              "      <td>0</td>\n",
              "      <td>0</td>\n",
              "      <td>0</td>\n",
              "      <td>0</td>\n",
              "      <td>...</td>\n",
              "      <td>1</td>\n",
              "      <td>1</td>\n",
              "      <td>1</td>\n",
              "      <td>1</td>\n",
              "      <td>1</td>\n",
              "      <td>1</td>\n",
              "      <td>1</td>\n",
              "      <td>1</td>\n",
              "      <td>1</td>\n",
              "      <td>0</td>\n",
              "    </tr>\n",
              "    <tr>\n",
              "      <th>2</th>\n",
              "      <td>Constant</td>\n",
              "      <td>affectedSubdomains,rhoMin,rhoMax,indexShiftx,i...</td>\n",
              "      <td>6,10,1,1000000,0,0,,,</td>\n",
              "      <td>1</td>\n",
              "      <td>1</td>\n",
              "      <td>1</td>\n",
              "      <td>1</td>\n",
              "      <td>1</td>\n",
              "      <td>1</td>\n",
              "      <td>1</td>\n",
              "      <td>...</td>\n",
              "      <td>1</td>\n",
              "      <td>1</td>\n",
              "      <td>1</td>\n",
              "      <td>1</td>\n",
              "      <td>1</td>\n",
              "      <td>1</td>\n",
              "      <td>1</td>\n",
              "      <td>1</td>\n",
              "      <td>1</td>\n",
              "      <td>0</td>\n",
              "    </tr>\n",
              "    <tr>\n",
              "      <th>3</th>\n",
              "      <td>Constant</td>\n",
              "      <td>affectedSubdomains,rhoMin,rhoMax,indexShiftx,i...</td>\n",
              "      <td>6,10,1,1000000,0,0,,,</td>\n",
              "      <td>1</td>\n",
              "      <td>1</td>\n",
              "      <td>1</td>\n",
              "      <td>1</td>\n",
              "      <td>1</td>\n",
              "      <td>1</td>\n",
              "      <td>1</td>\n",
              "      <td>...</td>\n",
              "      <td>0</td>\n",
              "      <td>0</td>\n",
              "      <td>0</td>\n",
              "      <td>0</td>\n",
              "      <td>0</td>\n",
              "      <td>0</td>\n",
              "      <td>0</td>\n",
              "      <td>0</td>\n",
              "      <td>0</td>\n",
              "      <td>0</td>\n",
              "    </tr>\n",
              "    <tr>\n",
              "      <th>4</th>\n",
              "      <td>Strip</td>\n",
              "      <td>height,nStrips,rhoMin,rhoMax,indexShifty</td>\n",
              "      <td>3,4,1,1000000,12,,,,</td>\n",
              "      <td>0</td>\n",
              "      <td>0</td>\n",
              "      <td>0</td>\n",
              "      <td>0</td>\n",
              "      <td>0</td>\n",
              "      <td>0</td>\n",
              "      <td>0</td>\n",
              "      <td>...</td>\n",
              "      <td>1</td>\n",
              "      <td>1</td>\n",
              "      <td>1</td>\n",
              "      <td>1</td>\n",
              "      <td>1</td>\n",
              "      <td>1</td>\n",
              "      <td>1</td>\n",
              "      <td>1</td>\n",
              "      <td>1</td>\n",
              "      <td>0</td>\n",
              "    </tr>\n",
              "  </tbody>\n",
              "</table>\n",
              "<p>5 rows × 4804 columns</p>\n",
              "</div>\n",
              "      <button class=\"colab-df-convert\" onclick=\"convertToInteractive('df-a2b9f736-c139-46fb-bb6e-bd11d4bf799b')\"\n",
              "              title=\"Convert this dataframe to an interactive table.\"\n",
              "              style=\"display:none;\">\n",
              "        \n",
              "  <svg xmlns=\"http://www.w3.org/2000/svg\" height=\"24px\"viewBox=\"0 0 24 24\"\n",
              "       width=\"24px\">\n",
              "    <path d=\"M0 0h24v24H0V0z\" fill=\"none\"/>\n",
              "    <path d=\"M18.56 5.44l.94 2.06.94-2.06 2.06-.94-2.06-.94-.94-2.06-.94 2.06-2.06.94zm-11 1L8.5 8.5l.94-2.06 2.06-.94-2.06-.94L8.5 2.5l-.94 2.06-2.06.94zm10 10l.94 2.06.94-2.06 2.06-.94-2.06-.94-.94-2.06-.94 2.06-2.06.94z\"/><path d=\"M17.41 7.96l-1.37-1.37c-.4-.4-.92-.59-1.43-.59-.52 0-1.04.2-1.43.59L10.3 9.45l-7.72 7.72c-.78.78-.78 2.05 0 2.83L4 21.41c.39.39.9.59 1.41.59.51 0 1.02-.2 1.41-.59l7.78-7.78 2.81-2.81c.8-.78.8-2.07 0-2.86zM5.41 20L4 18.59l7.72-7.72 1.47 1.35L5.41 20z\"/>\n",
              "  </svg>\n",
              "      </button>\n",
              "      \n",
              "  <style>\n",
              "    .colab-df-container {\n",
              "      display:flex;\n",
              "      flex-wrap:wrap;\n",
              "      gap: 12px;\n",
              "    }\n",
              "\n",
              "    .colab-df-convert {\n",
              "      background-color: #E8F0FE;\n",
              "      border: none;\n",
              "      border-radius: 50%;\n",
              "      cursor: pointer;\n",
              "      display: none;\n",
              "      fill: #1967D2;\n",
              "      height: 32px;\n",
              "      padding: 0 0 0 0;\n",
              "      width: 32px;\n",
              "    }\n",
              "\n",
              "    .colab-df-convert:hover {\n",
              "      background-color: #E2EBFA;\n",
              "      box-shadow: 0px 1px 2px rgba(60, 64, 67, 0.3), 0px 1px 3px 1px rgba(60, 64, 67, 0.15);\n",
              "      fill: #174EA6;\n",
              "    }\n",
              "\n",
              "    [theme=dark] .colab-df-convert {\n",
              "      background-color: #3B4455;\n",
              "      fill: #D2E3FC;\n",
              "    }\n",
              "\n",
              "    [theme=dark] .colab-df-convert:hover {\n",
              "      background-color: #434B5C;\n",
              "      box-shadow: 0px 1px 3px 1px rgba(0, 0, 0, 0.15);\n",
              "      filter: drop-shadow(0px 1px 2px rgba(0, 0, 0, 0.3));\n",
              "      fill: #FFFFFF;\n",
              "    }\n",
              "  </style>\n",
              "\n",
              "      <script>\n",
              "        const buttonEl =\n",
              "          document.querySelector('#df-a2b9f736-c139-46fb-bb6e-bd11d4bf799b button.colab-df-convert');\n",
              "        buttonEl.style.display =\n",
              "          google.colab.kernel.accessAllowed ? 'block' : 'none';\n",
              "\n",
              "        async function convertToInteractive(key) {\n",
              "          const element = document.querySelector('#df-a2b9f736-c139-46fb-bb6e-bd11d4bf799b');\n",
              "          const dataTable =\n",
              "            await google.colab.kernel.invokeFunction('convertToInteractive',\n",
              "                                                     [key], {});\n",
              "          if (!dataTable) return;\n",
              "\n",
              "          const docLinkHtml = 'Like what you see? Visit the ' +\n",
              "            '<a target=\"_blank\" href=https://colab.research.google.com/notebooks/data_table.ipynb>data table notebook</a>'\n",
              "            + ' to learn more about interactive tables.';\n",
              "          element.innerHTML = '';\n",
              "          dataTable['output_type'] = 'display_data';\n",
              "          await google.colab.output.renderOutput(dataTable, element);\n",
              "          const docLink = document.createElement('div');\n",
              "          docLink.innerHTML = docLinkHtml;\n",
              "          element.appendChild(docLink);\n",
              "        }\n",
              "      </script>\n",
              "    </div>\n",
              "  </div>\n",
              "  "
            ]
          },
          "metadata": {},
          "execution_count": 39
        }
      ],
      "source": [
        "df = pd.concat([df_constant.sample(frac = shareConstant,random_state = randomState),\n",
        "                df_strip.sample(frac = shareStrip,random_state = randomState),\n",
        "                df_blocks.sample(frac = shareBlocks,random_state = randomState),\n",
        "                df_randBlocks.sample(frac = shareRandBlocks,random_state = randomState),\n",
        "                df_random.sample(frac = shareRand,random_state = randomState),\n",
        "                df_stripsNBlocks.sample(frac = shareStripsNBlocks,random_state = randomState)\n",
        "               ], axis = 0, ignore_index = True)\n",
        "\n",
        "print(df.shape)\n",
        "df.head()"
      ]
    },
    {
      "cell_type": "markdown",
      "id": "556b72ad",
      "metadata": {
        "id": "556b72ad"
      },
      "source": [
        "## Speichere Daten"
      ]
    },
    {
      "cell_type": "code",
      "execution_count": null,
      "id": "a3ceb43a",
      "metadata": {
        "id": "a3ceb43a"
      },
      "outputs": [],
      "source": [
        "# Exportiere Trainingsdaten\n",
        "df.iloc[:,3:].to_csv(os.path.join(train_data_path, \"training_dataset_ver5.csv\"),index = False, header = False)\n",
        "# Exportiere zugehörige Parameter\n",
        "df.iloc[:,0:3].to_csv(os.path.join(train_data_path, \"training_dataset_ver5_parameters.csv\"),index = False, header = True)"
      ]
    }
  ],
  "metadata": {
    "kernelspec": {
      "display_name": "Python 3 (ipykernel)",
      "language": "python",
      "name": "python3"
    },
    "language_info": {
      "codemirror_mode": {
        "name": "ipython",
        "version": 3
      },
      "file_extension": ".py",
      "mimetype": "text/x-python",
      "name": "python",
      "nbconvert_exporter": "python",
      "pygments_lexer": "ipython3",
      "version": "3.7.13"
    },
    "colab": {
      "name": "N02_preprocessing.ipynb",
      "provenance": [],
      "collapsed_sections": [],
      "machine_shape": "hm"
    },
    "gpuClass": "standard"
  },
  "nbformat": 4,
  "nbformat_minor": 5
}