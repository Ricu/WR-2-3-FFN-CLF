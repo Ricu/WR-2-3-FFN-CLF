{
  "nbformat": 4,
  "nbformat_minor": 0,
  "metadata": {
    "colab": {
      "name": "N06_test_model.ipynb",
      "provenance": [],
      "collapsed_sections": []
    },
    "kernelspec": {
      "name": "python3",
      "display_name": "Python 3"
    },
    "language_info": {
      "name": "python"
    }
  },
  "cells": [
    {
      "cell_type": "markdown",
      "source": [
        "Dieses Notebook dient dazu, ein trainiertes Netz auf die Testbiler 1-3 anzuwenden und deren Teilgebietskanten zu klassifizieren."
      ],
      "metadata": {
        "id": "CIzKwcCmqNbg"
      }
    },
    {
      "cell_type": "code",
      "execution_count": null,
      "metadata": {
        "id": "zOfLQk7WUfkD"
      },
      "outputs": [],
      "source": [
        "import numpy as np\n",
        "import pandas as pd\n",
        "import tensorflow as tf"
      ]
    },
    {
      "cell_type": "markdown",
      "source": [
        "Zuerst wird das bereits trainierte Netz geladen:"
      ],
      "metadata": {
        "id": "aUxIQxL3nqqn"
      }
    },
    {
      "cell_type": "code",
      "source": [
        "model = tf.keras.models.load_model('/content/drive/MyDrive/WR2 Brrr/Trainingsdaten_Proj3/trained_model2')"
      ],
      "metadata": {
        "id": "_pVRzU5qUodl"
      },
      "execution_count": null,
      "outputs": []
    },
    {
      "cell_type": "markdown",
      "source": [
        "Daraufhin werden die Daten zu den Testbildern 1-3 eingelesen:"
      ],
      "metadata": {
        "id": "6HoOZbt8nzHy"
      }
    },
    {
      "cell_type": "code",
      "source": [
        "data_list = []\n",
        "\n",
        "for i in range(3):\n",
        "  data_list.append(pd.read_csv('/content/drive/MyDrive/WR2 Brrr/Testdaten_Proj3/test_data_' + str(i+1) + '_dump.csv', header = None))\n",
        "  print(data_list[i].shape)"
      ],
      "metadata": {
        "colab": {
          "base_uri": "https://localhost:8080/"
        },
        "id": "dqlhrRofXdX7",
        "outputId": "a28455dd-da1f-4f7e-8bd5-6585facc6d14"
      },
      "execution_count": null,
      "outputs": [
        {
          "output_type": "stream",
          "name": "stdout",
          "text": [
            "(24, 4801)\n",
            "(24, 4801)\n",
            "(24, 4801)\n"
          ]
        }
      ]
    },
    {
      "cell_type": "markdown",
      "source": [
        "Anschließend werden die Kanten der Testbilder von dem trainierten Netz klassifiziert:"
      ],
      "metadata": {
        "id": "OfixYuQrpEtQ"
      }
    },
    {
      "cell_type": "code",
      "source": [
        "i = 2 # Auswahl: Testbild 0, 1, 2\n",
        "threshold = 0.5 # Schwelle, ab wann ein label als 1 gewaehlt werden soll\n",
        "\n",
        "X = data_list[i].iloc[:,:-1].values.astype('float32') # Eingabe fuer das Neuronale Netz\n",
        "y_true = data_list[i].iloc[:,-1].values.astype('float32') # Korrekte labels\n",
        "\n",
        "# Vorhersage des Modells\n",
        "y_pred = model.predict(X)\n",
        "print(y_pred)\n",
        "# Klassifiziere die Vorhersage -> label 0 oder 1\n",
        "y_pred_rounded = np.array([1 if prob > threshold else 0 for prob in y_pred]).astype('int64')\n",
        "print(y_pred_rounded)\n",
        "\n",
        "# Speichere vorhergesagte labels\n",
        "file_name = '/content/drive/MyDrive/WR2 Brrr/Testdaten_Proj3/predicted_labels_' + str(i+1) + '.csv'\n",
        "np.savetxt(file_name, y_pred_rounded, delimiter=\",\")"
      ],
      "metadata": {
        "colab": {
          "base_uri": "https://localhost:8080/"
        },
        "id": "A7wJDD6_6JdV",
        "outputId": "f21bb8ca-ceaa-4070-e988-1d3c466b3dc5"
      },
      "execution_count": null,
      "outputs": [
        {
          "output_type": "stream",
          "name": "stdout",
          "text": [
            "[[1.8672150e-01]\n",
            " [5.1451325e-03]\n",
            " [2.8771162e-04]\n",
            " [4.0692687e-03]\n",
            " [1.0229587e-08]\n",
            " [2.7998835e-02]\n",
            " [9.5744133e-01]\n",
            " [3.1230721e-07]\n",
            " [2.5047332e-02]\n",
            " [2.0135868e-01]\n",
            " [5.0468498e-05]\n",
            " [1.5516873e-05]\n",
            " [1.5950285e-05]\n",
            " [1.5824364e-05]\n",
            " [2.1352172e-03]\n",
            " [3.1185150e-04]\n",
            " [3.3435225e-04]\n",
            " [2.6088065e-01]\n",
            " [6.3386135e-05]\n",
            " [1.5815771e-06]\n",
            " [4.2555026e-09]\n",
            " [5.5776150e-06]\n",
            " [5.9885085e-03]\n",
            " [3.1259954e-03]]\n",
            "[0 0 0 0 0 0 1 0 0 0 0 0 0 0 0 0 0 0 0 0 0 0 0 0]\n"
          ]
        }
      ]
    },
    {
      "cell_type": "code",
      "source": [
        "print(y_true)"
      ],
      "metadata": {
        "colab": {
          "base_uri": "https://localhost:8080/"
        },
        "id": "tQSDgp3okRfY",
        "outputId": "742055de-78d7-45aa-b59f-101347a28649"
      },
      "execution_count": null,
      "outputs": [
        {
          "output_type": "stream",
          "name": "stdout",
          "text": [
            "[0. 0. 0. 0. 0. 0. 1. 0. 0. 0. 0. 0. 0. 0. 0. 0. 0. 0. 0. 0. 0. 0. 0. 0.]\n"
          ]
        }
      ]
    },
    {
      "cell_type": "markdown",
      "source": [
        "Abschließend wird die Vorhersage des Modells anhand verschiedener Metriken überprüft: "
      ],
      "metadata": {
        "id": "r9p3DydjptZd"
      }
    },
    {
      "cell_type": "code",
      "source": [
        "results = model.evaluate(X,y_true)"
      ],
      "metadata": {
        "colab": {
          "base_uri": "https://localhost:8080/"
        },
        "id": "QVSxndNZ8TMq",
        "outputId": "75fdb345-bf51-4dcd-ac41-6036c497e309"
      },
      "execution_count": null,
      "outputs": [
        {
          "output_type": "stream",
          "name": "stdout",
          "text": [
            "1/1 [==============================] - 0s 46ms/step - loss: 0.0355 - ACCURACY0.5: 1.0000 - ACCURACY0.4: 1.0000 - ACCURACY0.3: 1.0000 - RECALL0.5: 1.0000 - RECALL0.4: 1.0000 - RECALL0.3: 1.0000 - FN0.5: 0.0000e+00 - FN0.4: 0.0000e+00 - FN0.3: 0.0000e+00 - FP0.5: 0.0000e+00 - FP0.4: 0.0000e+00 - FP0.3: 0.0000e+00 - MAE: 0.0319\n"
          ]
        }
      ]
    },
    {
      "cell_type": "markdown",
      "source": [
        "Folgende Metriken werden dabei verwendet:"
      ],
      "metadata": {
        "id": "-9s8R2Ukq8ap"
      }
    },
    {
      "cell_type": "code",
      "source": [
        "model.metrics_names"
      ],
      "metadata": {
        "colab": {
          "base_uri": "https://localhost:8080/"
        },
        "id": "w6hjH17jqKWi",
        "outputId": "46f4bd49-5098-4c98-c8b4-cc38bda5ecdc"
      },
      "execution_count": null,
      "outputs": [
        {
          "output_type": "execute_result",
          "data": {
            "text/plain": [
              "['loss',\n",
              " 'ACCURACY0.5',\n",
              " 'ACCURACY0.4',\n",
              " 'ACCURACY0.3',\n",
              " 'RECALL0.5',\n",
              " 'RECALL0.4',\n",
              " 'RECALL0.3',\n",
              " 'FN0.5',\n",
              " 'FN0.4',\n",
              " 'FN0.3',\n",
              " 'FP0.5',\n",
              " 'FP0.4',\n",
              " 'FP0.3',\n",
              " 'MAE']"
            ]
          },
          "metadata": {},
          "execution_count": 31
        }
      ]
    }
  ]
}