{
  "cells": [
    {
      "cell_type": "markdown",
      "id": "d0922e8f",
      "metadata": {
        "id": "d0922e8f"
      },
      "source": [
        "# Preprocessing der Trainingsdaten"
      ]
    },
    {
      "cell_type": "code",
      "source": [
        "from google.colab import drive\n",
        "drive.mount('/content/drive')"
      ],
      "metadata": {
        "colab": {
          "base_uri": "https://localhost:8080/"
        },
        "id": "w1Mvxr89ygC4",
        "outputId": "e3f78abb-0eda-42ee-c8cb-4137693c097b"
      },
      "id": "w1Mvxr89ygC4",
      "execution_count": 1,
      "outputs": [
        {
          "output_type": "stream",
          "name": "stdout",
          "text": [
            "Mounted at /content/drive\n"
          ]
        }
      ]
    },
    {
      "cell_type": "code",
      "execution_count": 2,
      "id": "62016b76",
      "metadata": {
        "colab": {
          "base_uri": "https://localhost:8080/"
        },
        "id": "62016b76",
        "outputId": "1ad03fa7-b879-4298-9867-250b18bf50cb"
      },
      "outputs": [
        {
          "output_type": "stream",
          "name": "stdout",
          "text": [
            "Current working directory: /content\n",
            "Train data path: /content/resources\\train_data\\\n"
          ]
        }
      ],
      "source": [
        "import pandas as pd\n",
        "import os\n",
        "import numpy as np\n",
        "\n",
        "print(\"Current working directory: \" + os.getcwd())\n",
        "train_data_path = os.path.join(os.getcwd(), \"resources\\\\train_data\\\\\")\n",
        "print(\"Train data path: \" + train_data_path)"
      ]
    },
    {
      "cell_type": "code",
      "source": [
        "print(\"Current working directory: \" + os.getcwd())\n",
        "train_data_path = os.path.join(os.getcwd(), \"drive/MyDrive/WR2 Brrr/Trainingsdaten_Proj3/\")\n",
        "print(\"Train data path: \" + train_data_path)\n",
        "# collection_path = '/content/drive/MyDrive/WR2 Brrr/Trainingsdaten_Proj3/collection4_train_data_dump.csv'\n",
        "# collection_param_path = '/content/drive/MyDrive/WR2 Brrr/Trainingsdaten_Proj3/collection4_parameter_dump.csv'"
      ],
      "metadata": {
        "colab": {
          "base_uri": "https://localhost:8080/"
        },
        "id": "VD8LcN5Jyytl",
        "outputId": "a59ab74b-a551-45a3-b348-278b4e67d331"
      },
      "id": "VD8LcN5Jyytl",
      "execution_count": 3,
      "outputs": [
        {
          "output_type": "stream",
          "name": "stdout",
          "text": [
            "Current working directory: /content\n",
            "Train data path: /content/drive/MyDrive/WR2 Brrr/Trainingsdaten_Proj3/\n"
          ]
        }
      ]
    },
    {
      "cell_type": "markdown",
      "id": "23d938f5",
      "metadata": {
        "id": "23d938f5"
      },
      "source": [
        "## Datensätze laden"
      ]
    },
    {
      "cell_type": "code",
      "execution_count": 4,
      "id": "19e92e99",
      "metadata": {
        "colab": {
          "base_uri": "https://localhost:8080/"
        },
        "id": "19e92e99",
        "outputId": "4b5288d9-82d2-4116-9f42-17dc63244867"
      },
      "outputs": [
        {
          "output_type": "stream",
          "name": "stdout",
          "text": [
            "['2022-07-14-05-25-14-train_data_dump.csv', 'collection5_train_data_dump.csv']\n",
            "['2022-07-14-05-25-14-parameter_dump.csv', 'collection5_parameter_dump.csv']\n"
          ]
        }
      ],
      "source": [
        "df_list = []\n",
        "param_list = []\n",
        "train_data_file_names = sorted([name for name in os.listdir(train_data_path) if 'train_data_dump' in name])\n",
        "parameter_file_names = sorted([name for name in os.listdir(train_data_path) if 'parameter_dump' in name])\n",
        "print(train_data_file_names)\n",
        "print(parameter_file_names)"
      ]
    },
    {
      "cell_type": "code",
      "execution_count": 5,
      "id": "2261d346",
      "metadata": {
        "colab": {
          "base_uri": "https://localhost:8080/"
        },
        "id": "2261d346",
        "outputId": "a484829a-b6e9-45a3-91e6-078f3a85043f"
      },
      "outputs": [
        {
          "output_type": "stream",
          "name": "stdout",
          "text": [
            "Datensatz Nummer 1\n",
            "(30000, 4801)\n",
            "(30000, 3)\n",
            "Datensatz Nummer 2\n",
            "(65022, 4801)\n",
            "(65023, 3)\n",
            "coefficientType    coefficientType\n",
            "parameterNames      parameterNames\n",
            "parameterValues    parameterValues\n",
            "Name: 0, dtype: object\n",
            "(65022, 3)\n"
          ]
        }
      ],
      "source": [
        "for ind, (name_train, name_param) in enumerate(zip(train_data_file_names,parameter_file_names)):\n",
        "    print(\"Datensatz Nummer \" + str(ind+1))\n",
        "    df_list.append(pd.read_csv(os.path.join(train_data_path, name_train), header = None))\n",
        "    print(df_list[-1].shape)\n",
        "    param_list.append(pd.read_csv(os.path.join(train_data_path, name_param), names = [\"coefficientType\",\"parameterNames\",\"parameterValues\"]))\n",
        "    print(param_list[-1].shape)\n",
        "    if param_list[-1].shape[0] > df_list[-1].shape[0]:\n",
        "        print(param_list[-1].iloc[0,])\n",
        "        param_list[-1] = param_list[-1].drop(0).reset_index(drop = True)\n",
        "        print(param_list[-1].shape)"
      ]
    },
    {
      "cell_type": "markdown",
      "id": "3c820129",
      "metadata": {
        "id": "3c820129"
      },
      "source": [
        "## Assembliere die verschiedenen Ergebnisse anhand der Koeffizientenfunktion"
      ]
    },
    {
      "cell_type": "code",
      "execution_count": null,
      "id": "060daaab",
      "metadata": {
        "id": "060daaab"
      },
      "outputs": [],
      "source": [
        "# Diesen Block nutzen falls es Speicherprobleme gibt. \n",
        "# Hier werden erst die Duplikate rausgeschmissen bevor die DataFrame verbunden werden.\n",
        "\n",
        "# df_base = df_list[0]\n",
        "# paramdf_base = param_list[0]\n",
        "# # value_counts_pre_drop = paramdf_base['coefficientType'].value_counts()\n",
        "\n",
        "# for df, param in zip(df_list[1:],param_list[1:]):\n",
        "#     # Hänge neuen Datensatz an\n",
        "#     print(df.shape)\n",
        "#     df_base = pd.concat([df_base,df], axis = 0, ignore_index = True)\n",
        "#     print(df_base.shape)\n",
        "#     # Bestimmte alle bisherigen Duplikate\n",
        "#     duplicate_rows = df_base.duplicated()\n",
        "#     # Entferne die Duplikate\n",
        "#     df_base = df_base.loc[~duplicate_rows,]\n",
        "#     print(df_base.shape)\n",
        "#     print(\"----\")\n",
        "#     # Hänge die neue Parameterliste an und entferne sofort die Duplikate\n",
        "#     paramdf_base = pd.concat([paramdf_base, param], axis = 0, ignore_index = True).loc[~duplicate_rows,]\n",
        "    \n",
        "    \n",
        "#   #  value_counts_pre_drop += paramdf_base['coefficientType'].value_counts()\n",
        "# #    paramdf_base = paramdf_base.loc[~duplicate_rows,]\n",
        "# #    value_counts_post_drop += paramdf_base['coefficientType'].value_counts()\n",
        "    \n",
        "# print(\"shape without duplicates: \")\n",
        "# print(df_base.shape)\n",
        "# print(paramdf_base.shape)"
      ]
    },
    {
      "cell_type": "code",
      "execution_count": 6,
      "id": "40e44e45",
      "metadata": {
        "colab": {
          "base_uri": "https://localhost:8080/",
          "height": 270
        },
        "id": "40e44e45",
        "outputId": "e217f0c1-bb12-4922-f90e-028f80e8b47d"
      },
      "outputs": [
        {
          "output_type": "stream",
          "name": "stdout",
          "text": [
            "(95022, 4801)\n",
            "(95022, 3)\n"
          ]
        },
        {
          "output_type": "execute_result",
          "data": {
            "text/plain": [
              "   0     1     2     3     4     5     6     7     8     9     ...  4791  \\\n",
              "0     0     0     0     0     0     0     0     0     0     0  ...     0   \n",
              "1     0     0     0     0     0     0     0     0     0     0  ...     0   \n",
              "2     0     0     0     0     0     0     0     0     0     0  ...     0   \n",
              "3     0     0     0     0     0     0     0     0     0     0  ...     0   \n",
              "4     0     0     0     0     0     0     0     0     0     0  ...     0   \n",
              "\n",
              "   4792  4793  4794  4795  4796  4797  4798  4799  4800  \n",
              "0     0     0     0     0     0     0     0     0     0  \n",
              "1     0     0     0     0     0     0     0     0     0  \n",
              "2     0     0     0     0     0     0     0     0     0  \n",
              "3     0     0     0     0     0     0     0     0     0  \n",
              "4     0     0     0     0     0     0     0     0     0  \n",
              "\n",
              "[5 rows x 4801 columns]"
            ],
            "text/html": [
              "\n",
              "  <div id=\"df-6438146f-7f6c-4a19-97b3-cb61bc463dcb\">\n",
              "    <div class=\"colab-df-container\">\n",
              "      <div>\n",
              "<style scoped>\n",
              "    .dataframe tbody tr th:only-of-type {\n",
              "        vertical-align: middle;\n",
              "    }\n",
              "\n",
              "    .dataframe tbody tr th {\n",
              "        vertical-align: top;\n",
              "    }\n",
              "\n",
              "    .dataframe thead th {\n",
              "        text-align: right;\n",
              "    }\n",
              "</style>\n",
              "<table border=\"1\" class=\"dataframe\">\n",
              "  <thead>\n",
              "    <tr style=\"text-align: right;\">\n",
              "      <th></th>\n",
              "      <th>0</th>\n",
              "      <th>1</th>\n",
              "      <th>2</th>\n",
              "      <th>3</th>\n",
              "      <th>4</th>\n",
              "      <th>5</th>\n",
              "      <th>6</th>\n",
              "      <th>7</th>\n",
              "      <th>8</th>\n",
              "      <th>9</th>\n",
              "      <th>...</th>\n",
              "      <th>4791</th>\n",
              "      <th>4792</th>\n",
              "      <th>4793</th>\n",
              "      <th>4794</th>\n",
              "      <th>4795</th>\n",
              "      <th>4796</th>\n",
              "      <th>4797</th>\n",
              "      <th>4798</th>\n",
              "      <th>4799</th>\n",
              "      <th>4800</th>\n",
              "    </tr>\n",
              "  </thead>\n",
              "  <tbody>\n",
              "    <tr>\n",
              "      <th>0</th>\n",
              "      <td>0</td>\n",
              "      <td>0</td>\n",
              "      <td>0</td>\n",
              "      <td>0</td>\n",
              "      <td>0</td>\n",
              "      <td>0</td>\n",
              "      <td>0</td>\n",
              "      <td>0</td>\n",
              "      <td>0</td>\n",
              "      <td>0</td>\n",
              "      <td>...</td>\n",
              "      <td>0</td>\n",
              "      <td>0</td>\n",
              "      <td>0</td>\n",
              "      <td>0</td>\n",
              "      <td>0</td>\n",
              "      <td>0</td>\n",
              "      <td>0</td>\n",
              "      <td>0</td>\n",
              "      <td>0</td>\n",
              "      <td>0</td>\n",
              "    </tr>\n",
              "    <tr>\n",
              "      <th>1</th>\n",
              "      <td>0</td>\n",
              "      <td>0</td>\n",
              "      <td>0</td>\n",
              "      <td>0</td>\n",
              "      <td>0</td>\n",
              "      <td>0</td>\n",
              "      <td>0</td>\n",
              "      <td>0</td>\n",
              "      <td>0</td>\n",
              "      <td>0</td>\n",
              "      <td>...</td>\n",
              "      <td>0</td>\n",
              "      <td>0</td>\n",
              "      <td>0</td>\n",
              "      <td>0</td>\n",
              "      <td>0</td>\n",
              "      <td>0</td>\n",
              "      <td>0</td>\n",
              "      <td>0</td>\n",
              "      <td>0</td>\n",
              "      <td>0</td>\n",
              "    </tr>\n",
              "    <tr>\n",
              "      <th>2</th>\n",
              "      <td>0</td>\n",
              "      <td>0</td>\n",
              "      <td>0</td>\n",
              "      <td>0</td>\n",
              "      <td>0</td>\n",
              "      <td>0</td>\n",
              "      <td>0</td>\n",
              "      <td>0</td>\n",
              "      <td>0</td>\n",
              "      <td>0</td>\n",
              "      <td>...</td>\n",
              "      <td>0</td>\n",
              "      <td>0</td>\n",
              "      <td>0</td>\n",
              "      <td>0</td>\n",
              "      <td>0</td>\n",
              "      <td>0</td>\n",
              "      <td>0</td>\n",
              "      <td>0</td>\n",
              "      <td>0</td>\n",
              "      <td>0</td>\n",
              "    </tr>\n",
              "    <tr>\n",
              "      <th>3</th>\n",
              "      <td>0</td>\n",
              "      <td>0</td>\n",
              "      <td>0</td>\n",
              "      <td>0</td>\n",
              "      <td>0</td>\n",
              "      <td>0</td>\n",
              "      <td>0</td>\n",
              "      <td>0</td>\n",
              "      <td>0</td>\n",
              "      <td>0</td>\n",
              "      <td>...</td>\n",
              "      <td>0</td>\n",
              "      <td>0</td>\n",
              "      <td>0</td>\n",
              "      <td>0</td>\n",
              "      <td>0</td>\n",
              "      <td>0</td>\n",
              "      <td>0</td>\n",
              "      <td>0</td>\n",
              "      <td>0</td>\n",
              "      <td>0</td>\n",
              "    </tr>\n",
              "    <tr>\n",
              "      <th>4</th>\n",
              "      <td>0</td>\n",
              "      <td>0</td>\n",
              "      <td>0</td>\n",
              "      <td>0</td>\n",
              "      <td>0</td>\n",
              "      <td>0</td>\n",
              "      <td>0</td>\n",
              "      <td>0</td>\n",
              "      <td>0</td>\n",
              "      <td>0</td>\n",
              "      <td>...</td>\n",
              "      <td>0</td>\n",
              "      <td>0</td>\n",
              "      <td>0</td>\n",
              "      <td>0</td>\n",
              "      <td>0</td>\n",
              "      <td>0</td>\n",
              "      <td>0</td>\n",
              "      <td>0</td>\n",
              "      <td>0</td>\n",
              "      <td>0</td>\n",
              "    </tr>\n",
              "  </tbody>\n",
              "</table>\n",
              "<p>5 rows × 4801 columns</p>\n",
              "</div>\n",
              "      <button class=\"colab-df-convert\" onclick=\"convertToInteractive('df-6438146f-7f6c-4a19-97b3-cb61bc463dcb')\"\n",
              "              title=\"Convert this dataframe to an interactive table.\"\n",
              "              style=\"display:none;\">\n",
              "        \n",
              "  <svg xmlns=\"http://www.w3.org/2000/svg\" height=\"24px\"viewBox=\"0 0 24 24\"\n",
              "       width=\"24px\">\n",
              "    <path d=\"M0 0h24v24H0V0z\" fill=\"none\"/>\n",
              "    <path d=\"M18.56 5.44l.94 2.06.94-2.06 2.06-.94-2.06-.94-.94-2.06-.94 2.06-2.06.94zm-11 1L8.5 8.5l.94-2.06 2.06-.94-2.06-.94L8.5 2.5l-.94 2.06-2.06.94zm10 10l.94 2.06.94-2.06 2.06-.94-2.06-.94-.94-2.06-.94 2.06-2.06.94z\"/><path d=\"M17.41 7.96l-1.37-1.37c-.4-.4-.92-.59-1.43-.59-.52 0-1.04.2-1.43.59L10.3 9.45l-7.72 7.72c-.78.78-.78 2.05 0 2.83L4 21.41c.39.39.9.59 1.41.59.51 0 1.02-.2 1.41-.59l7.78-7.78 2.81-2.81c.8-.78.8-2.07 0-2.86zM5.41 20L4 18.59l7.72-7.72 1.47 1.35L5.41 20z\"/>\n",
              "  </svg>\n",
              "      </button>\n",
              "      \n",
              "  <style>\n",
              "    .colab-df-container {\n",
              "      display:flex;\n",
              "      flex-wrap:wrap;\n",
              "      gap: 12px;\n",
              "    }\n",
              "\n",
              "    .colab-df-convert {\n",
              "      background-color: #E8F0FE;\n",
              "      border: none;\n",
              "      border-radius: 50%;\n",
              "      cursor: pointer;\n",
              "      display: none;\n",
              "      fill: #1967D2;\n",
              "      height: 32px;\n",
              "      padding: 0 0 0 0;\n",
              "      width: 32px;\n",
              "    }\n",
              "\n",
              "    .colab-df-convert:hover {\n",
              "      background-color: #E2EBFA;\n",
              "      box-shadow: 0px 1px 2px rgba(60, 64, 67, 0.3), 0px 1px 3px 1px rgba(60, 64, 67, 0.15);\n",
              "      fill: #174EA6;\n",
              "    }\n",
              "\n",
              "    [theme=dark] .colab-df-convert {\n",
              "      background-color: #3B4455;\n",
              "      fill: #D2E3FC;\n",
              "    }\n",
              "\n",
              "    [theme=dark] .colab-df-convert:hover {\n",
              "      background-color: #434B5C;\n",
              "      box-shadow: 0px 1px 3px 1px rgba(0, 0, 0, 0.15);\n",
              "      filter: drop-shadow(0px 1px 2px rgba(0, 0, 0, 0.3));\n",
              "      fill: #FFFFFF;\n",
              "    }\n",
              "  </style>\n",
              "\n",
              "      <script>\n",
              "        const buttonEl =\n",
              "          document.querySelector('#df-6438146f-7f6c-4a19-97b3-cb61bc463dcb button.colab-df-convert');\n",
              "        buttonEl.style.display =\n",
              "          google.colab.kernel.accessAllowed ? 'block' : 'none';\n",
              "\n",
              "        async function convertToInteractive(key) {\n",
              "          const element = document.querySelector('#df-6438146f-7f6c-4a19-97b3-cb61bc463dcb');\n",
              "          const dataTable =\n",
              "            await google.colab.kernel.invokeFunction('convertToInteractive',\n",
              "                                                     [key], {});\n",
              "          if (!dataTable) return;\n",
              "\n",
              "          const docLinkHtml = 'Like what you see? Visit the ' +\n",
              "            '<a target=\"_blank\" href=https://colab.research.google.com/notebooks/data_table.ipynb>data table notebook</a>'\n",
              "            + ' to learn more about interactive tables.';\n",
              "          element.innerHTML = '';\n",
              "          dataTable['output_type'] = 'display_data';\n",
              "          await google.colab.output.renderOutput(dataTable, element);\n",
              "          const docLink = document.createElement('div');\n",
              "          docLink.innerHTML = docLinkHtml;\n",
              "          element.appendChild(docLink);\n",
              "        }\n",
              "      </script>\n",
              "    </div>\n",
              "  </div>\n",
              "  "
            ]
          },
          "metadata": {},
          "execution_count": 6
        }
      ],
      "source": [
        "df_base = pd.concat(df_list,axis = 0,ignore_index = True)\n",
        "paramdf_base = pd.concat(param_list,axis = 0,ignore_index = True)\n",
        "\n",
        "print(df_base.shape)\n",
        "print(paramdf_base.shape)\n",
        "df_base.head()"
      ]
    },
    {
      "cell_type": "code",
      "execution_count": 7,
      "id": "ab57d264",
      "metadata": {
        "id": "ab57d264"
      },
      "outputs": [],
      "source": [
        "del df_list\n",
        "del param_list"
      ]
    },
    {
      "cell_type": "code",
      "execution_count": 8,
      "id": "cbd20b1a",
      "metadata": {
        "colab": {
          "base_uri": "https://localhost:8080/"
        },
        "id": "cbd20b1a",
        "outputId": "df721440-0098-46bb-9d26-9c3e0f5ac687"
      },
      "outputs": [
        {
          "output_type": "stream",
          "name": "stdout",
          "text": [
            "Random Blocks        29992\n",
            "Blocks               26510\n",
            "StripesNBlocks       18828\n",
            "Completely Random    18444\n",
            "Strip                 1236\n",
            "Constant                12\n",
            "Name: coefficientType, dtype: int64\n"
          ]
        }
      ],
      "source": [
        "# Zähle Koeffizientenfunktionen\n",
        "value_counts_pre_drop = paramdf_base['coefficientType'].value_counts()\n",
        "print(value_counts_pre_drop)"
      ]
    },
    {
      "cell_type": "code",
      "execution_count": 9,
      "id": "19fcd0be",
      "metadata": {
        "colab": {
          "base_uri": "https://localhost:8080/"
        },
        "id": "19fcd0be",
        "outputId": "67f28815-9ad4-434a-919d-4dbeccad2af7"
      },
      "outputs": [
        {
          "output_type": "stream",
          "name": "stdout",
          "text": [
            "shape with duplicates: \n",
            "(95022, 4801)\n",
            "shape without duplicates: \n",
            "(91171, 4801)\n",
            "Percentage of datapoints lost: 4.052745679947802\\%\n",
            "Blocks               26477\n",
            "Random Blocks        26185\n",
            "StripesNBlocks       18828\n",
            "Completely Random    18444\n",
            "Strip                 1236\n",
            "Constant                 1\n",
            "Name: coefficientType, dtype: int64\n"
          ]
        }
      ],
      "source": [
        "# Schmeiße die Duplikate\n",
        "duplicate_rows = df_base.duplicated()\n",
        "print(\"shape with duplicates: \")\n",
        "print(df_base.shape)\n",
        "df_base = df_base.loc[~duplicate_rows,]\n",
        "paramdf_base = paramdf_base.loc[~duplicate_rows,]\n",
        "print(\"shape without duplicates: \")\n",
        "print(df_base.shape)\n",
        "print(\"Percentage of datapoints lost: \" + str((100*sum(duplicate_rows)/len(duplicate_rows))) + \"\\%\")\n",
        "value_counts_post_drop = paramdf_base['coefficientType'].value_counts()\n",
        "print(value_counts_post_drop)"
      ]
    },
    {
      "cell_type": "code",
      "execution_count": 10,
      "id": "dd2feee2",
      "metadata": {
        "colab": {
          "base_uri": "https://localhost:8080/"
        },
        "id": "dd2feee2",
        "outputId": "2731bdf0-c12d-4fbe-fe2c-a76c66aabe73"
      },
      "outputs": [
        {
          "output_type": "stream",
          "name": "stdout",
          "text": [
            "Blocks                -33\n",
            "Completely Random       0\n",
            "Constant              -11\n",
            "Random Blocks       -3807\n",
            "Strip                   0\n",
            "StripesNBlocks          0\n",
            "Name: coefficientType, dtype: int64\n"
          ]
        }
      ],
      "source": [
        "# Anzahl verloren gegangener Trainingspunkten\n",
        "print(value_counts_post_drop-value_counts_pre_drop)"
      ]
    },
    {
      "cell_type": "code",
      "execution_count": 11,
      "id": "20256202",
      "metadata": {
        "id": "20256202"
      },
      "outputs": [],
      "source": [
        "# value_counts_post_drop = paramdf_base['coefficientType'].value_counts()\n",
        "# print(value_counts_post_drop)"
      ]
    },
    {
      "cell_type": "code",
      "source": [
        "# Exportiere Trainingsdaten\n",
        "df_base.to_csv(os.path.join(train_data_path, \"collection6_train_data_dump.csv\"),index = False, header = False)\n",
        "# Exportiere zugehörige Parameter\n",
        "paramdf_base.to_csv(os.path.join(train_data_path, \"collection6_parameter_dump.csv\"),index = False, header = True)"
      ],
      "metadata": {
        "id": "eUBRYxxx__Xb"
      },
      "id": "eUBRYxxx__Xb",
      "execution_count": 12,
      "outputs": []
    },
    {
      "cell_type": "code",
      "execution_count": 13,
      "id": "9fd25741",
      "metadata": {
        "colab": {
          "base_uri": "https://localhost:8080/",
          "height": 235
        },
        "id": "9fd25741",
        "outputId": "6f43e7c8-319a-4019-d13d-282e8c585a63"
      },
      "outputs": [
        {
          "output_type": "execute_result",
          "data": {
            "text/plain": [
              "   coefficientType                                     parameterNames  \\\n",
              "0         Constant  affectedSubdomains,rhoMin,rhoMax,indexShiftx,i...   \n",
              "8    Random Blocks  rhoMin,rhoMax,nBlocks,height,heightVariance,wi...   \n",
              "9    Random Blocks  rhoMin,rhoMax,nBlocks,height,heightVariance,wi...   \n",
              "10   Random Blocks  rhoMin,rhoMax,nBlocks,height,heightVariance,wi...   \n",
              "11   Random Blocks  rhoMin,rhoMax,nBlocks,height,heightVariance,wi...   \n",
              "\n",
              "              parameterValues  0  1  2  3  4  5  6  ...  4791  4792  4793  \\\n",
              "0       6,10,1,1000000,0,0,,,  0  0  0  0  0  0  0  ...     0     0     0   \n",
              "8   1000000,1,15,8,4,8,8,0,14  1  1  1  1  1  1  1  ...     0     0     0   \n",
              "9   1000000,1,15,8,4,8,8,0,14  0  1  1  1  1  1  1  ...     1     1     1   \n",
              "10  1000000,1,15,8,4,8,8,0,14  0  0  0  0  0  0  0  ...     1     1     1   \n",
              "11  1000000,1,15,8,4,8,8,0,14  1  1  1  1  1  1  1  ...     1     0     0   \n",
              "\n",
              "    4794  4795  4796  4797  4798  4799  4800  \n",
              "0      0     0     0     0     0     0     0  \n",
              "8      0     0     0     0     0     0     0  \n",
              "9      1     1     1     1     1     1     0  \n",
              "10     1     1     1     1     1     1     0  \n",
              "11     0     0     0     0     0     0     0  \n",
              "\n",
              "[5 rows x 4804 columns]"
            ],
            "text/html": [
              "\n",
              "  <div id=\"df-426c2dd7-e705-4d66-bc26-a147f3f20b4c\">\n",
              "    <div class=\"colab-df-container\">\n",
              "      <div>\n",
              "<style scoped>\n",
              "    .dataframe tbody tr th:only-of-type {\n",
              "        vertical-align: middle;\n",
              "    }\n",
              "\n",
              "    .dataframe tbody tr th {\n",
              "        vertical-align: top;\n",
              "    }\n",
              "\n",
              "    .dataframe thead th {\n",
              "        text-align: right;\n",
              "    }\n",
              "</style>\n",
              "<table border=\"1\" class=\"dataframe\">\n",
              "  <thead>\n",
              "    <tr style=\"text-align: right;\">\n",
              "      <th></th>\n",
              "      <th>coefficientType</th>\n",
              "      <th>parameterNames</th>\n",
              "      <th>parameterValues</th>\n",
              "      <th>0</th>\n",
              "      <th>1</th>\n",
              "      <th>2</th>\n",
              "      <th>3</th>\n",
              "      <th>4</th>\n",
              "      <th>5</th>\n",
              "      <th>6</th>\n",
              "      <th>...</th>\n",
              "      <th>4791</th>\n",
              "      <th>4792</th>\n",
              "      <th>4793</th>\n",
              "      <th>4794</th>\n",
              "      <th>4795</th>\n",
              "      <th>4796</th>\n",
              "      <th>4797</th>\n",
              "      <th>4798</th>\n",
              "      <th>4799</th>\n",
              "      <th>4800</th>\n",
              "    </tr>\n",
              "  </thead>\n",
              "  <tbody>\n",
              "    <tr>\n",
              "      <th>0</th>\n",
              "      <td>Constant</td>\n",
              "      <td>affectedSubdomains,rhoMin,rhoMax,indexShiftx,i...</td>\n",
              "      <td>6,10,1,1000000,0,0,,,</td>\n",
              "      <td>0</td>\n",
              "      <td>0</td>\n",
              "      <td>0</td>\n",
              "      <td>0</td>\n",
              "      <td>0</td>\n",
              "      <td>0</td>\n",
              "      <td>0</td>\n",
              "      <td>...</td>\n",
              "      <td>0</td>\n",
              "      <td>0</td>\n",
              "      <td>0</td>\n",
              "      <td>0</td>\n",
              "      <td>0</td>\n",
              "      <td>0</td>\n",
              "      <td>0</td>\n",
              "      <td>0</td>\n",
              "      <td>0</td>\n",
              "      <td>0</td>\n",
              "    </tr>\n",
              "    <tr>\n",
              "      <th>8</th>\n",
              "      <td>Random Blocks</td>\n",
              "      <td>rhoMin,rhoMax,nBlocks,height,heightVariance,wi...</td>\n",
              "      <td>1000000,1,15,8,4,8,8,0,14</td>\n",
              "      <td>1</td>\n",
              "      <td>1</td>\n",
              "      <td>1</td>\n",
              "      <td>1</td>\n",
              "      <td>1</td>\n",
              "      <td>1</td>\n",
              "      <td>1</td>\n",
              "      <td>...</td>\n",
              "      <td>0</td>\n",
              "      <td>0</td>\n",
              "      <td>0</td>\n",
              "      <td>0</td>\n",
              "      <td>0</td>\n",
              "      <td>0</td>\n",
              "      <td>0</td>\n",
              "      <td>0</td>\n",
              "      <td>0</td>\n",
              "      <td>0</td>\n",
              "    </tr>\n",
              "    <tr>\n",
              "      <th>9</th>\n",
              "      <td>Random Blocks</td>\n",
              "      <td>rhoMin,rhoMax,nBlocks,height,heightVariance,wi...</td>\n",
              "      <td>1000000,1,15,8,4,8,8,0,14</td>\n",
              "      <td>0</td>\n",
              "      <td>1</td>\n",
              "      <td>1</td>\n",
              "      <td>1</td>\n",
              "      <td>1</td>\n",
              "      <td>1</td>\n",
              "      <td>1</td>\n",
              "      <td>...</td>\n",
              "      <td>1</td>\n",
              "      <td>1</td>\n",
              "      <td>1</td>\n",
              "      <td>1</td>\n",
              "      <td>1</td>\n",
              "      <td>1</td>\n",
              "      <td>1</td>\n",
              "      <td>1</td>\n",
              "      <td>1</td>\n",
              "      <td>0</td>\n",
              "    </tr>\n",
              "    <tr>\n",
              "      <th>10</th>\n",
              "      <td>Random Blocks</td>\n",
              "      <td>rhoMin,rhoMax,nBlocks,height,heightVariance,wi...</td>\n",
              "      <td>1000000,1,15,8,4,8,8,0,14</td>\n",
              "      <td>0</td>\n",
              "      <td>0</td>\n",
              "      <td>0</td>\n",
              "      <td>0</td>\n",
              "      <td>0</td>\n",
              "      <td>0</td>\n",
              "      <td>0</td>\n",
              "      <td>...</td>\n",
              "      <td>1</td>\n",
              "      <td>1</td>\n",
              "      <td>1</td>\n",
              "      <td>1</td>\n",
              "      <td>1</td>\n",
              "      <td>1</td>\n",
              "      <td>1</td>\n",
              "      <td>1</td>\n",
              "      <td>1</td>\n",
              "      <td>0</td>\n",
              "    </tr>\n",
              "    <tr>\n",
              "      <th>11</th>\n",
              "      <td>Random Blocks</td>\n",
              "      <td>rhoMin,rhoMax,nBlocks,height,heightVariance,wi...</td>\n",
              "      <td>1000000,1,15,8,4,8,8,0,14</td>\n",
              "      <td>1</td>\n",
              "      <td>1</td>\n",
              "      <td>1</td>\n",
              "      <td>1</td>\n",
              "      <td>1</td>\n",
              "      <td>1</td>\n",
              "      <td>1</td>\n",
              "      <td>...</td>\n",
              "      <td>1</td>\n",
              "      <td>0</td>\n",
              "      <td>0</td>\n",
              "      <td>0</td>\n",
              "      <td>0</td>\n",
              "      <td>0</td>\n",
              "      <td>0</td>\n",
              "      <td>0</td>\n",
              "      <td>0</td>\n",
              "      <td>0</td>\n",
              "    </tr>\n",
              "  </tbody>\n",
              "</table>\n",
              "<p>5 rows × 4804 columns</p>\n",
              "</div>\n",
              "      <button class=\"colab-df-convert\" onclick=\"convertToInteractive('df-426c2dd7-e705-4d66-bc26-a147f3f20b4c')\"\n",
              "              title=\"Convert this dataframe to an interactive table.\"\n",
              "              style=\"display:none;\">\n",
              "        \n",
              "  <svg xmlns=\"http://www.w3.org/2000/svg\" height=\"24px\"viewBox=\"0 0 24 24\"\n",
              "       width=\"24px\">\n",
              "    <path d=\"M0 0h24v24H0V0z\" fill=\"none\"/>\n",
              "    <path d=\"M18.56 5.44l.94 2.06.94-2.06 2.06-.94-2.06-.94-.94-2.06-.94 2.06-2.06.94zm-11 1L8.5 8.5l.94-2.06 2.06-.94-2.06-.94L8.5 2.5l-.94 2.06-2.06.94zm10 10l.94 2.06.94-2.06 2.06-.94-2.06-.94-.94-2.06-.94 2.06-2.06.94z\"/><path d=\"M17.41 7.96l-1.37-1.37c-.4-.4-.92-.59-1.43-.59-.52 0-1.04.2-1.43.59L10.3 9.45l-7.72 7.72c-.78.78-.78 2.05 0 2.83L4 21.41c.39.39.9.59 1.41.59.51 0 1.02-.2 1.41-.59l7.78-7.78 2.81-2.81c.8-.78.8-2.07 0-2.86zM5.41 20L4 18.59l7.72-7.72 1.47 1.35L5.41 20z\"/>\n",
              "  </svg>\n",
              "      </button>\n",
              "      \n",
              "  <style>\n",
              "    .colab-df-container {\n",
              "      display:flex;\n",
              "      flex-wrap:wrap;\n",
              "      gap: 12px;\n",
              "    }\n",
              "\n",
              "    .colab-df-convert {\n",
              "      background-color: #E8F0FE;\n",
              "      border: none;\n",
              "      border-radius: 50%;\n",
              "      cursor: pointer;\n",
              "      display: none;\n",
              "      fill: #1967D2;\n",
              "      height: 32px;\n",
              "      padding: 0 0 0 0;\n",
              "      width: 32px;\n",
              "    }\n",
              "\n",
              "    .colab-df-convert:hover {\n",
              "      background-color: #E2EBFA;\n",
              "      box-shadow: 0px 1px 2px rgba(60, 64, 67, 0.3), 0px 1px 3px 1px rgba(60, 64, 67, 0.15);\n",
              "      fill: #174EA6;\n",
              "    }\n",
              "\n",
              "    [theme=dark] .colab-df-convert {\n",
              "      background-color: #3B4455;\n",
              "      fill: #D2E3FC;\n",
              "    }\n",
              "\n",
              "    [theme=dark] .colab-df-convert:hover {\n",
              "      background-color: #434B5C;\n",
              "      box-shadow: 0px 1px 3px 1px rgba(0, 0, 0, 0.15);\n",
              "      filter: drop-shadow(0px 1px 2px rgba(0, 0, 0, 0.3));\n",
              "      fill: #FFFFFF;\n",
              "    }\n",
              "  </style>\n",
              "\n",
              "      <script>\n",
              "        const buttonEl =\n",
              "          document.querySelector('#df-426c2dd7-e705-4d66-bc26-a147f3f20b4c button.colab-df-convert');\n",
              "        buttonEl.style.display =\n",
              "          google.colab.kernel.accessAllowed ? 'block' : 'none';\n",
              "\n",
              "        async function convertToInteractive(key) {\n",
              "          const element = document.querySelector('#df-426c2dd7-e705-4d66-bc26-a147f3f20b4c');\n",
              "          const dataTable =\n",
              "            await google.colab.kernel.invokeFunction('convertToInteractive',\n",
              "                                                     [key], {});\n",
              "          if (!dataTable) return;\n",
              "\n",
              "          const docLinkHtml = 'Like what you see? Visit the ' +\n",
              "            '<a target=\"_blank\" href=https://colab.research.google.com/notebooks/data_table.ipynb>data table notebook</a>'\n",
              "            + ' to learn more about interactive tables.';\n",
              "          element.innerHTML = '';\n",
              "          dataTable['output_type'] = 'display_data';\n",
              "          await google.colab.output.renderOutput(dataTable, element);\n",
              "          const docLink = document.createElement('div');\n",
              "          docLink.innerHTML = docLinkHtml;\n",
              "          element.appendChild(docLink);\n",
              "        }\n",
              "      </script>\n",
              "    </div>\n",
              "  </div>\n",
              "  "
            ]
          },
          "metadata": {},
          "execution_count": 13
        }
      ],
      "source": [
        "df_base = pd.concat([paramdf_base,df_base], axis=1)\n",
        "df_base.head()"
      ]
    },
    {
      "cell_type": "markdown",
      "id": "2766b16f",
      "metadata": {
        "id": "2766b16f"
      },
      "source": [
        "### Konstante Koeffizienten"
      ]
    },
    {
      "cell_type": "code",
      "execution_count": 14,
      "id": "2acf3ec5",
      "metadata": {
        "colab": {
          "base_uri": "https://localhost:8080/"
        },
        "id": "2acf3ec5",
        "outputId": "e6ba9be4-e152-4d61-d37f-854000eb4292"
      },
      "outputs": [
        {
          "output_type": "stream",
          "name": "stdout",
          "text": [
            "(1, 4804)\n"
          ]
        }
      ],
      "source": [
        "# coeff_fun_names = [\"Constant\",\"Strip\",\"Blocks\",\"Random Blocks\",\"Completely Random\",\"StripesNBlocks\"]\n",
        "df_constant = df_base.loc[df_base['coefficientType'] == \"Constant\",]\n",
        "print(df_constant.shape)"
      ]
    },
    {
      "cell_type": "code",
      "execution_count": 15,
      "id": "eead7606",
      "metadata": {
        "colab": {
          "base_uri": "https://localhost:8080/"
        },
        "id": "eead7606",
        "outputId": "d1cfb281-1323-424f-f37b-477616c77af7"
      },
      "outputs": [
        {
          "output_type": "execute_result",
          "data": {
            "text/plain": [
              "count    1.0\n",
              "mean     0.0\n",
              "std      NaN\n",
              "min      0.0\n",
              "25%      0.0\n",
              "50%      0.0\n",
              "75%      0.0\n",
              "max      0.0\n",
              "Name: 4800, dtype: float64"
            ]
          },
          "metadata": {},
          "execution_count": 15
        }
      ],
      "source": [
        "df_constant.iloc[:,-1].describe()"
      ]
    },
    {
      "cell_type": "markdown",
      "id": "2c1dd4b3",
      "metadata": {
        "id": "2c1dd4b3"
      },
      "source": [
        "### Streifen Koeffizientenfunktion"
      ]
    },
    {
      "cell_type": "code",
      "execution_count": 16,
      "id": "a6a23df6",
      "metadata": {
        "colab": {
          "base_uri": "https://localhost:8080/"
        },
        "id": "a6a23df6",
        "outputId": "dfc32824-944f-418b-82c6-4705492dae2a"
      },
      "outputs": [
        {
          "output_type": "stream",
          "name": "stdout",
          "text": [
            "(1236, 4804)\n"
          ]
        }
      ],
      "source": [
        "# coeff_fun_names = [\"Constant\",\"Strip\",\"Blocks\",\"Random Blocks\",\"Completely Random\",\"StripesNBlocks\"]\n",
        "df_strip = df_base.loc[df_base['coefficientType'] == \"Strip\",]\n",
        "print(df_strip.shape)"
      ]
    },
    {
      "cell_type": "code",
      "execution_count": 17,
      "id": "d92ae536",
      "metadata": {
        "colab": {
          "base_uri": "https://localhost:8080/"
        },
        "id": "d92ae536",
        "outputId": "d13f7281-c3f1-45e0-e3b2-db3635b3039a"
      },
      "outputs": [
        {
          "output_type": "execute_result",
          "data": {
            "text/plain": [
              "count    1236.000000\n",
              "mean        0.472492\n",
              "std         0.499445\n",
              "min         0.000000\n",
              "25%         0.000000\n",
              "50%         0.000000\n",
              "75%         1.000000\n",
              "max         1.000000\n",
              "Name: 4800, dtype: float64"
            ]
          },
          "metadata": {},
          "execution_count": 17
        }
      ],
      "source": [
        "df_strip.iloc[:,-1].describe()"
      ]
    },
    {
      "cell_type": "markdown",
      "id": "bf8f311c",
      "metadata": {
        "id": "bf8f311c"
      },
      "source": [
        "### Block Koeffizientenfunktion"
      ]
    },
    {
      "cell_type": "code",
      "execution_count": 18,
      "id": "ef2779e9",
      "metadata": {
        "colab": {
          "base_uri": "https://localhost:8080/"
        },
        "id": "ef2779e9",
        "outputId": "03bca40d-9a02-4cd2-f31c-9963c9cce4e9"
      },
      "outputs": [
        {
          "output_type": "stream",
          "name": "stdout",
          "text": [
            "(26477, 4804)\n"
          ]
        }
      ],
      "source": [
        "# coeff_fun_names = [\"Constant\",\"Strip\",\"Blocks\",\"Random Blocks\",\"Completely Random\",\"StripesNBlocks\"]\n",
        "df_blocks = df_base.loc[df_base['coefficientType'] == \"Blocks\",]\n",
        "print(df_blocks.shape)"
      ]
    },
    {
      "cell_type": "code",
      "execution_count": 19,
      "id": "32a93241",
      "metadata": {
        "colab": {
          "base_uri": "https://localhost:8080/"
        },
        "id": "32a93241",
        "outputId": "3202f22d-ff5e-43a7-f4ec-fd8a09731108"
      },
      "outputs": [
        {
          "output_type": "execute_result",
          "data": {
            "text/plain": [
              "count    26477.000000\n",
              "mean         0.116365\n",
              "std          0.320668\n",
              "min          0.000000\n",
              "25%          0.000000\n",
              "50%          0.000000\n",
              "75%          0.000000\n",
              "max          1.000000\n",
              "Name: 4800, dtype: float64"
            ]
          },
          "metadata": {},
          "execution_count": 19
        }
      ],
      "source": [
        "df_blocks.iloc[:,-1].describe()"
      ]
    },
    {
      "cell_type": "markdown",
      "id": "90e65ff9",
      "metadata": {
        "id": "90e65ff9"
      },
      "source": [
        "### Random Block Koeffizientenfunktion"
      ]
    },
    {
      "cell_type": "code",
      "execution_count": 20,
      "id": "4be7a7de",
      "metadata": {
        "colab": {
          "base_uri": "https://localhost:8080/"
        },
        "id": "4be7a7de",
        "outputId": "2c56cb4f-7780-4b91-b549-01ca80391126"
      },
      "outputs": [
        {
          "output_type": "stream",
          "name": "stdout",
          "text": [
            "(26185, 4804)\n"
          ]
        }
      ],
      "source": [
        "# coeff_fun_names = [\"Constant\",\"Strip\",\"Blocks\",\"Random Blocks\",\"Completely Random\",\"StripesNBlocks\"]\n",
        "df_randBlocks = df_base.loc[paramdf_base['coefficientType'] == \"Random Blocks\",]\n",
        "print(df_randBlocks.shape)"
      ]
    },
    {
      "cell_type": "code",
      "execution_count": 21,
      "id": "2afb4192",
      "metadata": {
        "colab": {
          "base_uri": "https://localhost:8080/"
        },
        "id": "2afb4192",
        "outputId": "61d06500-64da-4d56-8a0e-e2b1b27d3c1c"
      },
      "outputs": [
        {
          "output_type": "execute_result",
          "data": {
            "text/plain": [
              "count    26185.000000\n",
              "mean         0.022303\n",
              "std          0.147669\n",
              "min          0.000000\n",
              "25%          0.000000\n",
              "50%          0.000000\n",
              "75%          0.000000\n",
              "max          1.000000\n",
              "Name: 4800, dtype: float64"
            ]
          },
          "metadata": {},
          "execution_count": 21
        }
      ],
      "source": [
        "df_randBlocks.iloc[:,-1].describe()"
      ]
    },
    {
      "cell_type": "markdown",
      "id": "4c57ef6f",
      "metadata": {
        "id": "4c57ef6f"
      },
      "source": [
        "### Random Koeffizientenfunktion"
      ]
    },
    {
      "cell_type": "code",
      "execution_count": 22,
      "id": "ea5a71c0",
      "metadata": {
        "colab": {
          "base_uri": "https://localhost:8080/"
        },
        "id": "ea5a71c0",
        "outputId": "0cf40472-39ad-43b0-ba9a-e2743bfe70a0"
      },
      "outputs": [
        {
          "output_type": "stream",
          "name": "stdout",
          "text": [
            "(18444, 4804)\n"
          ]
        }
      ],
      "source": [
        "# coeff_fun_names = [\"Constant\",\"Strip\",\"Blocks\",\"Random Blocks\",\"Completely Random\",\"StripesNBlocks\"]\n",
        "df_random = df_base.loc[paramdf_base['coefficientType'] == \"Completely Random\",]\n",
        "print(df_random.shape)"
      ]
    },
    {
      "cell_type": "code",
      "execution_count": 23,
      "id": "10a2ba1b",
      "metadata": {
        "colab": {
          "base_uri": "https://localhost:8080/"
        },
        "id": "10a2ba1b",
        "outputId": "bb7bd1ea-9ae8-4848-a69c-6e4cbbfa58d5"
      },
      "outputs": [
        {
          "output_type": "execute_result",
          "data": {
            "text/plain": [
              "count    18444.000000\n",
              "mean         0.381425\n",
              "std          0.485750\n",
              "min          0.000000\n",
              "25%          0.000000\n",
              "50%          0.000000\n",
              "75%          1.000000\n",
              "max          1.000000\n",
              "Name: 4800, dtype: float64"
            ]
          },
          "metadata": {},
          "execution_count": 23
        }
      ],
      "source": [
        "df_random.iloc[:,-1].describe()"
      ]
    },
    {
      "cell_type": "markdown",
      "id": "e348f6ea",
      "metadata": {
        "id": "e348f6ea"
      },
      "source": [
        "### Stripes and Blocks"
      ]
    },
    {
      "cell_type": "code",
      "execution_count": 24,
      "id": "d777409f",
      "metadata": {
        "colab": {
          "base_uri": "https://localhost:8080/"
        },
        "id": "d777409f",
        "outputId": "6b006702-03e3-4db6-bf23-0d53a6425cda"
      },
      "outputs": [
        {
          "output_type": "stream",
          "name": "stdout",
          "text": [
            "(18828, 4804)\n"
          ]
        }
      ],
      "source": [
        "# coeff_fun_names = [\"Constant\",\"Strip\",\"Blocks\",\"Random Blocks\",\"Completely Random\",\"StripesNBlocks\"]\n",
        "df_stripsNBlocks = df_base.loc[paramdf_base['coefficientType'] == \"StripesNBlocks\",]\n",
        "print(df_stripsNBlocks.shape)"
      ]
    },
    {
      "cell_type": "code",
      "execution_count": 25,
      "id": "7ee6d5b2",
      "metadata": {
        "colab": {
          "base_uri": "https://localhost:8080/"
        },
        "id": "7ee6d5b2",
        "outputId": "75f29420-5db2-4ad5-dcd2-a88b6be701d6"
      },
      "outputs": [
        {
          "output_type": "execute_result",
          "data": {
            "text/plain": [
              "count    18828.000000\n",
              "mean         0.411993\n",
              "std          0.492207\n",
              "min          0.000000\n",
              "25%          0.000000\n",
              "50%          0.000000\n",
              "75%          1.000000\n",
              "max          1.000000\n",
              "Name: 4800, dtype: float64"
            ]
          },
          "metadata": {},
          "execution_count": 25
        }
      ],
      "source": [
        "df_stripsNBlocks.iloc[:,-1].describe()"
      ]
    },
    {
      "cell_type": "code",
      "execution_count": 26,
      "id": "71eb646e",
      "metadata": {
        "id": "71eb646e"
      },
      "outputs": [],
      "source": [
        "del df_base"
      ]
    },
    {
      "cell_type": "markdown",
      "id": "8de089a7",
      "metadata": {
        "id": "8de089a7"
      },
      "source": [
        "## Datensatz zusammensetzen"
      ]
    },
    {
      "cell_type": "code",
      "execution_count": 27,
      "id": "a4b13816",
      "metadata": {
        "id": "a4b13816"
      },
      "outputs": [],
      "source": [
        "randomState = 0\n",
        "shareConstant = 1\n",
        "shareStrip = 1\n",
        "shareBlocks = 0.3\n",
        "shareRandBlocks = 0.9\n",
        "shareRand = 0\n",
        "shareStripsNBlocks = 0.5"
      ]
    },
    {
      "cell_type": "code",
      "execution_count": 28,
      "id": "f08617ca",
      "metadata": {
        "colab": {
          "base_uri": "https://localhost:8080/",
          "height": 253
        },
        "id": "f08617ca",
        "outputId": "7aaca4ef-2e2f-4db9-c46e-2c230701a43b"
      },
      "outputs": [
        {
          "output_type": "stream",
          "name": "stdout",
          "text": [
            "(42160, 4804)\n"
          ]
        },
        {
          "output_type": "execute_result",
          "data": {
            "text/plain": [
              "  coefficientType                                     parameterNames  \\\n",
              "0        Constant  affectedSubdomains,rhoMin,rhoMax,indexShiftx,i...   \n",
              "1           Strip           height,nStrips,rhoMin,rhoMax,indexShifty   \n",
              "2           Strip           height,nStrips,rhoMin,rhoMax,indexShifty   \n",
              "3           Strip           height,nStrips,rhoMin,rhoMax,indexShifty   \n",
              "4           Strip           height,nStrips,rhoMin,rhoMax,indexShifty   \n",
              "\n",
              "         parameterValues  0  1  2  3  4  5  6  ...  4791  4792  4793  4794  \\\n",
              "0  6,10,1,1000000,0,0,,,  0  0  0  0  0  0  0  ...     0     0     0     0   \n",
              "1   3,4,1,1000000,12,,,,  0  0  0  0  0  0  0  ...     1     1     1     1   \n",
              "2    1,4,1000000,1,6,,,,  0  0  1  1  1  1  1  ...     0     0     1     1   \n",
              "3    4,3,1000000,1,8,,,,  1  1  1  1  1  1  1  ...     0     0     0     0   \n",
              "4   2,4,1000000,1,20,,,,  1  1  0  0  0  0  0  ...     1     1     0     0   \n",
              "\n",
              "   4795  4796  4797  4798  4799  4800  \n",
              "0     0     0     0     0     0     0  \n",
              "1     1     1     1     1     1     0  \n",
              "2     1     1     0     0     0     1  \n",
              "3     0     0     0     0     0     0  \n",
              "4     0     0     0     1     1     1  \n",
              "\n",
              "[5 rows x 4804 columns]"
            ],
            "text/html": [
              "\n",
              "  <div id=\"df-bd41f377-c539-4eed-ab8a-9369d28c8e49\">\n",
              "    <div class=\"colab-df-container\">\n",
              "      <div>\n",
              "<style scoped>\n",
              "    .dataframe tbody tr th:only-of-type {\n",
              "        vertical-align: middle;\n",
              "    }\n",
              "\n",
              "    .dataframe tbody tr th {\n",
              "        vertical-align: top;\n",
              "    }\n",
              "\n",
              "    .dataframe thead th {\n",
              "        text-align: right;\n",
              "    }\n",
              "</style>\n",
              "<table border=\"1\" class=\"dataframe\">\n",
              "  <thead>\n",
              "    <tr style=\"text-align: right;\">\n",
              "      <th></th>\n",
              "      <th>coefficientType</th>\n",
              "      <th>parameterNames</th>\n",
              "      <th>parameterValues</th>\n",
              "      <th>0</th>\n",
              "      <th>1</th>\n",
              "      <th>2</th>\n",
              "      <th>3</th>\n",
              "      <th>4</th>\n",
              "      <th>5</th>\n",
              "      <th>6</th>\n",
              "      <th>...</th>\n",
              "      <th>4791</th>\n",
              "      <th>4792</th>\n",
              "      <th>4793</th>\n",
              "      <th>4794</th>\n",
              "      <th>4795</th>\n",
              "      <th>4796</th>\n",
              "      <th>4797</th>\n",
              "      <th>4798</th>\n",
              "      <th>4799</th>\n",
              "      <th>4800</th>\n",
              "    </tr>\n",
              "  </thead>\n",
              "  <tbody>\n",
              "    <tr>\n",
              "      <th>0</th>\n",
              "      <td>Constant</td>\n",
              "      <td>affectedSubdomains,rhoMin,rhoMax,indexShiftx,i...</td>\n",
              "      <td>6,10,1,1000000,0,0,,,</td>\n",
              "      <td>0</td>\n",
              "      <td>0</td>\n",
              "      <td>0</td>\n",
              "      <td>0</td>\n",
              "      <td>0</td>\n",
              "      <td>0</td>\n",
              "      <td>0</td>\n",
              "      <td>...</td>\n",
              "      <td>0</td>\n",
              "      <td>0</td>\n",
              "      <td>0</td>\n",
              "      <td>0</td>\n",
              "      <td>0</td>\n",
              "      <td>0</td>\n",
              "      <td>0</td>\n",
              "      <td>0</td>\n",
              "      <td>0</td>\n",
              "      <td>0</td>\n",
              "    </tr>\n",
              "    <tr>\n",
              "      <th>1</th>\n",
              "      <td>Strip</td>\n",
              "      <td>height,nStrips,rhoMin,rhoMax,indexShifty</td>\n",
              "      <td>3,4,1,1000000,12,,,,</td>\n",
              "      <td>0</td>\n",
              "      <td>0</td>\n",
              "      <td>0</td>\n",
              "      <td>0</td>\n",
              "      <td>0</td>\n",
              "      <td>0</td>\n",
              "      <td>0</td>\n",
              "      <td>...</td>\n",
              "      <td>1</td>\n",
              "      <td>1</td>\n",
              "      <td>1</td>\n",
              "      <td>1</td>\n",
              "      <td>1</td>\n",
              "      <td>1</td>\n",
              "      <td>1</td>\n",
              "      <td>1</td>\n",
              "      <td>1</td>\n",
              "      <td>0</td>\n",
              "    </tr>\n",
              "    <tr>\n",
              "      <th>2</th>\n",
              "      <td>Strip</td>\n",
              "      <td>height,nStrips,rhoMin,rhoMax,indexShifty</td>\n",
              "      <td>1,4,1000000,1,6,,,,</td>\n",
              "      <td>0</td>\n",
              "      <td>0</td>\n",
              "      <td>1</td>\n",
              "      <td>1</td>\n",
              "      <td>1</td>\n",
              "      <td>1</td>\n",
              "      <td>1</td>\n",
              "      <td>...</td>\n",
              "      <td>0</td>\n",
              "      <td>0</td>\n",
              "      <td>1</td>\n",
              "      <td>1</td>\n",
              "      <td>1</td>\n",
              "      <td>1</td>\n",
              "      <td>0</td>\n",
              "      <td>0</td>\n",
              "      <td>0</td>\n",
              "      <td>1</td>\n",
              "    </tr>\n",
              "    <tr>\n",
              "      <th>3</th>\n",
              "      <td>Strip</td>\n",
              "      <td>height,nStrips,rhoMin,rhoMax,indexShifty</td>\n",
              "      <td>4,3,1000000,1,8,,,,</td>\n",
              "      <td>1</td>\n",
              "      <td>1</td>\n",
              "      <td>1</td>\n",
              "      <td>1</td>\n",
              "      <td>1</td>\n",
              "      <td>1</td>\n",
              "      <td>1</td>\n",
              "      <td>...</td>\n",
              "      <td>0</td>\n",
              "      <td>0</td>\n",
              "      <td>0</td>\n",
              "      <td>0</td>\n",
              "      <td>0</td>\n",
              "      <td>0</td>\n",
              "      <td>0</td>\n",
              "      <td>0</td>\n",
              "      <td>0</td>\n",
              "      <td>0</td>\n",
              "    </tr>\n",
              "    <tr>\n",
              "      <th>4</th>\n",
              "      <td>Strip</td>\n",
              "      <td>height,nStrips,rhoMin,rhoMax,indexShifty</td>\n",
              "      <td>2,4,1000000,1,20,,,,</td>\n",
              "      <td>1</td>\n",
              "      <td>1</td>\n",
              "      <td>0</td>\n",
              "      <td>0</td>\n",
              "      <td>0</td>\n",
              "      <td>0</td>\n",
              "      <td>0</td>\n",
              "      <td>...</td>\n",
              "      <td>1</td>\n",
              "      <td>1</td>\n",
              "      <td>0</td>\n",
              "      <td>0</td>\n",
              "      <td>0</td>\n",
              "      <td>0</td>\n",
              "      <td>0</td>\n",
              "      <td>1</td>\n",
              "      <td>1</td>\n",
              "      <td>1</td>\n",
              "    </tr>\n",
              "  </tbody>\n",
              "</table>\n",
              "<p>5 rows × 4804 columns</p>\n",
              "</div>\n",
              "      <button class=\"colab-df-convert\" onclick=\"convertToInteractive('df-bd41f377-c539-4eed-ab8a-9369d28c8e49')\"\n",
              "              title=\"Convert this dataframe to an interactive table.\"\n",
              "              style=\"display:none;\">\n",
              "        \n",
              "  <svg xmlns=\"http://www.w3.org/2000/svg\" height=\"24px\"viewBox=\"0 0 24 24\"\n",
              "       width=\"24px\">\n",
              "    <path d=\"M0 0h24v24H0V0z\" fill=\"none\"/>\n",
              "    <path d=\"M18.56 5.44l.94 2.06.94-2.06 2.06-.94-2.06-.94-.94-2.06-.94 2.06-2.06.94zm-11 1L8.5 8.5l.94-2.06 2.06-.94-2.06-.94L8.5 2.5l-.94 2.06-2.06.94zm10 10l.94 2.06.94-2.06 2.06-.94-2.06-.94-.94-2.06-.94 2.06-2.06.94z\"/><path d=\"M17.41 7.96l-1.37-1.37c-.4-.4-.92-.59-1.43-.59-.52 0-1.04.2-1.43.59L10.3 9.45l-7.72 7.72c-.78.78-.78 2.05 0 2.83L4 21.41c.39.39.9.59 1.41.59.51 0 1.02-.2 1.41-.59l7.78-7.78 2.81-2.81c.8-.78.8-2.07 0-2.86zM5.41 20L4 18.59l7.72-7.72 1.47 1.35L5.41 20z\"/>\n",
              "  </svg>\n",
              "      </button>\n",
              "      \n",
              "  <style>\n",
              "    .colab-df-container {\n",
              "      display:flex;\n",
              "      flex-wrap:wrap;\n",
              "      gap: 12px;\n",
              "    }\n",
              "\n",
              "    .colab-df-convert {\n",
              "      background-color: #E8F0FE;\n",
              "      border: none;\n",
              "      border-radius: 50%;\n",
              "      cursor: pointer;\n",
              "      display: none;\n",
              "      fill: #1967D2;\n",
              "      height: 32px;\n",
              "      padding: 0 0 0 0;\n",
              "      width: 32px;\n",
              "    }\n",
              "\n",
              "    .colab-df-convert:hover {\n",
              "      background-color: #E2EBFA;\n",
              "      box-shadow: 0px 1px 2px rgba(60, 64, 67, 0.3), 0px 1px 3px 1px rgba(60, 64, 67, 0.15);\n",
              "      fill: #174EA6;\n",
              "    }\n",
              "\n",
              "    [theme=dark] .colab-df-convert {\n",
              "      background-color: #3B4455;\n",
              "      fill: #D2E3FC;\n",
              "    }\n",
              "\n",
              "    [theme=dark] .colab-df-convert:hover {\n",
              "      background-color: #434B5C;\n",
              "      box-shadow: 0px 1px 3px 1px rgba(0, 0, 0, 0.15);\n",
              "      filter: drop-shadow(0px 1px 2px rgba(0, 0, 0, 0.3));\n",
              "      fill: #FFFFFF;\n",
              "    }\n",
              "  </style>\n",
              "\n",
              "      <script>\n",
              "        const buttonEl =\n",
              "          document.querySelector('#df-bd41f377-c539-4eed-ab8a-9369d28c8e49 button.colab-df-convert');\n",
              "        buttonEl.style.display =\n",
              "          google.colab.kernel.accessAllowed ? 'block' : 'none';\n",
              "\n",
              "        async function convertToInteractive(key) {\n",
              "          const element = document.querySelector('#df-bd41f377-c539-4eed-ab8a-9369d28c8e49');\n",
              "          const dataTable =\n",
              "            await google.colab.kernel.invokeFunction('convertToInteractive',\n",
              "                                                     [key], {});\n",
              "          if (!dataTable) return;\n",
              "\n",
              "          const docLinkHtml = 'Like what you see? Visit the ' +\n",
              "            '<a target=\"_blank\" href=https://colab.research.google.com/notebooks/data_table.ipynb>data table notebook</a>'\n",
              "            + ' to learn more about interactive tables.';\n",
              "          element.innerHTML = '';\n",
              "          dataTable['output_type'] = 'display_data';\n",
              "          await google.colab.output.renderOutput(dataTable, element);\n",
              "          const docLink = document.createElement('div');\n",
              "          docLink.innerHTML = docLinkHtml;\n",
              "          element.appendChild(docLink);\n",
              "        }\n",
              "      </script>\n",
              "    </div>\n",
              "  </div>\n",
              "  "
            ]
          },
          "metadata": {},
          "execution_count": 28
        }
      ],
      "source": [
        "df = pd.concat([df_constant.sample(frac = shareConstant,random_state = randomState),\n",
        "                df_strip.sample(frac = shareStrip,random_state = randomState),\n",
        "                df_blocks.sample(frac = shareBlocks,random_state = randomState),\n",
        "                df_randBlocks.sample(frac = shareRandBlocks,random_state = randomState),\n",
        "                df_random.sample(frac = shareRand,random_state = randomState),\n",
        "                df_stripsNBlocks.sample(frac = shareStripsNBlocks,random_state = randomState)\n",
        "               ], axis = 0, ignore_index = True)\n",
        "\n",
        "print(df.shape)\n",
        "df.head()"
      ]
    },
    {
      "cell_type": "markdown",
      "id": "556b72ad",
      "metadata": {
        "id": "556b72ad"
      },
      "source": [
        "## Speichere Daten"
      ]
    },
    {
      "cell_type": "code",
      "execution_count": 29,
      "id": "a3ceb43a",
      "metadata": {
        "id": "a3ceb43a"
      },
      "outputs": [],
      "source": [
        "# Exportiere Trainingsdaten\n",
        "df.iloc[:,3:].to_csv(os.path.join(train_data_path, \"training_dataset_ver6.csv\"),index = False, header = False)\n",
        "# Exportiere zugehörige Parameter\n",
        "df.iloc[:,0:3].to_csv(os.path.join(train_data_path, \"training_dataset_ver6_parameters.csv\"),index = False, header = True)"
      ]
    }
  ],
  "metadata": {
    "kernelspec": {
      "display_name": "Python 3 (ipykernel)",
      "language": "python",
      "name": "python3"
    },
    "language_info": {
      "codemirror_mode": {
        "name": "ipython",
        "version": 3
      },
      "file_extension": ".py",
      "mimetype": "text/x-python",
      "name": "python",
      "nbconvert_exporter": "python",
      "pygments_lexer": "ipython3",
      "version": "3.7.13"
    },
    "colab": {
      "name": "N02_preprocessing.ipynb",
      "provenance": [],
      "collapsed_sections": [],
      "machine_shape": "hm"
    },
    "gpuClass": "standard"
  },
  "nbformat": 4,
  "nbformat_minor": 5
}