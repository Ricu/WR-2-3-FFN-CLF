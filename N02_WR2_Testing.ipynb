{
  "nbformat": 4,
  "nbformat_minor": 0,
  "metadata": {
    "colab": {
      "name": "WR2 Testing.ipynb",
      "provenance": [],
      "collapsed_sections": [],
      "machine_shape": "hm"
    },
    "kernelspec": {
      "name": "python3",
      "display_name": "Python 3"
    },
    "language_info": {
      "name": "python"
    },
    "accelerator": "GPU",
    "gpuClass": "standard"
  },
  "cells": [
    {
      "cell_type": "code",
      "source": [
        "pip install scikeras"
      ],
      "metadata": {
        "colab": {
          "base_uri": "https://localhost:8080/"
        },
        "id": "IDhruBVOtg1J",
        "outputId": "faf232a6-ff94-4ad9-9894-09597dce3030"
      },
      "execution_count": 1,
      "outputs": [
        {
          "output_type": "stream",
          "name": "stdout",
          "text": [
            "Looking in indexes: https://pypi.org/simple, https://us-python.pkg.dev/colab-wheels/public/simple/\n",
            "Collecting scikeras\n",
            "  Downloading scikeras-0.8.0-py3-none-any.whl (27 kB)\n",
            "Requirement already satisfied: importlib-metadata>=3 in /usr/local/lib/python3.7/dist-packages (from scikeras) (4.11.4)\n",
            "Requirement already satisfied: scikit-learn>=1.0.0 in /usr/local/lib/python3.7/dist-packages (from scikeras) (1.0.2)\n",
            "Requirement already satisfied: packaging<22.0,>=0.21 in /usr/local/lib/python3.7/dist-packages (from scikeras) (21.3)\n",
            "Requirement already satisfied: typing-extensions>=3.6.4 in /usr/local/lib/python3.7/dist-packages (from importlib-metadata>=3->scikeras) (4.1.1)\n",
            "Requirement already satisfied: zipp>=0.5 in /usr/local/lib/python3.7/dist-packages (from importlib-metadata>=3->scikeras) (3.8.0)\n",
            "Requirement already satisfied: pyparsing!=3.0.5,>=2.0.2 in /usr/local/lib/python3.7/dist-packages (from packaging<22.0,>=0.21->scikeras) (3.0.9)\n",
            "Requirement already satisfied: joblib>=0.11 in /usr/local/lib/python3.7/dist-packages (from scikit-learn>=1.0.0->scikeras) (1.1.0)\n",
            "Requirement already satisfied: scipy>=1.1.0 in /usr/local/lib/python3.7/dist-packages (from scikit-learn>=1.0.0->scikeras) (1.4.1)\n",
            "Requirement already satisfied: numpy>=1.14.6 in /usr/local/lib/python3.7/dist-packages (from scikit-learn>=1.0.0->scikeras) (1.21.6)\n",
            "Requirement already satisfied: threadpoolctl>=2.0.0 in /usr/local/lib/python3.7/dist-packages (from scikit-learn>=1.0.0->scikeras) (3.1.0)\n",
            "Installing collected packages: scikeras\n",
            "Successfully installed scikeras-0.8.0\n"
          ]
        }
      ]
    },
    {
      "cell_type": "code",
      "execution_count": 1,
      "metadata": {
        "id": "dP3PNOzYeLcs"
      },
      "outputs": [],
      "source": [
        "import numpy as np\n",
        "import pandas as pd\n",
        "import matplotlib.pyplot as plt\n",
        "import tensorflow as tf\n",
        "import joblib\n",
        "from tensorflow.keras.models import Sequential\n",
        "from tensorflow.keras.layers import Dense\n",
        "from sklearn.model_selection import GridSearchCV, RandomizedSearchCV, train_test_split, StratifiedKFold\n",
        "from sklearn.preprocessing import MinMaxScaler\n",
        "from sklearn.metrics import mean_squared_error, make_scorer, r2_score, accuracy_score, log_loss, confusion_matrix\n",
        "from tensorflow.keras.wrappers.scikit_learn import KerasClassifier\n",
        "#from scikeras.wrappers import KerasClassifier\n",
        "from tensorflow.keras.callbacks import EarlyStopping\n",
        "from tensorflow.keras.initializers import GlorotUniform, Zeros"
      ]
    },
    {
      "cell_type": "markdown",
      "source": [
        "Prüfe ob eine CPU für das Training verfügbar ist."
      ],
      "metadata": {
        "id": "54A5dc9Pzdqx"
      }
    },
    {
      "cell_type": "code",
      "source": [
        "print(\"Num GPUs Available: \", len(tf.config.list_physical_devices('GPU')))"
      ],
      "metadata": {
        "colab": {
          "base_uri": "https://localhost:8080/"
        },
        "id": "rl-LWp6ujRL_",
        "outputId": "b7954314-a735-41bb-e79d-8562334b28ba"
      },
      "execution_count": 2,
      "outputs": [
        {
          "output_type": "stream",
          "name": "stdout",
          "text": [
            "Num GPUs Available:  1\n"
          ]
        }
      ]
    },
    {
      "cell_type": "markdown",
      "source": [
        "Um die Ergebnisse reproduzierbar zu machen erstellen wir einen random_state und intialisieren die seeds für die RNG."
      ],
      "metadata": {
        "id": "ozaxiuTYzcTe"
      }
    },
    {
      "cell_type": "code",
      "source": [
        "random_state = 1\n",
        "tf.random.set_seed(random_state)\n",
        "np.random.seed(random_state)"
      ],
      "metadata": {
        "id": "v7Zc4tvrfIv9"
      },
      "execution_count": 3,
      "outputs": []
    },
    {
      "cell_type": "markdown",
      "source": [
        "Lade die erstellten Trainingsdaten."
      ],
      "metadata": {
        "id": "-wxnoh0-z-Ds"
      }
    },
    {
      "cell_type": "code",
      "source": [
        "data = pd.read_csv('/content/drive/MyDrive/WR2 Brrr/Trainingsdaten_Proj3/training_dataset_ver5.csv', header = None)\n",
        "print(data.shape)\n",
        "data.head()"
      ],
      "metadata": {
        "id": "Pf2lRsBOfglk",
        "colab": {
          "base_uri": "https://localhost:8080/",
          "height": 253
        },
        "outputId": "6a9a01d4-5c00-4b07-8ddf-3ec3fb8a6920"
      },
      "execution_count": 4,
      "outputs": [
        {
          "output_type": "stream",
          "name": "stdout",
          "text": [
            "(38163, 4801)\n"
          ]
        },
        {
          "output_type": "execute_result",
          "data": {
            "text/plain": [
              "   0     1     2     3     4     5     6     7     8     9     ...  4791  \\\n",
              "0     0     0     0     0     0     0     0     0     0     0  ...     0   \n",
              "1     0     0     0     0     0     0     0     0     0     0  ...     1   \n",
              "2     1     1     1     1     1     1     1     1     1     1  ...     1   \n",
              "3     1     1     1     1     1     1     1     1     1     1  ...     0   \n",
              "4     0     0     0     0     0     0     0     0     0     0  ...     1   \n",
              "\n",
              "   4792  4793  4794  4795  4796  4797  4798  4799  4800  \n",
              "0     0     0     0     0     0     0     0     0     0  \n",
              "1     1     1     1     1     1     1     1     1     0  \n",
              "2     1     1     1     1     1     1     1     1     0  \n",
              "3     0     0     0     0     0     0     0     0     0  \n",
              "4     1     1     1     1     1     1     1     1     0  \n",
              "\n",
              "[5 rows x 4801 columns]"
            ],
            "text/html": [
              "\n",
              "  <div id=\"df-b8d32813-d76d-41e4-beb3-63f27fb6809d\">\n",
              "    <div class=\"colab-df-container\">\n",
              "      <div>\n",
              "<style scoped>\n",
              "    .dataframe tbody tr th:only-of-type {\n",
              "        vertical-align: middle;\n",
              "    }\n",
              "\n",
              "    .dataframe tbody tr th {\n",
              "        vertical-align: top;\n",
              "    }\n",
              "\n",
              "    .dataframe thead th {\n",
              "        text-align: right;\n",
              "    }\n",
              "</style>\n",
              "<table border=\"1\" class=\"dataframe\">\n",
              "  <thead>\n",
              "    <tr style=\"text-align: right;\">\n",
              "      <th></th>\n",
              "      <th>0</th>\n",
              "      <th>1</th>\n",
              "      <th>2</th>\n",
              "      <th>3</th>\n",
              "      <th>4</th>\n",
              "      <th>5</th>\n",
              "      <th>6</th>\n",
              "      <th>7</th>\n",
              "      <th>8</th>\n",
              "      <th>9</th>\n",
              "      <th>...</th>\n",
              "      <th>4791</th>\n",
              "      <th>4792</th>\n",
              "      <th>4793</th>\n",
              "      <th>4794</th>\n",
              "      <th>4795</th>\n",
              "      <th>4796</th>\n",
              "      <th>4797</th>\n",
              "      <th>4798</th>\n",
              "      <th>4799</th>\n",
              "      <th>4800</th>\n",
              "    </tr>\n",
              "  </thead>\n",
              "  <tbody>\n",
              "    <tr>\n",
              "      <th>0</th>\n",
              "      <td>0</td>\n",
              "      <td>0</td>\n",
              "      <td>0</td>\n",
              "      <td>0</td>\n",
              "      <td>0</td>\n",
              "      <td>0</td>\n",
              "      <td>0</td>\n",
              "      <td>0</td>\n",
              "      <td>0</td>\n",
              "      <td>0</td>\n",
              "      <td>...</td>\n",
              "      <td>0</td>\n",
              "      <td>0</td>\n",
              "      <td>0</td>\n",
              "      <td>0</td>\n",
              "      <td>0</td>\n",
              "      <td>0</td>\n",
              "      <td>0</td>\n",
              "      <td>0</td>\n",
              "      <td>0</td>\n",
              "      <td>0</td>\n",
              "    </tr>\n",
              "    <tr>\n",
              "      <th>1</th>\n",
              "      <td>0</td>\n",
              "      <td>0</td>\n",
              "      <td>0</td>\n",
              "      <td>0</td>\n",
              "      <td>0</td>\n",
              "      <td>0</td>\n",
              "      <td>0</td>\n",
              "      <td>0</td>\n",
              "      <td>0</td>\n",
              "      <td>0</td>\n",
              "      <td>...</td>\n",
              "      <td>1</td>\n",
              "      <td>1</td>\n",
              "      <td>1</td>\n",
              "      <td>1</td>\n",
              "      <td>1</td>\n",
              "      <td>1</td>\n",
              "      <td>1</td>\n",
              "      <td>1</td>\n",
              "      <td>1</td>\n",
              "      <td>0</td>\n",
              "    </tr>\n",
              "    <tr>\n",
              "      <th>2</th>\n",
              "      <td>1</td>\n",
              "      <td>1</td>\n",
              "      <td>1</td>\n",
              "      <td>1</td>\n",
              "      <td>1</td>\n",
              "      <td>1</td>\n",
              "      <td>1</td>\n",
              "      <td>1</td>\n",
              "      <td>1</td>\n",
              "      <td>1</td>\n",
              "      <td>...</td>\n",
              "      <td>1</td>\n",
              "      <td>1</td>\n",
              "      <td>1</td>\n",
              "      <td>1</td>\n",
              "      <td>1</td>\n",
              "      <td>1</td>\n",
              "      <td>1</td>\n",
              "      <td>1</td>\n",
              "      <td>1</td>\n",
              "      <td>0</td>\n",
              "    </tr>\n",
              "    <tr>\n",
              "      <th>3</th>\n",
              "      <td>1</td>\n",
              "      <td>1</td>\n",
              "      <td>1</td>\n",
              "      <td>1</td>\n",
              "      <td>1</td>\n",
              "      <td>1</td>\n",
              "      <td>1</td>\n",
              "      <td>1</td>\n",
              "      <td>1</td>\n",
              "      <td>1</td>\n",
              "      <td>...</td>\n",
              "      <td>0</td>\n",
              "      <td>0</td>\n",
              "      <td>0</td>\n",
              "      <td>0</td>\n",
              "      <td>0</td>\n",
              "      <td>0</td>\n",
              "      <td>0</td>\n",
              "      <td>0</td>\n",
              "      <td>0</td>\n",
              "      <td>0</td>\n",
              "    </tr>\n",
              "    <tr>\n",
              "      <th>4</th>\n",
              "      <td>0</td>\n",
              "      <td>0</td>\n",
              "      <td>0</td>\n",
              "      <td>0</td>\n",
              "      <td>0</td>\n",
              "      <td>0</td>\n",
              "      <td>0</td>\n",
              "      <td>0</td>\n",
              "      <td>0</td>\n",
              "      <td>0</td>\n",
              "      <td>...</td>\n",
              "      <td>1</td>\n",
              "      <td>1</td>\n",
              "      <td>1</td>\n",
              "      <td>1</td>\n",
              "      <td>1</td>\n",
              "      <td>1</td>\n",
              "      <td>1</td>\n",
              "      <td>1</td>\n",
              "      <td>1</td>\n",
              "      <td>0</td>\n",
              "    </tr>\n",
              "  </tbody>\n",
              "</table>\n",
              "<p>5 rows × 4801 columns</p>\n",
              "</div>\n",
              "      <button class=\"colab-df-convert\" onclick=\"convertToInteractive('df-b8d32813-d76d-41e4-beb3-63f27fb6809d')\"\n",
              "              title=\"Convert this dataframe to an interactive table.\"\n",
              "              style=\"display:none;\">\n",
              "        \n",
              "  <svg xmlns=\"http://www.w3.org/2000/svg\" height=\"24px\"viewBox=\"0 0 24 24\"\n",
              "       width=\"24px\">\n",
              "    <path d=\"M0 0h24v24H0V0z\" fill=\"none\"/>\n",
              "    <path d=\"M18.56 5.44l.94 2.06.94-2.06 2.06-.94-2.06-.94-.94-2.06-.94 2.06-2.06.94zm-11 1L8.5 8.5l.94-2.06 2.06-.94-2.06-.94L8.5 2.5l-.94 2.06-2.06.94zm10 10l.94 2.06.94-2.06 2.06-.94-2.06-.94-.94-2.06-.94 2.06-2.06.94z\"/><path d=\"M17.41 7.96l-1.37-1.37c-.4-.4-.92-.59-1.43-.59-.52 0-1.04.2-1.43.59L10.3 9.45l-7.72 7.72c-.78.78-.78 2.05 0 2.83L4 21.41c.39.39.9.59 1.41.59.51 0 1.02-.2 1.41-.59l7.78-7.78 2.81-2.81c.8-.78.8-2.07 0-2.86zM5.41 20L4 18.59l7.72-7.72 1.47 1.35L5.41 20z\"/>\n",
              "  </svg>\n",
              "      </button>\n",
              "      \n",
              "  <style>\n",
              "    .colab-df-container {\n",
              "      display:flex;\n",
              "      flex-wrap:wrap;\n",
              "      gap: 12px;\n",
              "    }\n",
              "\n",
              "    .colab-df-convert {\n",
              "      background-color: #E8F0FE;\n",
              "      border: none;\n",
              "      border-radius: 50%;\n",
              "      cursor: pointer;\n",
              "      display: none;\n",
              "      fill: #1967D2;\n",
              "      height: 32px;\n",
              "      padding: 0 0 0 0;\n",
              "      width: 32px;\n",
              "    }\n",
              "\n",
              "    .colab-df-convert:hover {\n",
              "      background-color: #E2EBFA;\n",
              "      box-shadow: 0px 1px 2px rgba(60, 64, 67, 0.3), 0px 1px 3px 1px rgba(60, 64, 67, 0.15);\n",
              "      fill: #174EA6;\n",
              "    }\n",
              "\n",
              "    [theme=dark] .colab-df-convert {\n",
              "      background-color: #3B4455;\n",
              "      fill: #D2E3FC;\n",
              "    }\n",
              "\n",
              "    [theme=dark] .colab-df-convert:hover {\n",
              "      background-color: #434B5C;\n",
              "      box-shadow: 0px 1px 3px 1px rgba(0, 0, 0, 0.15);\n",
              "      filter: drop-shadow(0px 1px 2px rgba(0, 0, 0, 0.3));\n",
              "      fill: #FFFFFF;\n",
              "    }\n",
              "  </style>\n",
              "\n",
              "      <script>\n",
              "        const buttonEl =\n",
              "          document.querySelector('#df-b8d32813-d76d-41e4-beb3-63f27fb6809d button.colab-df-convert');\n",
              "        buttonEl.style.display =\n",
              "          google.colab.kernel.accessAllowed ? 'block' : 'none';\n",
              "\n",
              "        async function convertToInteractive(key) {\n",
              "          const element = document.querySelector('#df-b8d32813-d76d-41e4-beb3-63f27fb6809d');\n",
              "          const dataTable =\n",
              "            await google.colab.kernel.invokeFunction('convertToInteractive',\n",
              "                                                     [key], {});\n",
              "          if (!dataTable) return;\n",
              "\n",
              "          const docLinkHtml = 'Like what you see? Visit the ' +\n",
              "            '<a target=\"_blank\" href=https://colab.research.google.com/notebooks/data_table.ipynb>data table notebook</a>'\n",
              "            + ' to learn more about interactive tables.';\n",
              "          element.innerHTML = '';\n",
              "          dataTable['output_type'] = 'display_data';\n",
              "          await google.colab.output.renderOutput(dataTable, element);\n",
              "          const docLink = document.createElement('div');\n",
              "          docLink.innerHTML = docLinkHtml;\n",
              "          element.appendChild(docLink);\n",
              "        }\n",
              "      </script>\n",
              "    </div>\n",
              "  </div>\n",
              "  "
            ]
          },
          "metadata": {},
          "execution_count": 4
        }
      ]
    },
    {
      "cell_type": "code",
      "source": [
        "X = data.iloc[:,:-1].values\n",
        "y = data.iloc[:,-1:].values\n",
        "X[:10,]"
      ],
      "metadata": {
        "id": "OtgkpYX1fgom",
        "colab": {
          "base_uri": "https://localhost:8080/"
        },
        "outputId": "5c5a3db3-ea4a-4229-ba34-5d89842a777d"
      },
      "execution_count": 5,
      "outputs": [
        {
          "output_type": "execute_result",
          "data": {
            "text/plain": [
              "array([[0, 0, 0, ..., 0, 0, 0],\n",
              "       [0, 0, 0, ..., 1, 1, 1],\n",
              "       [1, 1, 1, ..., 1, 1, 1],\n",
              "       ...,\n",
              "       [1, 1, 0, ..., 0, 1, 1],\n",
              "       [0, 0, 0, ..., 0, 0, 0],\n",
              "       [0, 0, 1, ..., 1, 0, 0]])"
            ]
          },
          "metadata": {},
          "execution_count": 5
        }
      ]
    },
    {
      "cell_type": "markdown",
      "source": [
        "Im folgenden wird der Datensatz auf das Intervall [0,1] normalisiert und ein Train-Test split durchgeführt. Die Normalisierung ist streng genommen nicht notwendig, da unsere Trainingssdaten bereits normalisiert ist."
      ],
      "metadata": {
        "id": "QmXxxrfp0PYF"
      }
    },
    {
      "cell_type": "code",
      "source": [
        "normalizer = MinMaxScaler()\n",
        "X = normalizer.fit_transform(X)\n",
        "X_train, X_test, y_train, y_test = train_test_split(X, y, test_size=0.2)\n",
        "\n"
      ],
      "metadata": {
        "id": "wRl0vKw6foVl"
      },
      "execution_count": 6,
      "outputs": []
    },
    {
      "cell_type": "markdown",
      "source": [
        "Lege die Parameterverteilungen für den RandomSearch fest und erstelle das zugehörige dictionary. In der Variable metrics werden die gewünschten Metriken eingetragen, welche während des fittings evaluiert werden. Da diese aber nicht direkt im RandomSearch eingesehen werden können, werden sie vorerst nicht benötigt."
      ],
      "metadata": {
        "id": "M5WBy7yx0qp-"
      }
    },
    {
      "cell_type": "code",
      "source": [
        "activation      = ['sigmoid','relu']\n",
        "batch_size      = [8,16,32,64]\n",
        "epochs          = [50,100,150]\n",
        "learning_rate   = [0.001,0.01,0.1]\n",
        "n_hidden_layers = [2,3,4,5]\n",
        "layer_size      = [100,200,500]\n",
        "dropout_rate    = [0, 0.1, 0.2, 0.5]\n",
        "\n",
        "parameters = {\n",
        "    'activation' : activation,  \n",
        "    'batch_size': batch_size,\n",
        "    'epochs': epochs,\n",
        "    'learning_rate' : learning_rate,\n",
        "    'n_hidden_layers' : n_hidden_layers,\n",
        "    'layer_size' : layer_size,\n",
        "    'dropout_rate' : dropout_rate\n",
        "    }\n",
        "\n",
        "# metrics = [tf.keras.metrics.BinaryAccuracy(),\n",
        "#            tf.keras.metrics.BinaryCrossentropy(),\n",
        "#            tf.keras.metrics.AUC(),\n",
        "#            tf.keras.metrics.Precision(),\n",
        "#            tf.keras.metrics.Recall(),\n",
        "#            tf.keras.metrics.TrueNegatives()\n",
        "#            ]\n",
        "metrics = None"
      ],
      "metadata": {
        "id": "fXG2fqTef3o3"
      },
      "execution_count": 7,
      "outputs": []
    },
    {
      "cell_type": "markdown",
      "source": [
        "Der KerasClassifier Wrapper nimmt eine build_fn als Argument, in welcher das Keras Modell erstellt wird. Erstelle in dieser die Netzwerk Architektur und lege die möglichen Hyperparameter fest.\n",
        "\n",
        "In unserem Fall ist die Modell Architektur ein dichtes FFN welches folgendermaßen aufgebaut ist:\n",
        "Input -> DenseLayer -> ActivationFN -> DropoutLayer -> DenseLayer -> ... -> DropoutLayer -> OutputLayer(1 Neuron) -> SigmoidFN"
      ],
      "metadata": {
        "id": "dqCeXVeX1Q8W"
      }
    },
    {
      "cell_type": "code",
      "source": [
        "def build_model(learning_rate,n_hidden_layers,layer_size,activation,dropout_rate):\n",
        "    model = Sequential()\n",
        "    \n",
        "    for i in range(n_hidden_layers):\n",
        "        model.add(Dense(units=layer_size,activation = activation))\n",
        "        model.add(tf.keras.layers.Dropout(dropout_rate, seed = random_state+i)) \n",
        "    # Output Layer\n",
        "    model.add(Dense(1, activation = 'sigmoid'))\n",
        "        \n",
        "    model.compile(loss = 'binary_crossentropy',\n",
        "                  optimizer = tf.keras.optimizers.Adam(learning_rate=learning_rate),\n",
        "                  metrics = metrics)\n",
        "    return model\n",
        "    \n",
        "model = KerasClassifier(build_model, verbose = 0)"
      ],
      "metadata": {
        "id": "cFLq_npJftcj",
        "colab": {
          "base_uri": "https://localhost:8080/"
        },
        "outputId": "0a986013-8e18-44f4-fcfc-124777f3d331"
      },
      "execution_count": 8,
      "outputs": [
        {
          "output_type": "stream",
          "name": "stderr",
          "text": [
            "/usr/local/lib/python3.7/dist-packages/ipykernel_launcher.py:15: DeprecationWarning: KerasClassifier is deprecated, use Sci-Keras (https://github.com/adriangb/scikeras) instead. See https://www.adriangb.com/scikeras/stable/migration.html for help migrating.\n",
            "  from ipykernel import kernelapp as app\n"
          ]
        }
      ]
    },
    {
      "cell_type": "markdown",
      "source": [
        "Cross-Validation Strategy. Da die generierten Trainingsdaten recht umfangreich sind, eignet sich ein 4er-Split. Der CV wird zudem mit einem random state versehen."
      ],
      "metadata": {
        "id": "G-3ruTEN2llx"
      }
    },
    {
      "cell_type": "code",
      "source": [
        "cv = StratifiedKFold(n_splits = 4, shuffle = True, random_state = random_state)"
      ],
      "metadata": {
        "id": "rPRH0Vwbf-qv"
      },
      "execution_count": 9,
      "outputs": []
    },
    {
      "cell_type": "markdown",
      "source": [
        "Das Format in welchem der Output in tf.Keras generiert werden macht es notwendig, dass der scikit-learn Cross-Entropy scorer mit einer Toleranz versehen wird."
      ],
      "metadata": {
        "id": "wbfDLkDa27zI"
      }
    },
    {
      "cell_type": "code",
      "source": [
        "float32neg_log_loss = make_scorer(log_loss, eps = 1e-7)"
      ],
      "metadata": {
        "id": "pF_0y0Y5f9T4"
      },
      "execution_count": 10,
      "outputs": []
    },
    {
      "cell_type": "markdown",
      "source": [
        "Erstelle den RandomSearchCV. Interessante Auswertungen sind die Genauigkeit, der Cross-Entropy loss sowie der Recall. Erstelle zudem einen zusätzlichen random state für die Suche, um mehrere kürzere Durchlaufe starten zu können, ohne dabei andere Parameter zu beeinflussen."
      ],
      "metadata": {
        "id": "b6-sGq7w3PiI"
      }
    },
    {
      "cell_type": "code",
      "source": [
        "randomStateSearch = 1\n",
        "randomsearch = RandomizedSearchCV(estimator = model,\n",
        "                                  param_distributions = parameters,\n",
        "                                  n_iter = 5,\n",
        "                                  scoring={'accuracy':'accuracy',\n",
        "                                           'ce':float32neg_log_loss,\n",
        "                                           #'conf_matrix': confusion_matrix_scorer,\n",
        "                                           'recall': 'recall'},   \n",
        "                                  refit = False,\n",
        "                                  cv=cv,\n",
        "                                  random_state = randomStateSearch,\n",
        "                                  return_train_score=True,\n",
        "                                  verbose = 4)"
      ],
      "metadata": {
        "id": "GSby9lyBhxSX"
      },
      "execution_count": 11,
      "outputs": []
    },
    {
      "cell_type": "markdown",
      "source": [
        "Führe die RandomSearch durch und speichere die Ergebnisse ab."
      ],
      "metadata": {
        "id": "NP9x5o7p3ued"
      }
    },
    {
      "cell_type": "code",
      "source": [
        "randomsearch.fit(X_train, y_train, verbose = 0)\n",
        "result_df = pd.DataFrame.from_dict(randomsearch.cv_results_)\n",
        "result_df.to_pickle('/content/drive/MyDrive/WR2 Brrr/Trainingsdaten_Proj3/randsearch_results_rs'+ str(randomStateSearch)+ '.pkl')\n",
        "result_df.head()"
      ],
      "metadata": {
        "colab": {
          "base_uri": "https://localhost:8080/",
          "height": 664
        },
        "id": "1WaawkTCh19r",
        "outputId": "0766e9cc-8682-4ffb-83d6-4adf7bc9ae35"
      },
      "execution_count": 12,
      "outputs": [
        {
          "output_type": "stream",
          "name": "stdout",
          "text": [
            "Fitting 4 folds for each of 5 candidates, totalling 20 fits\n",
            "[CV 1/4] END activation=sigmoid, batch_size=32, dropout_rate=0.1, epochs=150, layer_size=200, learning_rate=0.01, n_hidden_layers=3; accuracy: (train=0.928, test=0.920) ce: (train=1.164, test=1.294) recall: (train=0.605, test=0.574) total time= 4.4min\n",
            "[CV 2/4] END activation=sigmoid, batch_size=32, dropout_rate=0.1, epochs=150, layer_size=200, learning_rate=0.01, n_hidden_layers=3; accuracy: (train=0.935, test=0.926) ce: (train=1.048, test=1.187) recall: (train=0.652, test=0.621) total time= 4.3min\n",
            "[CV 3/4] END activation=sigmoid, batch_size=32, dropout_rate=0.1, epochs=150, layer_size=200, learning_rate=0.01, n_hidden_layers=3; accuracy: (train=0.944, test=0.943) ce: (train=0.902, test=0.912) recall: (train=0.722, test=0.727) total time= 4.3min\n",
            "[CV 4/4] END activation=sigmoid, batch_size=32, dropout_rate=0.1, epochs=150, layer_size=200, learning_rate=0.01, n_hidden_layers=3; accuracy: (train=0.948, test=0.945) ce: (train=0.832, test=0.881) recall: (train=0.744, test=0.734) total time= 4.3min\n",
            "[CV 1/4] END activation=sigmoid, batch_size=8, dropout_rate=0.2, epochs=50, layer_size=200, learning_rate=0.01, n_hidden_layers=5; accuracy: (train=0.836, test=0.836) ce: (train=2.636, test=2.637) recall: (train=0.000, test=0.000) total time= 5.9min\n",
            "[CV 2/4] END activation=sigmoid, batch_size=8, dropout_rate=0.2, epochs=50, layer_size=200, learning_rate=0.01, n_hidden_layers=5; accuracy: (train=0.836, test=0.836) ce: (train=2.636, test=2.637) recall: (train=0.000, test=0.000) total time= 5.8min\n",
            "[CV 3/4] END activation=sigmoid, batch_size=8, dropout_rate=0.2, epochs=50, layer_size=200, learning_rate=0.01, n_hidden_layers=5; accuracy: (train=0.836, test=0.836) ce: (train=2.637, test=2.636) recall: (train=0.000, test=0.000) total time= 5.8min\n",
            "[CV 4/4] END activation=sigmoid, batch_size=8, dropout_rate=0.2, epochs=50, layer_size=200, learning_rate=0.01, n_hidden_layers=5; accuracy: (train=0.836, test=0.836) ce: (train=2.637, test=2.636) recall: (train=0.000, test=0.000) total time= 5.8min\n",
            "[CV 1/4] END activation=sigmoid, batch_size=32, dropout_rate=0.2, epochs=50, layer_size=200, learning_rate=0.01, n_hidden_layers=2; accuracy: (train=0.939, test=0.933) ce: (train=0.978, test=1.073) recall: (train=0.673, test=0.637) total time= 1.3min\n",
            "[CV 2/4] END activation=sigmoid, batch_size=32, dropout_rate=0.2, epochs=50, layer_size=200, learning_rate=0.01, n_hidden_layers=2; accuracy: (train=0.943, test=0.939) ce: (train=0.924, test=0.986) recall: (train=0.676, test=0.659) total time= 1.3min\n",
            "[CV 3/4] END activation=sigmoid, batch_size=32, dropout_rate=0.2, epochs=50, layer_size=200, learning_rate=0.01, n_hidden_layers=2; accuracy: (train=0.943, test=0.942) ce: (train=0.923, test=0.938) recall: (train=0.680, test=0.690) total time= 1.3min\n",
            "[CV 4/4] END activation=sigmoid, batch_size=32, dropout_rate=0.2, epochs=50, layer_size=200, learning_rate=0.01, n_hidden_layers=2; accuracy: (train=0.945, test=0.942) ce: (train=0.880, test=0.927) recall: (train=0.737, test=0.728) total time= 1.3min\n",
            "[CV 1/4] END activation=sigmoid, batch_size=32, dropout_rate=0, epochs=100, layer_size=100, learning_rate=0.01, n_hidden_layers=3; accuracy: (train=0.947, test=0.937) ce: (train=0.861, test=1.011) recall: (train=0.772, test=0.729) total time= 2.6min\n",
            "[CV 2/4] END activation=sigmoid, batch_size=32, dropout_rate=0, epochs=100, layer_size=100, learning_rate=0.01, n_hidden_layers=3; accuracy: (train=0.940, test=0.936) ce: (train=0.960, test=1.037) recall: (train=0.657, test=0.633) total time= 2.6min\n",
            "[CV 3/4] END activation=sigmoid, batch_size=32, dropout_rate=0, epochs=100, layer_size=100, learning_rate=0.01, n_hidden_layers=3; accuracy: (train=0.949, test=0.946) ce: (train=0.824, test=0.868) recall: (train=0.738, test=0.736) total time= 2.6min\n",
            "[CV 4/4] END activation=sigmoid, batch_size=32, dropout_rate=0, epochs=100, layer_size=100, learning_rate=0.01, n_hidden_layers=3; accuracy: (train=0.945, test=0.943) ce: (train=0.883, test=0.919) recall: (train=0.711, test=0.700) total time= 2.6min\n",
            "[CV 1/4] END activation=relu, batch_size=32, dropout_rate=0.1, epochs=100, layer_size=500, learning_rate=0.001, n_hidden_layers=5; accuracy: (train=0.977, test=0.955) ce: (train=0.368, test=0.718) recall: (train=0.860, test=0.743) total time= 3.4min\n",
            "[CV 2/4] END activation=relu, batch_size=32, dropout_rate=0.1, epochs=100, layer_size=500, learning_rate=0.001, n_hidden_layers=5; accuracy: (train=0.999, test=0.976) ce: (train=0.020, test=0.380) recall: (train=0.994, test=0.898) total time= 3.4min\n",
            "[CV 3/4] END activation=relu, batch_size=32, dropout_rate=0.1, epochs=100, layer_size=500, learning_rate=0.001, n_hidden_layers=5; accuracy: (train=0.993, test=0.971) ce: (train=0.120, test=0.460) recall: (train=0.995, test=0.938) total time= 3.3min\n",
            "[CV 4/4] END activation=relu, batch_size=32, dropout_rate=0.1, epochs=100, layer_size=500, learning_rate=0.001, n_hidden_layers=5; accuracy: (train=0.998, test=0.975) ce: (train=0.027, test=0.405) recall: (train=0.991, test=0.905) total time= 3.4min\n"
          ]
        },
        {
          "output_type": "execute_result",
          "data": {
            "text/plain": [
              "   mean_fit_time  std_fit_time  mean_score_time  std_score_time  \\\n",
              "0     258.536841      3.477826         0.512234        0.018555   \n",
              "1     351.223044      3.108248         0.521332        0.004699   \n",
              "2      79.755192      0.356731         0.486140        0.006590   \n",
              "3     155.837165      0.595075         0.510431        0.014200   \n",
              "4     200.615424      0.591621         0.531973        0.009987   \n",
              "\n",
              "  param_n_hidden_layers param_learning_rate param_layer_size param_epochs  \\\n",
              "0                     3                0.01              200          150   \n",
              "1                     5                0.01              200           50   \n",
              "2                     2                0.01              200           50   \n",
              "3                     3                0.01              100          100   \n",
              "4                     5               0.001              500          100   \n",
              "\n",
              "  param_dropout_rate param_batch_size  ... split3_test_recall  \\\n",
              "0                0.1               32  ...           0.733974   \n",
              "1                0.2                8  ...           0.000000   \n",
              "2                0.2               32  ...           0.728365   \n",
              "3                  0               32  ...           0.699519   \n",
              "4                0.1               32  ...           0.905449   \n",
              "\n",
              "  mean_test_recall  std_test_recall  rank_test_recall  split0_train_recall  \\\n",
              "0         0.664023         0.068463                 4             0.605340   \n",
              "1         0.000000         0.000000                 5             0.000000   \n",
              "2         0.678627         0.034265                 3             0.672897   \n",
              "3         0.699447         0.040581                 2             0.772230   \n",
              "4         0.870865         0.075328                 1             0.860347   \n",
              "\n",
              "   split1_train_recall  split2_train_recall  split3_train_recall  \\\n",
              "0             0.652336             0.722371             0.743727   \n",
              "1             0.000000             0.000000             0.000000   \n",
              "2             0.675567             0.680192             0.736519   \n",
              "3             0.657143             0.737587             0.711159   \n",
              "4             0.993591             0.994661             0.991191   \n",
              "\n",
              "   mean_train_recall  std_train_recall  \n",
              "0           0.680944          0.055209  \n",
              "1           0.000000          0.000000  \n",
              "2           0.691294          0.026241  \n",
              "3           0.719529          0.042028  \n",
              "4           0.959948          0.057518  \n",
              "\n",
              "[5 rows x 51 columns]"
            ],
            "text/html": [
              "\n",
              "  <div id=\"df-cd9c454d-b08e-4d14-a1fb-ff42f104b330\">\n",
              "    <div class=\"colab-df-container\">\n",
              "      <div>\n",
              "<style scoped>\n",
              "    .dataframe tbody tr th:only-of-type {\n",
              "        vertical-align: middle;\n",
              "    }\n",
              "\n",
              "    .dataframe tbody tr th {\n",
              "        vertical-align: top;\n",
              "    }\n",
              "\n",
              "    .dataframe thead th {\n",
              "        text-align: right;\n",
              "    }\n",
              "</style>\n",
              "<table border=\"1\" class=\"dataframe\">\n",
              "  <thead>\n",
              "    <tr style=\"text-align: right;\">\n",
              "      <th></th>\n",
              "      <th>mean_fit_time</th>\n",
              "      <th>std_fit_time</th>\n",
              "      <th>mean_score_time</th>\n",
              "      <th>std_score_time</th>\n",
              "      <th>param_n_hidden_layers</th>\n",
              "      <th>param_learning_rate</th>\n",
              "      <th>param_layer_size</th>\n",
              "      <th>param_epochs</th>\n",
              "      <th>param_dropout_rate</th>\n",
              "      <th>param_batch_size</th>\n",
              "      <th>...</th>\n",
              "      <th>split3_test_recall</th>\n",
              "      <th>mean_test_recall</th>\n",
              "      <th>std_test_recall</th>\n",
              "      <th>rank_test_recall</th>\n",
              "      <th>split0_train_recall</th>\n",
              "      <th>split1_train_recall</th>\n",
              "      <th>split2_train_recall</th>\n",
              "      <th>split3_train_recall</th>\n",
              "      <th>mean_train_recall</th>\n",
              "      <th>std_train_recall</th>\n",
              "    </tr>\n",
              "  </thead>\n",
              "  <tbody>\n",
              "    <tr>\n",
              "      <th>0</th>\n",
              "      <td>258.536841</td>\n",
              "      <td>3.477826</td>\n",
              "      <td>0.512234</td>\n",
              "      <td>0.018555</td>\n",
              "      <td>3</td>\n",
              "      <td>0.01</td>\n",
              "      <td>200</td>\n",
              "      <td>150</td>\n",
              "      <td>0.1</td>\n",
              "      <td>32</td>\n",
              "      <td>...</td>\n",
              "      <td>0.733974</td>\n",
              "      <td>0.664023</td>\n",
              "      <td>0.068463</td>\n",
              "      <td>4</td>\n",
              "      <td>0.605340</td>\n",
              "      <td>0.652336</td>\n",
              "      <td>0.722371</td>\n",
              "      <td>0.743727</td>\n",
              "      <td>0.680944</td>\n",
              "      <td>0.055209</td>\n",
              "    </tr>\n",
              "    <tr>\n",
              "      <th>1</th>\n",
              "      <td>351.223044</td>\n",
              "      <td>3.108248</td>\n",
              "      <td>0.521332</td>\n",
              "      <td>0.004699</td>\n",
              "      <td>5</td>\n",
              "      <td>0.01</td>\n",
              "      <td>200</td>\n",
              "      <td>50</td>\n",
              "      <td>0.2</td>\n",
              "      <td>8</td>\n",
              "      <td>...</td>\n",
              "      <td>0.000000</td>\n",
              "      <td>0.000000</td>\n",
              "      <td>0.000000</td>\n",
              "      <td>5</td>\n",
              "      <td>0.000000</td>\n",
              "      <td>0.000000</td>\n",
              "      <td>0.000000</td>\n",
              "      <td>0.000000</td>\n",
              "      <td>0.000000</td>\n",
              "      <td>0.000000</td>\n",
              "    </tr>\n",
              "    <tr>\n",
              "      <th>2</th>\n",
              "      <td>79.755192</td>\n",
              "      <td>0.356731</td>\n",
              "      <td>0.486140</td>\n",
              "      <td>0.006590</td>\n",
              "      <td>2</td>\n",
              "      <td>0.01</td>\n",
              "      <td>200</td>\n",
              "      <td>50</td>\n",
              "      <td>0.2</td>\n",
              "      <td>32</td>\n",
              "      <td>...</td>\n",
              "      <td>0.728365</td>\n",
              "      <td>0.678627</td>\n",
              "      <td>0.034265</td>\n",
              "      <td>3</td>\n",
              "      <td>0.672897</td>\n",
              "      <td>0.675567</td>\n",
              "      <td>0.680192</td>\n",
              "      <td>0.736519</td>\n",
              "      <td>0.691294</td>\n",
              "      <td>0.026241</td>\n",
              "    </tr>\n",
              "    <tr>\n",
              "      <th>3</th>\n",
              "      <td>155.837165</td>\n",
              "      <td>0.595075</td>\n",
              "      <td>0.510431</td>\n",
              "      <td>0.014200</td>\n",
              "      <td>3</td>\n",
              "      <td>0.01</td>\n",
              "      <td>100</td>\n",
              "      <td>100</td>\n",
              "      <td>0</td>\n",
              "      <td>32</td>\n",
              "      <td>...</td>\n",
              "      <td>0.699519</td>\n",
              "      <td>0.699447</td>\n",
              "      <td>0.040581</td>\n",
              "      <td>2</td>\n",
              "      <td>0.772230</td>\n",
              "      <td>0.657143</td>\n",
              "      <td>0.737587</td>\n",
              "      <td>0.711159</td>\n",
              "      <td>0.719529</td>\n",
              "      <td>0.042028</td>\n",
              "    </tr>\n",
              "    <tr>\n",
              "      <th>4</th>\n",
              "      <td>200.615424</td>\n",
              "      <td>0.591621</td>\n",
              "      <td>0.531973</td>\n",
              "      <td>0.009987</td>\n",
              "      <td>5</td>\n",
              "      <td>0.001</td>\n",
              "      <td>500</td>\n",
              "      <td>100</td>\n",
              "      <td>0.1</td>\n",
              "      <td>32</td>\n",
              "      <td>...</td>\n",
              "      <td>0.905449</td>\n",
              "      <td>0.870865</td>\n",
              "      <td>0.075328</td>\n",
              "      <td>1</td>\n",
              "      <td>0.860347</td>\n",
              "      <td>0.993591</td>\n",
              "      <td>0.994661</td>\n",
              "      <td>0.991191</td>\n",
              "      <td>0.959948</td>\n",
              "      <td>0.057518</td>\n",
              "    </tr>\n",
              "  </tbody>\n",
              "</table>\n",
              "<p>5 rows × 51 columns</p>\n",
              "</div>\n",
              "      <button class=\"colab-df-convert\" onclick=\"convertToInteractive('df-cd9c454d-b08e-4d14-a1fb-ff42f104b330')\"\n",
              "              title=\"Convert this dataframe to an interactive table.\"\n",
              "              style=\"display:none;\">\n",
              "        \n",
              "  <svg xmlns=\"http://www.w3.org/2000/svg\" height=\"24px\"viewBox=\"0 0 24 24\"\n",
              "       width=\"24px\">\n",
              "    <path d=\"M0 0h24v24H0V0z\" fill=\"none\"/>\n",
              "    <path d=\"M18.56 5.44l.94 2.06.94-2.06 2.06-.94-2.06-.94-.94-2.06-.94 2.06-2.06.94zm-11 1L8.5 8.5l.94-2.06 2.06-.94-2.06-.94L8.5 2.5l-.94 2.06-2.06.94zm10 10l.94 2.06.94-2.06 2.06-.94-2.06-.94-.94-2.06-.94 2.06-2.06.94z\"/><path d=\"M17.41 7.96l-1.37-1.37c-.4-.4-.92-.59-1.43-.59-.52 0-1.04.2-1.43.59L10.3 9.45l-7.72 7.72c-.78.78-.78 2.05 0 2.83L4 21.41c.39.39.9.59 1.41.59.51 0 1.02-.2 1.41-.59l7.78-7.78 2.81-2.81c.8-.78.8-2.07 0-2.86zM5.41 20L4 18.59l7.72-7.72 1.47 1.35L5.41 20z\"/>\n",
              "  </svg>\n",
              "      </button>\n",
              "      \n",
              "  <style>\n",
              "    .colab-df-container {\n",
              "      display:flex;\n",
              "      flex-wrap:wrap;\n",
              "      gap: 12px;\n",
              "    }\n",
              "\n",
              "    .colab-df-convert {\n",
              "      background-color: #E8F0FE;\n",
              "      border: none;\n",
              "      border-radius: 50%;\n",
              "      cursor: pointer;\n",
              "      display: none;\n",
              "      fill: #1967D2;\n",
              "      height: 32px;\n",
              "      padding: 0 0 0 0;\n",
              "      width: 32px;\n",
              "    }\n",
              "\n",
              "    .colab-df-convert:hover {\n",
              "      background-color: #E2EBFA;\n",
              "      box-shadow: 0px 1px 2px rgba(60, 64, 67, 0.3), 0px 1px 3px 1px rgba(60, 64, 67, 0.15);\n",
              "      fill: #174EA6;\n",
              "    }\n",
              "\n",
              "    [theme=dark] .colab-df-convert {\n",
              "      background-color: #3B4455;\n",
              "      fill: #D2E3FC;\n",
              "    }\n",
              "\n",
              "    [theme=dark] .colab-df-convert:hover {\n",
              "      background-color: #434B5C;\n",
              "      box-shadow: 0px 1px 3px 1px rgba(0, 0, 0, 0.15);\n",
              "      filter: drop-shadow(0px 1px 2px rgba(0, 0, 0, 0.3));\n",
              "      fill: #FFFFFF;\n",
              "    }\n",
              "  </style>\n",
              "\n",
              "      <script>\n",
              "        const buttonEl =\n",
              "          document.querySelector('#df-cd9c454d-b08e-4d14-a1fb-ff42f104b330 button.colab-df-convert');\n",
              "        buttonEl.style.display =\n",
              "          google.colab.kernel.accessAllowed ? 'block' : 'none';\n",
              "\n",
              "        async function convertToInteractive(key) {\n",
              "          const element = document.querySelector('#df-cd9c454d-b08e-4d14-a1fb-ff42f104b330');\n",
              "          const dataTable =\n",
              "            await google.colab.kernel.invokeFunction('convertToInteractive',\n",
              "                                                     [key], {});\n",
              "          if (!dataTable) return;\n",
              "\n",
              "          const docLinkHtml = 'Like what you see? Visit the ' +\n",
              "            '<a target=\"_blank\" href=https://colab.research.google.com/notebooks/data_table.ipynb>data table notebook</a>'\n",
              "            + ' to learn more about interactive tables.';\n",
              "          element.innerHTML = '';\n",
              "          dataTable['output_type'] = 'display_data';\n",
              "          await google.colab.output.renderOutput(dataTable, element);\n",
              "          const docLink = document.createElement('div');\n",
              "          docLink.innerHTML = docLinkHtml;\n",
              "          element.appendChild(docLink);\n",
              "        }\n",
              "      </script>\n",
              "    </div>\n",
              "  </div>\n",
              "  "
            ]
          },
          "metadata": {},
          "execution_count": 12
        }
      ]
    }
  ]
}