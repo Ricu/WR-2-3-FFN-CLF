{
 "cells": [
  {
   "cell_type": "markdown",
   "id": "d0922e8f",
   "metadata": {},
   "source": [
    "# Preprocessing der Trainingsdaten"
   ]
  },
  {
   "cell_type": "code",
   "execution_count": 1,
   "id": "62016b76",
   "metadata": {},
   "outputs": [
    {
     "name": "stdout",
     "output_type": "stream",
     "text": [
      "Current working directory: C:\\Users\\Valentin\\Documents\\10. Semester\\WR2\\Projekt 3 - FNN CLF\\WR-2-3-FFN-CLF\n",
      "Train data path: C:\\Users\\Valentin\\Documents\\10. Semester\\WR2\\Projekt 3 - FNN CLF\\WR-2-3-FFN-CLF\\resources\\train_data\\\n"
     ]
    }
   ],
   "source": [
    "import pandas as pd\n",
    "import os\n",
    "import numpy as np\n",
    "\n",
    "print(\"Current working directory: \" + os.getcwd())\n",
    "train_data_path = os.path.join(os.getcwd(), \"resources\\\\train_data\\\\\")\n",
    "print(\"Train data path: \" + train_data_path)"
   ]
  },
  {
   "cell_type": "markdown",
   "id": "23d938f5",
   "metadata": {},
   "source": [
    "## Datensätze laden"
   ]
  },
  {
   "cell_type": "code",
   "execution_count": 2,
   "id": "19e92e99",
   "metadata": {},
   "outputs": [
    {
     "name": "stdout",
     "output_type": "stream",
     "text": [
      "['2022-06-29-02-31-52-train_data_dump.csv', '2022-06-29-05-12-03-train_data_dump.csv', '2022-06-29-15-19-21-train_data_dump.csv', '2022-07-07-05-38-17-train_data_dump_const_strips_rand.csv', '2022-07-07-10-04-48-train_data_dump_randBlocks.csv', '2022-07-07-14-54-48-train_data_dump_const_blocks.csv', '2022-07-07-17-46-52-train_data_dump.csv', '2022-07-07-18-42-09-train_data_dump.csv', '2022-07-07-19-30-14-train_data_dump_blocks.csv']\n",
      "['2022-06-29-02-32-41-parameter_dump.csv', '2022-06-29-05-14-01-parameter_dump.csv', '2022-06-29-15-21-37-parameter_dump.csv', '2022-07-07-05-38-17-parameter_dump_const_strips_rand.csv', '2022-07-07-10-04-48-parameter_dump_randBlocks.csv', '2022-07-07-14-54-48-parameter_dump_const_blocks.csv', '2022-07-07-17-46-52-parameter_dump.csv', '2022-07-07-18-42-09-parameter_dump.csv', '2022-07-07-19-30-14-parameter_dump_blocks.csv']\n"
     ]
    }
   ],
   "source": [
    "df_list = []\n",
    "param_list = []\n",
    "train_data_file_names = [name for name in os.listdir(train_data_path) if 'train_data_dump' in name]\n",
    "parameter_file_names = [name for name in os.listdir(train_data_path) if 'parameter_dump' in name]\n",
    "print(train_data_file_names)\n",
    "print(parameter_file_names)"
   ]
  },
  {
   "cell_type": "code",
   "execution_count": 3,
   "id": "2261d346",
   "metadata": {},
   "outputs": [
    {
     "name": "stdout",
     "output_type": "stream",
     "text": [
      "Datensatz Nummer 0\n",
      "(24008, 4801)\n",
      "(24008, 3)\n",
      "Datensatz Nummer 1\n",
      "(13179, 4801)\n",
      "(13179, 3)\n",
      "Datensatz Nummer 2\n",
      "(24008, 4801)\n",
      "(24008, 3)\n",
      "Datensatz Nummer 3\n",
      "(15088, 4801)\n",
      "(15088, 3)\n",
      "Datensatz Nummer 4\n",
      "(28000, 4801)\n",
      "(28000, 3)\n",
      "Datensatz Nummer 5\n",
      "(30000, 4801)\n",
      "(30000, 3)\n",
      "Datensatz Nummer 6\n",
      "(8000, 4801)\n",
      "(8000, 3)\n",
      "Datensatz Nummer 7\n",
      "(2000, 4801)\n",
      "(2000, 3)\n",
      "Datensatz Nummer 8\n",
      "(4000, 4801)\n",
      "(4000, 3)\n"
     ]
    }
   ],
   "source": [
    "for ind, (name_train, name_param) in enumerate(zip(train_data_file_names,parameter_file_names)):\n",
    "    print(\"Datensatz Nummer \" + str(ind+1))\n",
    "    df_list.append(pd.read_csv(os.path.join(train_data_path, name_train), header = None))\n",
    "    print(df_list[-1].shape)\n",
    "    param_list.append(pd.read_csv(os.path.join(train_data_path, name_param), names = [\"coefficientType\",\"parameterNames\",\"parameterValues\"]))\n",
    "    print(param_list[-1].shape)"
   ]
  },
  {
   "cell_type": "markdown",
   "id": "3c820129",
   "metadata": {},
   "source": [
    "## Assembliere die verschiedenen Ergebnisse anhand der Koeffizientenfunktion"
   ]
  },
  {
   "cell_type": "code",
   "execution_count": 11,
   "id": "060daaab",
   "metadata": {},
   "outputs": [
    {
     "name": "stdout",
     "output_type": "stream",
     "text": [
      "(13179, 4801)\n",
      "(37187, 4801)\n",
      "(12764, 4801)\n",
      "----\n",
      "(24008, 4801)\n",
      "(36772, 4801)\n",
      "(20003, 4801)\n",
      "----\n",
      "(15088, 4801)\n",
      "(35091, 4801)\n",
      "(31195, 4801)\n",
      "----\n",
      "(28000, 4801)\n",
      "(59195, 4801)\n",
      "(56630, 4801)\n",
      "----\n",
      "(30000, 4801)\n",
      "(86630, 4801)\n",
      "(75801, 4801)\n",
      "----\n",
      "(8000, 4801)\n",
      "(83801, 4801)\n",
      "(81204, 4801)\n",
      "----\n",
      "(2000, 4801)\n",
      "(83204, 4801)\n",
      "(82286, 4801)\n",
      "----\n",
      "(4000, 4801)\n",
      "(86286, 4801)\n",
      "(84698, 4801)\n",
      "----\n",
      "shape without duplicates: \n",
      "(84698, 4801)\n",
      "(84698, 3)\n"
     ]
    }
   ],
   "source": [
    "df_base = df_list[0]\n",
    "paramdf_base = param_list[0]\n",
    "\n",
    "for df, param in zip(df_list[1:],param_list[1:]):\n",
    "    # Hänge neuen Datensatz an\n",
    "    print(df.shape)\n",
    "    df_base = pd.concat([df_base,df], axis = 0, ignore_index = True)\n",
    "    print(df_base.shape)\n",
    "    # Bestimmte alle bisherigen Duplikate\n",
    "    duplicate_rows = df_base.duplicated()\n",
    "    # Entferne die Duplikate\n",
    "    df_base = df_base.loc[~duplicate_rows,]\n",
    "    print(df_base.shape)\n",
    "    print(\"----\")\n",
    "    # Hänge die neue Parameterliste an und entferne sofort die Duplikate\n",
    "    paramdf_base = pd.concat([paramdf_base, param], axis = 0, ignore_index = True).loc[~duplicate_rows,]\n",
    "    \n",
    "    \n",
    "#    value_counts_pre_drop += paramdf_base['coefficientType'].value_counts()\n",
    "#    paramdf_base = paramdf_base.loc[~duplicate_rows,]\n",
    "#    value_counts_post_drop += paramdf_base['coefficientType'].value_counts()\n",
    "    \n",
    "print(\"shape without duplicates: \")\n",
    "print(df_base.shape)\n",
    "print(paramdf_base.shape)"
   ]
  },
  {
   "cell_type": "code",
   "execution_count": 6,
   "id": "40e44e45",
   "metadata": {},
   "outputs": [
    {
     "ename": "MemoryError",
     "evalue": "Unable to allocate 5.30 GiB for an array with shape (4801, 148283) and data type int64",
     "output_type": "error",
     "traceback": [
      "\u001b[1;31m---------------------------------------------------------------------------\u001b[0m",
      "\u001b[1;31mMemoryError\u001b[0m                               Traceback (most recent call last)",
      "\u001b[1;32m~\\AppData\\Local\\Temp\\ipykernel_20160\\3346180181.py\u001b[0m in \u001b[0;36m<module>\u001b[1;34m\u001b[0m\n\u001b[1;32m----> 1\u001b[1;33m \u001b[0mdf_base\u001b[0m \u001b[1;33m=\u001b[0m \u001b[0mpd\u001b[0m\u001b[1;33m.\u001b[0m\u001b[0mconcat\u001b[0m\u001b[1;33m(\u001b[0m\u001b[0mdf_list\u001b[0m\u001b[1;33m,\u001b[0m\u001b[0maxis\u001b[0m \u001b[1;33m=\u001b[0m \u001b[1;36m0\u001b[0m\u001b[1;33m,\u001b[0m\u001b[0mignore_index\u001b[0m \u001b[1;33m=\u001b[0m \u001b[1;32mTrue\u001b[0m\u001b[1;33m)\u001b[0m\u001b[1;33m\u001b[0m\u001b[1;33m\u001b[0m\u001b[0m\n\u001b[0m\u001b[0;32m      2\u001b[0m \u001b[0mparamdf_base\u001b[0m \u001b[1;33m=\u001b[0m \u001b[0mpd\u001b[0m\u001b[1;33m.\u001b[0m\u001b[0mconcat\u001b[0m\u001b[1;33m(\u001b[0m\u001b[0mparam_list\u001b[0m\u001b[1;33m,\u001b[0m\u001b[0maxis\u001b[0m \u001b[1;33m=\u001b[0m \u001b[1;36m0\u001b[0m\u001b[1;33m,\u001b[0m\u001b[0mignore_index\u001b[0m \u001b[1;33m=\u001b[0m \u001b[1;32mTrue\u001b[0m\u001b[1;33m)\u001b[0m\u001b[1;33m\u001b[0m\u001b[1;33m\u001b[0m\u001b[0m\n\u001b[0;32m      3\u001b[0m \u001b[1;33m\u001b[0m\u001b[0m\n\u001b[0;32m      4\u001b[0m \u001b[0mprint\u001b[0m\u001b[1;33m(\u001b[0m\u001b[0mdf_base\u001b[0m\u001b[1;33m.\u001b[0m\u001b[0mshape\u001b[0m\u001b[1;33m)\u001b[0m\u001b[1;33m\u001b[0m\u001b[1;33m\u001b[0m\u001b[0m\n\u001b[0;32m      5\u001b[0m \u001b[0mprint\u001b[0m\u001b[1;33m(\u001b[0m\u001b[0mparamdf_base\u001b[0m\u001b[1;33m.\u001b[0m\u001b[0mshape\u001b[0m\u001b[1;33m)\u001b[0m\u001b[1;33m\u001b[0m\u001b[1;33m\u001b[0m\u001b[0m\n",
      "\u001b[1;32m~\\anaconda3\\envs\\wr2_projekt3\\lib\\site-packages\\pandas\\util\\_decorators.py\u001b[0m in \u001b[0;36mwrapper\u001b[1;34m(*args, **kwargs)\u001b[0m\n\u001b[0;32m    309\u001b[0m                     \u001b[0mstacklevel\u001b[0m\u001b[1;33m=\u001b[0m\u001b[0mstacklevel\u001b[0m\u001b[1;33m,\u001b[0m\u001b[1;33m\u001b[0m\u001b[1;33m\u001b[0m\u001b[0m\n\u001b[0;32m    310\u001b[0m                 )\n\u001b[1;32m--> 311\u001b[1;33m             \u001b[1;32mreturn\u001b[0m \u001b[0mfunc\u001b[0m\u001b[1;33m(\u001b[0m\u001b[1;33m*\u001b[0m\u001b[0margs\u001b[0m\u001b[1;33m,\u001b[0m \u001b[1;33m**\u001b[0m\u001b[0mkwargs\u001b[0m\u001b[1;33m)\u001b[0m\u001b[1;33m\u001b[0m\u001b[1;33m\u001b[0m\u001b[0m\n\u001b[0m\u001b[0;32m    312\u001b[0m \u001b[1;33m\u001b[0m\u001b[0m\n\u001b[0;32m    313\u001b[0m         \u001b[1;32mreturn\u001b[0m \u001b[0mwrapper\u001b[0m\u001b[1;33m\u001b[0m\u001b[1;33m\u001b[0m\u001b[0m\n",
      "\u001b[1;32m~\\anaconda3\\envs\\wr2_projekt3\\lib\\site-packages\\pandas\\core\\reshape\\concat.py\u001b[0m in \u001b[0;36mconcat\u001b[1;34m(objs, axis, join, ignore_index, keys, levels, names, verify_integrity, sort, copy)\u001b[0m\n\u001b[0;32m    305\u001b[0m     )\n\u001b[0;32m    306\u001b[0m \u001b[1;33m\u001b[0m\u001b[0m\n\u001b[1;32m--> 307\u001b[1;33m     \u001b[1;32mreturn\u001b[0m \u001b[0mop\u001b[0m\u001b[1;33m.\u001b[0m\u001b[0mget_result\u001b[0m\u001b[1;33m(\u001b[0m\u001b[1;33m)\u001b[0m\u001b[1;33m\u001b[0m\u001b[1;33m\u001b[0m\u001b[0m\n\u001b[0m\u001b[0;32m    308\u001b[0m \u001b[1;33m\u001b[0m\u001b[0m\n\u001b[0;32m    309\u001b[0m \u001b[1;33m\u001b[0m\u001b[0m\n",
      "\u001b[1;32m~\\anaconda3\\envs\\wr2_projekt3\\lib\\site-packages\\pandas\\core\\reshape\\concat.py\u001b[0m in \u001b[0;36mget_result\u001b[1;34m(self)\u001b[0m\n\u001b[0;32m    531\u001b[0m \u001b[1;33m\u001b[0m\u001b[0m\n\u001b[0;32m    532\u001b[0m             new_data = concatenate_managers(\n\u001b[1;32m--> 533\u001b[1;33m                 \u001b[0mmgrs_indexers\u001b[0m\u001b[1;33m,\u001b[0m \u001b[0mself\u001b[0m\u001b[1;33m.\u001b[0m\u001b[0mnew_axes\u001b[0m\u001b[1;33m,\u001b[0m \u001b[0mconcat_axis\u001b[0m\u001b[1;33m=\u001b[0m\u001b[0mself\u001b[0m\u001b[1;33m.\u001b[0m\u001b[0mbm_axis\u001b[0m\u001b[1;33m,\u001b[0m \u001b[0mcopy\u001b[0m\u001b[1;33m=\u001b[0m\u001b[0mself\u001b[0m\u001b[1;33m.\u001b[0m\u001b[0mcopy\u001b[0m\u001b[1;33m\u001b[0m\u001b[1;33m\u001b[0m\u001b[0m\n\u001b[0m\u001b[0;32m    534\u001b[0m             )\n\u001b[0;32m    535\u001b[0m             \u001b[1;32mif\u001b[0m \u001b[1;32mnot\u001b[0m \u001b[0mself\u001b[0m\u001b[1;33m.\u001b[0m\u001b[0mcopy\u001b[0m\u001b[1;33m:\u001b[0m\u001b[1;33m\u001b[0m\u001b[1;33m\u001b[0m\u001b[0m\n",
      "\u001b[1;32m~\\anaconda3\\envs\\wr2_projekt3\\lib\\site-packages\\pandas\\core\\internals\\concat.py\u001b[0m in \u001b[0;36mconcatenate_managers\u001b[1;34m(mgrs_indexers, axes, concat_axis, copy)\u001b[0m\n\u001b[0;32m    214\u001b[0m                 \u001b[1;31m#  we can use np.concatenate, which is more performant\u001b[0m\u001b[1;33m\u001b[0m\u001b[1;33m\u001b[0m\u001b[1;33m\u001b[0m\u001b[0m\n\u001b[0;32m    215\u001b[0m                 \u001b[1;31m#  than concat_compat\u001b[0m\u001b[1;33m\u001b[0m\u001b[1;33m\u001b[0m\u001b[1;33m\u001b[0m\u001b[0m\n\u001b[1;32m--> 216\u001b[1;33m                 \u001b[0mvalues\u001b[0m \u001b[1;33m=\u001b[0m \u001b[0mnp\u001b[0m\u001b[1;33m.\u001b[0m\u001b[0mconcatenate\u001b[0m\u001b[1;33m(\u001b[0m\u001b[0mvals\u001b[0m\u001b[1;33m,\u001b[0m \u001b[0maxis\u001b[0m\u001b[1;33m=\u001b[0m\u001b[0mblk\u001b[0m\u001b[1;33m.\u001b[0m\u001b[0mndim\u001b[0m \u001b[1;33m-\u001b[0m \u001b[1;36m1\u001b[0m\u001b[1;33m)\u001b[0m\u001b[1;33m\u001b[0m\u001b[1;33m\u001b[0m\u001b[0m\n\u001b[0m\u001b[0;32m    217\u001b[0m             \u001b[1;32melse\u001b[0m\u001b[1;33m:\u001b[0m\u001b[1;33m\u001b[0m\u001b[1;33m\u001b[0m\u001b[0m\n\u001b[0;32m    218\u001b[0m                 \u001b[1;31m# TODO(EA2D): special-casing not needed with 2D EAs\u001b[0m\u001b[1;33m\u001b[0m\u001b[1;33m\u001b[0m\u001b[1;33m\u001b[0m\u001b[0m\n",
      "\u001b[1;32m<__array_function__ internals>\u001b[0m in \u001b[0;36mconcatenate\u001b[1;34m(*args, **kwargs)\u001b[0m\n",
      "\u001b[1;31mMemoryError\u001b[0m: Unable to allocate 5.30 GiB for an array with shape (4801, 148283) and data type int64"
     ]
    }
   ],
   "source": [
    "# df_base = pd.concat(df_list,axis = 0,ignore_index = True)\n",
    "# paramdf_base = pd.concat(param_list,axis = 0,ignore_index = True)\n",
    "# \n",
    "# print(df_base.shape)\n",
    "# print(paramdf_base.shape)\n",
    "# df_base.head()"
   ]
  },
  {
   "cell_type": "code",
   "execution_count": 12,
   "id": "ab57d264",
   "metadata": {},
   "outputs": [],
   "source": [
    "del df_list\n",
    "del param_list"
   ]
  },
  {
   "cell_type": "code",
   "execution_count": 14,
   "id": "cbd20b1a",
   "metadata": {},
   "outputs": [
    {
     "name": "stdout",
     "output_type": "stream",
     "text": [
      "Random Blocks        43419\n",
      "Completely Random    27240\n",
      "Strip                18348\n",
      "Blocks               15238\n",
      "Constant                38\n",
      "Name: coefficentType, dtype: int64\n"
     ]
    }
   ],
   "source": [
    "# # Zähle Koeffizientenfunktionen\n",
    "# value_counts_pre_drop = paramdf_base['coefficientType'].value_counts()\n",
    "# print(value_counts_pre_drop)"
   ]
  },
  {
   "cell_type": "code",
   "execution_count": 15,
   "id": "19fcd0be",
   "metadata": {},
   "outputs": [
    {
     "name": "stdout",
     "output_type": "stream",
     "text": [
      "shape with duplicates: \n",
      "(104283, 4801)\n",
      "shape without duplicates: \n",
      "(56630, 4801)\n",
      "Percentage of datapoints lost: 45.69584687820642\\%\n",
      "Random Blocks        32019\n",
      "Completely Random    18444\n",
      "Blocks                4930\n",
      "Strip                 1233\n",
      "Constant                 4\n",
      "Name: coefficentType, dtype: int64\n"
     ]
    }
   ],
   "source": [
    "# # Schmeiße die Duplikate\n",
    "# duplicate_rows = df_base.duplicated()\n",
    "# print(\"shape with duplicates: \")\n",
    "# print(df_base.shape)\n",
    "# df_base = df_base.loc[~duplicate_rows,]\n",
    "# paramdf_base = paramdf_base.loc[~duplicate_rows,]\n",
    "# print(\"shape without duplicates: \")\n",
    "# print(df_base.shape)\n",
    "# print(\"Percentage of datapoints lost: \" + str((100*sum(duplicate_rows)/len(duplicate_rows))) + \"\\%\")\n",
    "# value_counts_post_drop = paramdf_base['coefficientType'].value_counts()\n",
    "# print(value_counts_post_drop)"
   ]
  },
  {
   "cell_type": "code",
   "execution_count": 16,
   "id": "dd2feee2",
   "metadata": {},
   "outputs": [
    {
     "name": "stdout",
     "output_type": "stream",
     "text": [
      "Blocks              -10308\n",
      "Completely Random    -8796\n",
      "Constant               -34\n",
      "Random Blocks       -11400\n",
      "Strip               -17115\n",
      "Name: coefficentType, dtype: int64\n"
     ]
    }
   ],
   "source": [
    "# # Anzahl verloren gegangener Trainingspunkten\n",
    "# print(value_counts_post_drop-value_counts_pre_drop)"
   ]
  },
  {
   "cell_type": "code",
   "execution_count": 13,
   "id": "20256202",
   "metadata": {},
   "outputs": [
    {
     "name": "stdout",
     "output_type": "stream",
     "text": [
      "Random Blocks        32019\n",
      "Blocks               26510\n",
      "Completely Random    18444\n",
      "StripesNBlocks        6485\n",
      "Strip                 1236\n",
      "Constant                 4\n",
      "Name: coefficientType, dtype: int64\n"
     ]
    }
   ],
   "source": [
    "value_counts_post_drop = paramdf_base['coefficientType'].value_counts()\n",
    "print(value_counts_post_drop)"
   ]
  },
  {
   "cell_type": "code",
   "execution_count": 14,
   "id": "9fd25741",
   "metadata": {},
   "outputs": [
    {
     "data": {
      "text/html": [
       "<div>\n",
       "<style scoped>\n",
       "    .dataframe tbody tr th:only-of-type {\n",
       "        vertical-align: middle;\n",
       "    }\n",
       "\n",
       "    .dataframe tbody tr th {\n",
       "        vertical-align: top;\n",
       "    }\n",
       "\n",
       "    .dataframe thead th {\n",
       "        text-align: right;\n",
       "    }\n",
       "</style>\n",
       "<table border=\"1\" class=\"dataframe\">\n",
       "  <thead>\n",
       "    <tr style=\"text-align: right;\">\n",
       "      <th></th>\n",
       "      <th>coefficientType</th>\n",
       "      <th>parameterNames</th>\n",
       "      <th>parameterValues</th>\n",
       "      <th>0</th>\n",
       "      <th>1</th>\n",
       "      <th>2</th>\n",
       "      <th>3</th>\n",
       "      <th>4</th>\n",
       "      <th>5</th>\n",
       "      <th>6</th>\n",
       "      <th>...</th>\n",
       "      <th>4791</th>\n",
       "      <th>4792</th>\n",
       "      <th>4793</th>\n",
       "      <th>4794</th>\n",
       "      <th>4795</th>\n",
       "      <th>4796</th>\n",
       "      <th>4797</th>\n",
       "      <th>4798</th>\n",
       "      <th>4799</th>\n",
       "      <th>4800</th>\n",
       "    </tr>\n",
       "  </thead>\n",
       "  <tbody>\n",
       "    <tr>\n",
       "      <th>0</th>\n",
       "      <td>Constant</td>\n",
       "      <td>affectedSubdomains,rhoMin,rhoMax,indexShiftx,i...</td>\n",
       "      <td>6,10,1,1000000,0,0,,,</td>\n",
       "      <td>1</td>\n",
       "      <td>1</td>\n",
       "      <td>1</td>\n",
       "      <td>1</td>\n",
       "      <td>1</td>\n",
       "      <td>1</td>\n",
       "      <td>1</td>\n",
       "      <td>...</td>\n",
       "      <td>0</td>\n",
       "      <td>0</td>\n",
       "      <td>0</td>\n",
       "      <td>0</td>\n",
       "      <td>0</td>\n",
       "      <td>0</td>\n",
       "      <td>0</td>\n",
       "      <td>0</td>\n",
       "      <td>0</td>\n",
       "      <td>0</td>\n",
       "    </tr>\n",
       "    <tr>\n",
       "      <th>1</th>\n",
       "      <td>Constant</td>\n",
       "      <td>affectedSubdomains,rhoMin,rhoMax,indexShiftx,i...</td>\n",
       "      <td>6,10,1,1000000,0,0,,,</td>\n",
       "      <td>1</td>\n",
       "      <td>1</td>\n",
       "      <td>1</td>\n",
       "      <td>1</td>\n",
       "      <td>1</td>\n",
       "      <td>1</td>\n",
       "      <td>1</td>\n",
       "      <td>...</td>\n",
       "      <td>1</td>\n",
       "      <td>1</td>\n",
       "      <td>1</td>\n",
       "      <td>1</td>\n",
       "      <td>1</td>\n",
       "      <td>1</td>\n",
       "      <td>1</td>\n",
       "      <td>1</td>\n",
       "      <td>1</td>\n",
       "      <td>0</td>\n",
       "    </tr>\n",
       "    <tr>\n",
       "      <th>2</th>\n",
       "      <td>Constant</td>\n",
       "      <td>affectedSubdomains,rhoMin,rhoMax,indexShiftx,i...</td>\n",
       "      <td>6,10,1,1000000,0,0,,,</td>\n",
       "      <td>0</td>\n",
       "      <td>0</td>\n",
       "      <td>0</td>\n",
       "      <td>0</td>\n",
       "      <td>0</td>\n",
       "      <td>0</td>\n",
       "      <td>0</td>\n",
       "      <td>...</td>\n",
       "      <td>0</td>\n",
       "      <td>0</td>\n",
       "      <td>0</td>\n",
       "      <td>0</td>\n",
       "      <td>0</td>\n",
       "      <td>0</td>\n",
       "      <td>0</td>\n",
       "      <td>0</td>\n",
       "      <td>0</td>\n",
       "      <td>0</td>\n",
       "    </tr>\n",
       "    <tr>\n",
       "      <th>3</th>\n",
       "      <td>Constant</td>\n",
       "      <td>affectedSubdomains,rhoMin,rhoMax,indexShiftx,i...</td>\n",
       "      <td>6,10,1000000,1,0,0,,,</td>\n",
       "      <td>0</td>\n",
       "      <td>0</td>\n",
       "      <td>0</td>\n",
       "      <td>0</td>\n",
       "      <td>0</td>\n",
       "      <td>0</td>\n",
       "      <td>0</td>\n",
       "      <td>...</td>\n",
       "      <td>1</td>\n",
       "      <td>1</td>\n",
       "      <td>1</td>\n",
       "      <td>1</td>\n",
       "      <td>1</td>\n",
       "      <td>1</td>\n",
       "      <td>1</td>\n",
       "      <td>1</td>\n",
       "      <td>1</td>\n",
       "      <td>0</td>\n",
       "    </tr>\n",
       "    <tr>\n",
       "      <th>4</th>\n",
       "      <td>Strip</td>\n",
       "      <td>height,nStrips,rhoMin,rhoMax,indexShifty</td>\n",
       "      <td>-2,4,1000000,1,8,,,,</td>\n",
       "      <td>1</td>\n",
       "      <td>0</td>\n",
       "      <td>1</td>\n",
       "      <td>1</td>\n",
       "      <td>1</td>\n",
       "      <td>1</td>\n",
       "      <td>1</td>\n",
       "      <td>...</td>\n",
       "      <td>1</td>\n",
       "      <td>0</td>\n",
       "      <td>1</td>\n",
       "      <td>1</td>\n",
       "      <td>1</td>\n",
       "      <td>1</td>\n",
       "      <td>1</td>\n",
       "      <td>1</td>\n",
       "      <td>1</td>\n",
       "      <td>1</td>\n",
       "    </tr>\n",
       "  </tbody>\n",
       "</table>\n",
       "<p>5 rows × 4804 columns</p>\n",
       "</div>"
      ],
      "text/plain": [
       "  coefficientType                                     parameterNames  \\\n",
       "0        Constant  affectedSubdomains,rhoMin,rhoMax,indexShiftx,i...   \n",
       "1        Constant  affectedSubdomains,rhoMin,rhoMax,indexShiftx,i...   \n",
       "2        Constant  affectedSubdomains,rhoMin,rhoMax,indexShiftx,i...   \n",
       "3        Constant  affectedSubdomains,rhoMin,rhoMax,indexShiftx,i...   \n",
       "4           Strip           height,nStrips,rhoMin,rhoMax,indexShifty   \n",
       "\n",
       "         parameterValues  0  1  2  3  4  5  6  ...  4791  4792  4793  4794  \\\n",
       "0  6,10,1,1000000,0,0,,,  1  1  1  1  1  1  1  ...     0     0     0     0   \n",
       "1  6,10,1,1000000,0,0,,,  1  1  1  1  1  1  1  ...     1     1     1     1   \n",
       "2  6,10,1,1000000,0,0,,,  0  0  0  0  0  0  0  ...     0     0     0     0   \n",
       "3  6,10,1000000,1,0,0,,,  0  0  0  0  0  0  0  ...     1     1     1     1   \n",
       "4   -2,4,1000000,1,8,,,,  1  0  1  1  1  1  1  ...     1     0     1     1   \n",
       "\n",
       "   4795  4796  4797  4798  4799  4800  \n",
       "0     0     0     0     0     0     0  \n",
       "1     1     1     1     1     1     0  \n",
       "2     0     0     0     0     0     0  \n",
       "3     1     1     1     1     1     0  \n",
       "4     1     1     1     1     1     1  \n",
       "\n",
       "[5 rows x 4804 columns]"
      ]
     },
     "execution_count": 14,
     "metadata": {},
     "output_type": "execute_result"
    }
   ],
   "source": [
    "df_base = pd.concat([paramdf_base,df_base], axis=1)\n",
    "df_base.head()"
   ]
  },
  {
   "cell_type": "code",
   "execution_count": 15,
   "id": "83422d7d",
   "metadata": {},
   "outputs": [],
   "source": [
    "# Exportiere Trainingsdaten\n",
    "df_base.iloc[:,3:].to_csv(os.path.join(train_data_path, \"collection1_train_data_dump.csv\"),index = False, header = False)\n",
    "# Exportiere zugehörige Parameter\n",
    "df_base.iloc[:,0:3].to_csv(os.path.join(train_data_path, \"collection1_parameter_dump.csv\"),index = False, header = True)"
   ]
  },
  {
   "cell_type": "markdown",
   "id": "2766b16f",
   "metadata": {},
   "source": [
    "### Konstante Koeffizienten"
   ]
  },
  {
   "cell_type": "code",
   "execution_count": 18,
   "id": "2acf3ec5",
   "metadata": {},
   "outputs": [
    {
     "name": "stdout",
     "output_type": "stream",
     "text": [
      "(4, 4804)\n"
     ]
    }
   ],
   "source": [
    "# coeff_fun_names = [\"Constant\",\"Strip\",\"Blocks\",\"Random Blocks\",\"Completely Random\",\"StripesNBlocks\"]\n",
    "df_constant = df_base.loc[df_base['coefficientType'] == \"Constant\",]\n",
    "print(df_constant.shape)"
   ]
  },
  {
   "cell_type": "code",
   "execution_count": 19,
   "id": "eead7606",
   "metadata": {},
   "outputs": [
    {
     "data": {
      "text/plain": [
       "count    4.0\n",
       "mean     0.0\n",
       "std      0.0\n",
       "min      0.0\n",
       "25%      0.0\n",
       "50%      0.0\n",
       "75%      0.0\n",
       "max      0.0\n",
       "Name: 4800, dtype: float64"
      ]
     },
     "execution_count": 19,
     "metadata": {},
     "output_type": "execute_result"
    }
   ],
   "source": [
    "df_constant.iloc[:,-1].describe()"
   ]
  },
  {
   "cell_type": "markdown",
   "id": "2c1dd4b3",
   "metadata": {},
   "source": [
    "### Streifen Koeffizientenfunktion"
   ]
  },
  {
   "cell_type": "code",
   "execution_count": 20,
   "id": "a6a23df6",
   "metadata": {},
   "outputs": [
    {
     "name": "stdout",
     "output_type": "stream",
     "text": [
      "(1233, 4804)\n"
     ]
    }
   ],
   "source": [
    "# coeff_fun_names = [\"Constant\",\"Strip\",\"Blocks\",\"Random Blocks\",\"Completely Random\",\"StripesNBlocks\"]\n",
    "df_strip = df_base.loc[df_base['coefficientType'] == \"Strip\",]\n",
    "print(df_strip.shape)"
   ]
  },
  {
   "cell_type": "code",
   "execution_count": 21,
   "id": "d92ae536",
   "metadata": {},
   "outputs": [
    {
     "data": {
      "text/plain": [
       "count    1233.000000\n",
       "mean        0.473642\n",
       "std         0.499507\n",
       "min         0.000000\n",
       "25%         0.000000\n",
       "50%         0.000000\n",
       "75%         1.000000\n",
       "max         1.000000\n",
       "Name: 4800, dtype: float64"
      ]
     },
     "execution_count": 21,
     "metadata": {},
     "output_type": "execute_result"
    }
   ],
   "source": [
    "df_strip.iloc[:,-1].describe()"
   ]
  },
  {
   "cell_type": "markdown",
   "id": "bf8f311c",
   "metadata": {},
   "source": [
    "### Block Koeffizientenfunktion"
   ]
  },
  {
   "cell_type": "code",
   "execution_count": 22,
   "id": "ef2779e9",
   "metadata": {},
   "outputs": [
    {
     "name": "stdout",
     "output_type": "stream",
     "text": [
      "(4930, 4804)\n"
     ]
    }
   ],
   "source": [
    "# coeff_fun_names = [\"Constant\",\"Strip\",\"Blocks\",\"Random Blocks\",\"Completely Random\",\"StripesNBlocks\"]\n",
    "df_blocks = df_base.loc[df_base['coefficientType'] == \"Blocks\",]\n",
    "print(df_blocks.shape)"
   ]
  },
  {
   "cell_type": "code",
   "execution_count": 23,
   "id": "32a93241",
   "metadata": {},
   "outputs": [
    {
     "data": {
      "text/plain": [
       "count    4930.000000\n",
       "mean        0.114807\n",
       "std         0.318822\n",
       "min         0.000000\n",
       "25%         0.000000\n",
       "50%         0.000000\n",
       "75%         0.000000\n",
       "max         1.000000\n",
       "Name: 4800, dtype: float64"
      ]
     },
     "execution_count": 23,
     "metadata": {},
     "output_type": "execute_result"
    }
   ],
   "source": [
    "df_blocks.iloc[:,-1].describe()"
   ]
  },
  {
   "cell_type": "markdown",
   "id": "90e65ff9",
   "metadata": {},
   "source": [
    "### Random Block Koeffizientenfunktion"
   ]
  },
  {
   "cell_type": "code",
   "execution_count": 24,
   "id": "4be7a7de",
   "metadata": {},
   "outputs": [
    {
     "name": "stdout",
     "output_type": "stream",
     "text": [
      "(32019, 4804)\n"
     ]
    }
   ],
   "source": [
    "# coeff_fun_names = [\"Constant\",\"Strip\",\"Blocks\",\"Random Blocks\",\"Completely Random\",\"StripesNBlocks\"]\n",
    "df_randBlocks = df_base.loc[paramdf_base['coefficientType'] == \"Random Blocks\",]\n",
    "print(df_randBlocks.shape)"
   ]
  },
  {
   "cell_type": "code",
   "execution_count": 25,
   "id": "2afb4192",
   "metadata": {},
   "outputs": [
    {
     "data": {
      "text/plain": [
       "count    32019.000000\n",
       "mean         0.084106\n",
       "std          0.277552\n",
       "min          0.000000\n",
       "25%          0.000000\n",
       "50%          0.000000\n",
       "75%          0.000000\n",
       "max          1.000000\n",
       "Name: 4800, dtype: float64"
      ]
     },
     "execution_count": 25,
     "metadata": {},
     "output_type": "execute_result"
    }
   ],
   "source": [
    "df_randBlocks.iloc[:,-1].describe()"
   ]
  },
  {
   "cell_type": "markdown",
   "id": "4c57ef6f",
   "metadata": {},
   "source": [
    "### Random Koeffizientenfunktion"
   ]
  },
  {
   "cell_type": "code",
   "execution_count": 26,
   "id": "ea5a71c0",
   "metadata": {},
   "outputs": [
    {
     "name": "stdout",
     "output_type": "stream",
     "text": [
      "(18444, 4804)\n"
     ]
    }
   ],
   "source": [
    "# coeff_fun_names = [\"Constant\",\"Strip\",\"Blocks\",\"Random Blocks\",\"Completely Random\",\"StripesNBlocks\"]\n",
    "df_random = df_base.loc[paramdf_base['coefficientType'] == \"StripesNBlocks\",]\n",
    "print(df_random.shape)"
   ]
  },
  {
   "cell_type": "code",
   "execution_count": 27,
   "id": "10a2ba1b",
   "metadata": {},
   "outputs": [
    {
     "data": {
      "text/plain": [
       "count    18444.000000\n",
       "mean         0.381425\n",
       "std          0.485750\n",
       "min          0.000000\n",
       "25%          0.000000\n",
       "50%          0.000000\n",
       "75%          1.000000\n",
       "max          1.000000\n",
       "Name: 4800, dtype: float64"
      ]
     },
     "execution_count": 27,
     "metadata": {},
     "output_type": "execute_result"
    }
   ],
   "source": [
    "df_random.iloc[:,-1].describe()"
   ]
  },
  {
   "cell_type": "markdown",
   "id": "e348f6ea",
   "metadata": {},
   "source": [
    "### Stripes and Blocks"
   ]
  },
  {
   "cell_type": "code",
   "execution_count": null,
   "id": "d777409f",
   "metadata": {},
   "outputs": [],
   "source": [
    "# coeff_fun_names = [\"Constant\",\"Strip\",\"Blocks\",\"Random Blocks\",\"Completely Random\",\"StripesNBlocks\"]\n",
    "df_stripsNBlocks = df_base.loc[paramdf_base['coefficientType'] == \"StripesNBlocks\",]\n",
    "print(df_stripsNBlocks.shape)"
   ]
  },
  {
   "cell_type": "code",
   "execution_count": null,
   "id": "7ee6d5b2",
   "metadata": {},
   "outputs": [],
   "source": [
    "df_stripsNBlocks.iloc[:,-1].describe()"
   ]
  },
  {
   "cell_type": "markdown",
   "id": "8de089a7",
   "metadata": {},
   "source": [
    "## Datensatz zusammensetzen"
   ]
  },
  {
   "cell_type": "code",
   "execution_count": 28,
   "id": "a4b13816",
   "metadata": {},
   "outputs": [],
   "source": [
    "randomState = 0\n",
    "shareConstant = 1\n",
    "shareStrip = 1\n",
    "shareBlocks = 0.8\n",
    "shareRandBlocks = 0.7\n",
    "shareRand = 0"
   ]
  },
  {
   "cell_type": "code",
   "execution_count": 32,
   "id": "f08617ca",
   "metadata": {},
   "outputs": [
    {
     "name": "stdout",
     "output_type": "stream",
     "text": [
      "(27594, 4804)\n"
     ]
    },
    {
     "data": {
      "text/html": [
       "<div>\n",
       "<style scoped>\n",
       "    .dataframe tbody tr th:only-of-type {\n",
       "        vertical-align: middle;\n",
       "    }\n",
       "\n",
       "    .dataframe tbody tr th {\n",
       "        vertical-align: top;\n",
       "    }\n",
       "\n",
       "    .dataframe thead th {\n",
       "        text-align: right;\n",
       "    }\n",
       "</style>\n",
       "<table border=\"1\" class=\"dataframe\">\n",
       "  <thead>\n",
       "    <tr style=\"text-align: right;\">\n",
       "      <th></th>\n",
       "      <th>coefficentType</th>\n",
       "      <th>parameterNames</th>\n",
       "      <th>parameterValues</th>\n",
       "      <th>0</th>\n",
       "      <th>1</th>\n",
       "      <th>2</th>\n",
       "      <th>3</th>\n",
       "      <th>4</th>\n",
       "      <th>5</th>\n",
       "      <th>6</th>\n",
       "      <th>...</th>\n",
       "      <th>4791</th>\n",
       "      <th>4792</th>\n",
       "      <th>4793</th>\n",
       "      <th>4794</th>\n",
       "      <th>4795</th>\n",
       "      <th>4796</th>\n",
       "      <th>4797</th>\n",
       "      <th>4798</th>\n",
       "      <th>4799</th>\n",
       "      <th>4800</th>\n",
       "    </tr>\n",
       "  </thead>\n",
       "  <tbody>\n",
       "    <tr>\n",
       "      <th>0</th>\n",
       "      <td>Constant</td>\n",
       "      <td>affectedSubdomains,rhoMin,rhoMax,indexShiftx,i...</td>\n",
       "      <td>6,10,1,1000000,0,0,,,</td>\n",
       "      <td>0</td>\n",
       "      <td>0</td>\n",
       "      <td>0</td>\n",
       "      <td>0</td>\n",
       "      <td>0</td>\n",
       "      <td>0</td>\n",
       "      <td>0</td>\n",
       "      <td>...</td>\n",
       "      <td>0</td>\n",
       "      <td>0</td>\n",
       "      <td>0</td>\n",
       "      <td>0</td>\n",
       "      <td>0</td>\n",
       "      <td>0</td>\n",
       "      <td>0</td>\n",
       "      <td>0</td>\n",
       "      <td>0</td>\n",
       "      <td>0</td>\n",
       "    </tr>\n",
       "    <tr>\n",
       "      <th>1</th>\n",
       "      <td>Constant</td>\n",
       "      <td>affectedSubdomains,rhoMin,rhoMax,indexShiftx,i...</td>\n",
       "      <td>6,10,1000000,1,0,0,,,</td>\n",
       "      <td>0</td>\n",
       "      <td>0</td>\n",
       "      <td>0</td>\n",
       "      <td>0</td>\n",
       "      <td>0</td>\n",
       "      <td>0</td>\n",
       "      <td>0</td>\n",
       "      <td>...</td>\n",
       "      <td>1</td>\n",
       "      <td>1</td>\n",
       "      <td>1</td>\n",
       "      <td>1</td>\n",
       "      <td>1</td>\n",
       "      <td>1</td>\n",
       "      <td>1</td>\n",
       "      <td>1</td>\n",
       "      <td>1</td>\n",
       "      <td>0</td>\n",
       "    </tr>\n",
       "    <tr>\n",
       "      <th>2</th>\n",
       "      <td>Constant</td>\n",
       "      <td>affectedSubdomains,rhoMin,rhoMax,indexShiftx,i...</td>\n",
       "      <td>6,10,1,1000000,0,0,,,</td>\n",
       "      <td>1</td>\n",
       "      <td>1</td>\n",
       "      <td>1</td>\n",
       "      <td>1</td>\n",
       "      <td>1</td>\n",
       "      <td>1</td>\n",
       "      <td>1</td>\n",
       "      <td>...</td>\n",
       "      <td>1</td>\n",
       "      <td>1</td>\n",
       "      <td>1</td>\n",
       "      <td>1</td>\n",
       "      <td>1</td>\n",
       "      <td>1</td>\n",
       "      <td>1</td>\n",
       "      <td>1</td>\n",
       "      <td>1</td>\n",
       "      <td>0</td>\n",
       "    </tr>\n",
       "    <tr>\n",
       "      <th>3</th>\n",
       "      <td>Constant</td>\n",
       "      <td>affectedSubdomains,rhoMin,rhoMax,indexShiftx,i...</td>\n",
       "      <td>6,10,1,1000000,0,0,,,</td>\n",
       "      <td>1</td>\n",
       "      <td>1</td>\n",
       "      <td>1</td>\n",
       "      <td>1</td>\n",
       "      <td>1</td>\n",
       "      <td>1</td>\n",
       "      <td>1</td>\n",
       "      <td>...</td>\n",
       "      <td>0</td>\n",
       "      <td>0</td>\n",
       "      <td>0</td>\n",
       "      <td>0</td>\n",
       "      <td>0</td>\n",
       "      <td>0</td>\n",
       "      <td>0</td>\n",
       "      <td>0</td>\n",
       "      <td>0</td>\n",
       "      <td>0</td>\n",
       "    </tr>\n",
       "    <tr>\n",
       "      <th>4</th>\n",
       "      <td>Strip</td>\n",
       "      <td>height,nStrips,rhoMin,rhoMax,indexShifty</td>\n",
       "      <td>1,5,1,1000000,16,,,,</td>\n",
       "      <td>0</td>\n",
       "      <td>1</td>\n",
       "      <td>1</td>\n",
       "      <td>1</td>\n",
       "      <td>1</td>\n",
       "      <td>0</td>\n",
       "      <td>0</td>\n",
       "      <td>...</td>\n",
       "      <td>0</td>\n",
       "      <td>0</td>\n",
       "      <td>0</td>\n",
       "      <td>1</td>\n",
       "      <td>1</td>\n",
       "      <td>1</td>\n",
       "      <td>1</td>\n",
       "      <td>0</td>\n",
       "      <td>0</td>\n",
       "      <td>1</td>\n",
       "    </tr>\n",
       "  </tbody>\n",
       "</table>\n",
       "<p>5 rows × 4804 columns</p>\n",
       "</div>"
      ],
      "text/plain": [
       "  coefficentType                                     parameterNames  \\\n",
       "0       Constant  affectedSubdomains,rhoMin,rhoMax,indexShiftx,i...   \n",
       "1       Constant  affectedSubdomains,rhoMin,rhoMax,indexShiftx,i...   \n",
       "2       Constant  affectedSubdomains,rhoMin,rhoMax,indexShiftx,i...   \n",
       "3       Constant  affectedSubdomains,rhoMin,rhoMax,indexShiftx,i...   \n",
       "4          Strip           height,nStrips,rhoMin,rhoMax,indexShifty   \n",
       "\n",
       "         parameterValues  0  1  2  3  4  5  6  ...  4791  4792  4793  4794  \\\n",
       "0  6,10,1,1000000,0,0,,,  0  0  0  0  0  0  0  ...     0     0     0     0   \n",
       "1  6,10,1000000,1,0,0,,,  0  0  0  0  0  0  0  ...     1     1     1     1   \n",
       "2  6,10,1,1000000,0,0,,,  1  1  1  1  1  1  1  ...     1     1     1     1   \n",
       "3  6,10,1,1000000,0,0,,,  1  1  1  1  1  1  1  ...     0     0     0     0   \n",
       "4   1,5,1,1000000,16,,,,  0  1  1  1  1  0  0  ...     0     0     0     1   \n",
       "\n",
       "   4795  4796  4797  4798  4799  4800  \n",
       "0     0     0     0     0     0     0  \n",
       "1     1     1     1     1     1     0  \n",
       "2     1     1     1     1     1     0  \n",
       "3     0     0     0     0     0     0  \n",
       "4     1     1     1     0     0     1  \n",
       "\n",
       "[5 rows x 4804 columns]"
      ]
     },
     "execution_count": 32,
     "metadata": {},
     "output_type": "execute_result"
    }
   ],
   "source": [
    "df = pd.concat([df_constant.sample(round(df_constant.shape[0] * shareConstant),random_state = randomState),\n",
    "                df_strip.sample(round(df_strip.shape[0] * shareStrip),random_state = randomState),\n",
    "                df_blocks.sample(round(df_blocks.shape[0] * shareBlocks),random_state = randomState),\n",
    "                df_randBlocks.sample(round(df_randBlocks.shape[0] * shareRandBlocks),random_state = randomState),\n",
    "                df_random.sample(round(df_random.shape[0] * shareRand),random_state = randomState)\n",
    "               ], axis = 0, ignore_index = True)\n",
    "\n",
    "print(df.shape)\n",
    "df.head()"
   ]
  },
  {
   "cell_type": "markdown",
   "id": "556b72ad",
   "metadata": {},
   "source": [
    "## Duplikate entfernen"
   ]
  },
  {
   "cell_type": "code",
   "execution_count": 35,
   "id": "a3ceb43a",
   "metadata": {},
   "outputs": [],
   "source": [
    "# Exportiere Trainingsdaten\n",
    "df.iloc[:,3:].to_csv(os.path.join(train_data_path, \"collection1_train_data_dump.csv\"),index = False, header = False)\n",
    "# Exportiere zugehörige Parameter\n",
    "df.iloc[:,0:3].to_csv(os.path.join(train_data_path, \"collection1_parameter_dump.csv\"),index = False, header = True)"
   ]
  },
  {
   "cell_type": "code",
   "execution_count": null,
   "id": "6d0a9358",
   "metadata": {},
   "outputs": [],
   "source": []
  }
 ],
 "metadata": {
  "kernelspec": {
   "display_name": "Python 3 (ipykernel)",
   "language": "python",
   "name": "python3"
  },
  "language_info": {
   "codemirror_mode": {
    "name": "ipython",
    "version": 3
   },
   "file_extension": ".py",
   "mimetype": "text/x-python",
   "name": "python",
   "nbconvert_exporter": "python",
   "pygments_lexer": "ipython3",
   "version": "3.7.13"
  }
 },
 "nbformat": 4,
 "nbformat_minor": 5
}
