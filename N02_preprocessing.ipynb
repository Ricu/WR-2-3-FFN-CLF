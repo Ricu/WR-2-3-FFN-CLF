{
 "cells": [
  {
   "cell_type": "markdown",
   "id": "d0922e8f",
   "metadata": {},
   "source": [
    "# Preprocessing der Trainingsdaten"
   ]
  },
  {
   "cell_type": "code",
   "execution_count": 1,
   "id": "62016b76",
   "metadata": {},
   "outputs": [
    {
     "name": "stdout",
     "output_type": "stream",
     "text": [
      "Current working directory: C:\\Users\\Valentin\\Documents\\10. Semester\\WR2\\Projekt 3 - FNN CLF\\WR-2-3-FFN-CLF\n",
      "Train data path: C:\\Users\\Valentin\\Documents\\10. Semester\\WR2\\Projekt 3 - FNN CLF\\WR-2-3-FFN-CLF\\resources\\train_data\\\n"
     ]
    }
   ],
   "source": [
    "import pandas as pd\n",
    "import os\n",
    "import numpy as np\n",
    "\n",
    "print(\"Current working directory: \" + os.getcwd())\n",
    "train_data_path = os.path.join(os.getcwd(), \"resources\\\\train_data\\\\\")\n",
    "print(\"Train data path: \" + train_data_path)"
   ]
  },
  {
   "cell_type": "markdown",
   "id": "23d938f5",
   "metadata": {},
   "source": [
    "## Datensätze laden"
   ]
  },
  {
   "cell_type": "code",
   "execution_count": 2,
   "id": "19e92e99",
   "metadata": {},
   "outputs": [
    {
     "name": "stdout",
     "output_type": "stream",
     "text": [
      "['2022-07-08-09-40-22-train_data_dump.csv', 'collection1_train_data_dump.csv']\n",
      "['2022-07-08-09-40-22-parameter_dump.csv', 'collection1_parameter_dump.csv']\n"
     ]
    }
   ],
   "source": [
    "df_list = []\n",
    "param_list = []\n",
    "train_data_file_names = [name for name in os.listdir(train_data_path) if 'train_data_dump' in name]\n",
    "parameter_file_names = [name for name in os.listdir(train_data_path) if 'parameter_dump' in name]\n",
    "print(train_data_file_names)\n",
    "print(parameter_file_names)"
   ]
  },
  {
   "cell_type": "code",
   "execution_count": 3,
   "id": "2261d346",
   "metadata": {},
   "outputs": [
    {
     "name": "stdout",
     "output_type": "stream",
     "text": [
      "Datensatz Nummer 1\n",
      "(30000, 4801)\n",
      "(30000, 3)\n",
      "Datensatz Nummer 2\n",
      "(84698, 4801)\n",
      "(84699, 3)\n",
      "coefficientType    coefficientType\n",
      "parameterNames      parameterNames\n",
      "parameterValues    parameterValues\n",
      "Name: 0, dtype: object\n",
      "(84698, 4)\n"
     ]
    }
   ],
   "source": [
    "for ind, (name_train, name_param) in enumerate(zip(train_data_file_names,parameter_file_names)):\n",
    "    print(\"Datensatz Nummer \" + str(ind+1))\n",
    "    df_list.append(pd.read_csv(os.path.join(train_data_path, name_train), header = None))\n",
    "    print(df_list[-1].shape)\n",
    "    param_list.append(pd.read_csv(os.path.join(train_data_path, name_param), names = [\"coefficientType\",\"parameterNames\",\"parameterValues\"]))\n",
    "    print(param_list[-1].shape)\n",
    "    if param_list[-1].shape[0] > df_list[-1].shape[0]:\n",
    "        print(param_list[-1].iloc[0,])\n",
    "        param_list[-1] = param_list[-1].drop(0).reset_index()\n",
    "        print(param_list[-1].shape)"
   ]
  },
  {
   "cell_type": "markdown",
   "id": "3c820129",
   "metadata": {},
   "source": [
    "## Assembliere die verschiedenen Ergebnisse anhand der Koeffizientenfunktion"
   ]
  },
  {
   "cell_type": "code",
   "execution_count": 4,
   "id": "060daaab",
   "metadata": {},
   "outputs": [],
   "source": [
    "# df_base = df_list[0]\n",
    "# paramdf_base = param_list[0]\n",
    "# \n",
    "# for df, param in zip(df_list[1:],param_list[1:]):\n",
    "#     # Hänge neuen Datensatz an\n",
    "#     print(df.shape)\n",
    "#     df_base = pd.concat([df_base,df], axis = 0, ignore_index = True)\n",
    "#     print(df_base.shape)\n",
    "#     # Bestimmte alle bisherigen Duplikate\n",
    "#     duplicate_rows = df_base.duplicated()\n",
    "#     # Entferne die Duplikate\n",
    "#     df_base = df_base.loc[~duplicate_rows,]\n",
    "#     print(df_base.shape)\n",
    "#     print(\"----\")\n",
    "#     # Hänge die neue Parameterliste an und entferne sofort die Duplikate\n",
    "#     paramdf_base = pd.concat([paramdf_base, param], axis = 0, ignore_index = True).loc[~duplicate_rows,]\n",
    "#     \n",
    "#     \n",
    "# #    value_counts_pre_drop += paramdf_base['coefficientType'].value_counts()\n",
    "# #    paramdf_base = paramdf_base.loc[~duplicate_rows,]\n",
    "# #    value_counts_post_drop += paramdf_base['coefficientType'].value_counts()\n",
    "#     \n",
    "# print(\"shape without duplicates: \")\n",
    "# print(df_base.shape)\n",
    "# print(paramdf_base.shape)"
   ]
  },
  {
   "cell_type": "code",
   "execution_count": 5,
   "id": "40e44e45",
   "metadata": {},
   "outputs": [
    {
     "name": "stdout",
     "output_type": "stream",
     "text": [
      "(114698, 4801)\n",
      "(114698, 4)\n"
     ]
    },
    {
     "data": {
      "text/html": [
       "<div>\n",
       "<style scoped>\n",
       "    .dataframe tbody tr th:only-of-type {\n",
       "        vertical-align: middle;\n",
       "    }\n",
       "\n",
       "    .dataframe tbody tr th {\n",
       "        vertical-align: top;\n",
       "    }\n",
       "\n",
       "    .dataframe thead th {\n",
       "        text-align: right;\n",
       "    }\n",
       "</style>\n",
       "<table border=\"1\" class=\"dataframe\">\n",
       "  <thead>\n",
       "    <tr style=\"text-align: right;\">\n",
       "      <th></th>\n",
       "      <th>0</th>\n",
       "      <th>1</th>\n",
       "      <th>2</th>\n",
       "      <th>3</th>\n",
       "      <th>4</th>\n",
       "      <th>5</th>\n",
       "      <th>6</th>\n",
       "      <th>7</th>\n",
       "      <th>8</th>\n",
       "      <th>9</th>\n",
       "      <th>...</th>\n",
       "      <th>4791</th>\n",
       "      <th>4792</th>\n",
       "      <th>4793</th>\n",
       "      <th>4794</th>\n",
       "      <th>4795</th>\n",
       "      <th>4796</th>\n",
       "      <th>4797</th>\n",
       "      <th>4798</th>\n",
       "      <th>4799</th>\n",
       "      <th>4800</th>\n",
       "    </tr>\n",
       "  </thead>\n",
       "  <tbody>\n",
       "    <tr>\n",
       "      <th>0</th>\n",
       "      <td>0</td>\n",
       "      <td>0</td>\n",
       "      <td>0</td>\n",
       "      <td>0</td>\n",
       "      <td>0</td>\n",
       "      <td>0</td>\n",
       "      <td>0</td>\n",
       "      <td>0</td>\n",
       "      <td>0</td>\n",
       "      <td>0</td>\n",
       "      <td>...</td>\n",
       "      <td>0</td>\n",
       "      <td>0</td>\n",
       "      <td>0</td>\n",
       "      <td>0</td>\n",
       "      <td>0</td>\n",
       "      <td>0</td>\n",
       "      <td>0</td>\n",
       "      <td>0</td>\n",
       "      <td>0</td>\n",
       "      <td>0</td>\n",
       "    </tr>\n",
       "    <tr>\n",
       "      <th>1</th>\n",
       "      <td>0</td>\n",
       "      <td>0</td>\n",
       "      <td>0</td>\n",
       "      <td>0</td>\n",
       "      <td>0</td>\n",
       "      <td>0</td>\n",
       "      <td>0</td>\n",
       "      <td>0</td>\n",
       "      <td>0</td>\n",
       "      <td>0</td>\n",
       "      <td>...</td>\n",
       "      <td>0</td>\n",
       "      <td>0</td>\n",
       "      <td>0</td>\n",
       "      <td>0</td>\n",
       "      <td>0</td>\n",
       "      <td>0</td>\n",
       "      <td>0</td>\n",
       "      <td>0</td>\n",
       "      <td>0</td>\n",
       "      <td>0</td>\n",
       "    </tr>\n",
       "    <tr>\n",
       "      <th>2</th>\n",
       "      <td>0</td>\n",
       "      <td>0</td>\n",
       "      <td>0</td>\n",
       "      <td>0</td>\n",
       "      <td>0</td>\n",
       "      <td>0</td>\n",
       "      <td>0</td>\n",
       "      <td>0</td>\n",
       "      <td>0</td>\n",
       "      <td>0</td>\n",
       "      <td>...</td>\n",
       "      <td>0</td>\n",
       "      <td>0</td>\n",
       "      <td>0</td>\n",
       "      <td>0</td>\n",
       "      <td>0</td>\n",
       "      <td>0</td>\n",
       "      <td>0</td>\n",
       "      <td>0</td>\n",
       "      <td>0</td>\n",
       "      <td>0</td>\n",
       "    </tr>\n",
       "    <tr>\n",
       "      <th>3</th>\n",
       "      <td>0</td>\n",
       "      <td>0</td>\n",
       "      <td>0</td>\n",
       "      <td>0</td>\n",
       "      <td>0</td>\n",
       "      <td>0</td>\n",
       "      <td>0</td>\n",
       "      <td>0</td>\n",
       "      <td>0</td>\n",
       "      <td>0</td>\n",
       "      <td>...</td>\n",
       "      <td>0</td>\n",
       "      <td>0</td>\n",
       "      <td>0</td>\n",
       "      <td>0</td>\n",
       "      <td>0</td>\n",
       "      <td>0</td>\n",
       "      <td>0</td>\n",
       "      <td>0</td>\n",
       "      <td>0</td>\n",
       "      <td>0</td>\n",
       "    </tr>\n",
       "    <tr>\n",
       "      <th>4</th>\n",
       "      <td>0</td>\n",
       "      <td>0</td>\n",
       "      <td>0</td>\n",
       "      <td>0</td>\n",
       "      <td>0</td>\n",
       "      <td>0</td>\n",
       "      <td>0</td>\n",
       "      <td>0</td>\n",
       "      <td>0</td>\n",
       "      <td>0</td>\n",
       "      <td>...</td>\n",
       "      <td>0</td>\n",
       "      <td>0</td>\n",
       "      <td>0</td>\n",
       "      <td>0</td>\n",
       "      <td>0</td>\n",
       "      <td>0</td>\n",
       "      <td>0</td>\n",
       "      <td>0</td>\n",
       "      <td>0</td>\n",
       "      <td>0</td>\n",
       "    </tr>\n",
       "  </tbody>\n",
       "</table>\n",
       "<p>5 rows × 4801 columns</p>\n",
       "</div>"
      ],
      "text/plain": [
       "   0     1     2     3     4     5     6     7     8     9     ...  4791  \\\n",
       "0     0     0     0     0     0     0     0     0     0     0  ...     0   \n",
       "1     0     0     0     0     0     0     0     0     0     0  ...     0   \n",
       "2     0     0     0     0     0     0     0     0     0     0  ...     0   \n",
       "3     0     0     0     0     0     0     0     0     0     0  ...     0   \n",
       "4     0     0     0     0     0     0     0     0     0     0  ...     0   \n",
       "\n",
       "   4792  4793  4794  4795  4796  4797  4798  4799  4800  \n",
       "0     0     0     0     0     0     0     0     0     0  \n",
       "1     0     0     0     0     0     0     0     0     0  \n",
       "2     0     0     0     0     0     0     0     0     0  \n",
       "3     0     0     0     0     0     0     0     0     0  \n",
       "4     0     0     0     0     0     0     0     0     0  \n",
       "\n",
       "[5 rows x 4801 columns]"
      ]
     },
     "execution_count": 5,
     "metadata": {},
     "output_type": "execute_result"
    }
   ],
   "source": [
    "df_base = pd.concat(df_list,axis = 0,ignore_index = True)\n",
    "paramdf_base = pd.concat(param_list,axis = 0,ignore_index = True)\n",
    "\n",
    "print(df_base.shape)\n",
    "print(paramdf_base.shape)\n",
    "df_base.head()"
   ]
  },
  {
   "cell_type": "code",
   "execution_count": 6,
   "id": "ab57d264",
   "metadata": {},
   "outputs": [],
   "source": [
    "del df_list\n",
    "del param_list"
   ]
  },
  {
   "cell_type": "code",
   "execution_count": 7,
   "id": "cbd20b1a",
   "metadata": {},
   "outputs": [
    {
     "name": "stdout",
     "output_type": "stream",
     "text": [
      "Random Blocks        62011\n",
      "Blocks               26510\n",
      "Completely Random    18444\n",
      "StripesNBlocks        6485\n",
      "Strip                 1236\n",
      "Constant                12\n",
      "Name: coefficientType, dtype: int64\n"
     ]
    }
   ],
   "source": [
    "# Zähle Koeffizientenfunktionen\n",
    "value_counts_pre_drop = paramdf_base['coefficientType'].value_counts()\n",
    "print(value_counts_pre_drop)"
   ]
  },
  {
   "cell_type": "code",
   "execution_count": 8,
   "id": "19fcd0be",
   "metadata": {},
   "outputs": [
    {
     "name": "stdout",
     "output_type": "stream",
     "text": [
      "shape with duplicates: \n",
      "(114698, 4801)\n",
      "shape without duplicates: \n",
      "(102644, 4801)\n",
      "Percentage of datapoints lost: 10.509337564735217\\%\n",
      "Random Blocks        50054\n",
      "Blocks               26424\n",
      "Completely Random    18444\n",
      "StripesNBlocks        6485\n",
      "Strip                 1236\n",
      "Constant                 1\n",
      "Name: coefficientType, dtype: int64\n"
     ]
    }
   ],
   "source": [
    "# Schmeiße die Duplikate\n",
    "duplicate_rows = df_base.duplicated()\n",
    "print(\"shape with duplicates: \")\n",
    "print(df_base.shape)\n",
    "df_base = df_base.loc[~duplicate_rows,]\n",
    "paramdf_base = paramdf_base.loc[~duplicate_rows,]\n",
    "print(\"shape without duplicates: \")\n",
    "print(df_base.shape)\n",
    "print(\"Percentage of datapoints lost: \" + str((100*sum(duplicate_rows)/len(duplicate_rows))) + \"\\%\")\n",
    "value_counts_post_drop = paramdf_base['coefficientType'].value_counts()\n",
    "print(value_counts_post_drop)"
   ]
  },
  {
   "cell_type": "code",
   "execution_count": 9,
   "id": "dd2feee2",
   "metadata": {},
   "outputs": [
    {
     "name": "stdout",
     "output_type": "stream",
     "text": [
      "Random Blocks       -11957\n",
      "Blocks                 -86\n",
      "Completely Random        0\n",
      "StripesNBlocks           0\n",
      "Strip                    0\n",
      "Constant               -11\n",
      "Name: coefficientType, dtype: int64\n"
     ]
    }
   ],
   "source": [
    "# Anzahl verloren gegangener Trainingspunkten\n",
    "print(value_counts_post_drop-value_counts_pre_drop)"
   ]
  },
  {
   "cell_type": "code",
   "execution_count": 10,
   "id": "20256202",
   "metadata": {},
   "outputs": [],
   "source": [
    "# value_counts_post_drop = paramdf_base['coefficientType'].value_counts()\n",
    "# print(value_counts_post_drop)"
   ]
  },
  {
   "cell_type": "code",
   "execution_count": 11,
   "id": "9fd25741",
   "metadata": {},
   "outputs": [
    {
     "data": {
      "text/html": [
       "<div>\n",
       "<style scoped>\n",
       "    .dataframe tbody tr th:only-of-type {\n",
       "        vertical-align: middle;\n",
       "    }\n",
       "\n",
       "    .dataframe tbody tr th {\n",
       "        vertical-align: top;\n",
       "    }\n",
       "\n",
       "    .dataframe thead th {\n",
       "        text-align: right;\n",
       "    }\n",
       "</style>\n",
       "<table border=\"1\" class=\"dataframe\">\n",
       "  <thead>\n",
       "    <tr style=\"text-align: right;\">\n",
       "      <th></th>\n",
       "      <th>coefficientType</th>\n",
       "      <th>parameterNames</th>\n",
       "      <th>parameterValues</th>\n",
       "      <th>index</th>\n",
       "      <th>0</th>\n",
       "      <th>1</th>\n",
       "      <th>2</th>\n",
       "      <th>3</th>\n",
       "      <th>4</th>\n",
       "      <th>5</th>\n",
       "      <th>...</th>\n",
       "      <th>4791</th>\n",
       "      <th>4792</th>\n",
       "      <th>4793</th>\n",
       "      <th>4794</th>\n",
       "      <th>4795</th>\n",
       "      <th>4796</th>\n",
       "      <th>4797</th>\n",
       "      <th>4798</th>\n",
       "      <th>4799</th>\n",
       "      <th>4800</th>\n",
       "    </tr>\n",
       "  </thead>\n",
       "  <tbody>\n",
       "    <tr>\n",
       "      <th>0</th>\n",
       "      <td>Constant</td>\n",
       "      <td>affectedSubdomains,rhoMin,rhoMax,indexShiftx,i...</td>\n",
       "      <td>6,10,1,1000000,0,0,,,</td>\n",
       "      <td>NaN</td>\n",
       "      <td>0</td>\n",
       "      <td>0</td>\n",
       "      <td>0</td>\n",
       "      <td>0</td>\n",
       "      <td>0</td>\n",
       "      <td>0</td>\n",
       "      <td>...</td>\n",
       "      <td>0</td>\n",
       "      <td>0</td>\n",
       "      <td>0</td>\n",
       "      <td>0</td>\n",
       "      <td>0</td>\n",
       "      <td>0</td>\n",
       "      <td>0</td>\n",
       "      <td>0</td>\n",
       "      <td>0</td>\n",
       "      <td>0</td>\n",
       "    </tr>\n",
       "    <tr>\n",
       "      <th>8</th>\n",
       "      <td>Random Blocks</td>\n",
       "      <td>rhoMin,rhoMax,nBlocks,height,heightVariance,wi...</td>\n",
       "      <td>1000000,1,15,8,8,16,16,2,20</td>\n",
       "      <td>NaN</td>\n",
       "      <td>1</td>\n",
       "      <td>1</td>\n",
       "      <td>1</td>\n",
       "      <td>1</td>\n",
       "      <td>1</td>\n",
       "      <td>1</td>\n",
       "      <td>...</td>\n",
       "      <td>0</td>\n",
       "      <td>0</td>\n",
       "      <td>0</td>\n",
       "      <td>0</td>\n",
       "      <td>1</td>\n",
       "      <td>1</td>\n",
       "      <td>1</td>\n",
       "      <td>1</td>\n",
       "      <td>1</td>\n",
       "      <td>0</td>\n",
       "    </tr>\n",
       "    <tr>\n",
       "      <th>9</th>\n",
       "      <td>Random Blocks</td>\n",
       "      <td>rhoMin,rhoMax,nBlocks,height,heightVariance,wi...</td>\n",
       "      <td>1000000,1,15,8,8,16,16,2,20</td>\n",
       "      <td>NaN</td>\n",
       "      <td>1</td>\n",
       "      <td>1</td>\n",
       "      <td>1</td>\n",
       "      <td>1</td>\n",
       "      <td>1</td>\n",
       "      <td>1</td>\n",
       "      <td>...</td>\n",
       "      <td>1</td>\n",
       "      <td>1</td>\n",
       "      <td>1</td>\n",
       "      <td>1</td>\n",
       "      <td>1</td>\n",
       "      <td>1</td>\n",
       "      <td>1</td>\n",
       "      <td>1</td>\n",
       "      <td>1</td>\n",
       "      <td>0</td>\n",
       "    </tr>\n",
       "    <tr>\n",
       "      <th>10</th>\n",
       "      <td>Random Blocks</td>\n",
       "      <td>rhoMin,rhoMax,nBlocks,height,heightVariance,wi...</td>\n",
       "      <td>1000000,1,15,8,8,16,16,2,20</td>\n",
       "      <td>NaN</td>\n",
       "      <td>1</td>\n",
       "      <td>1</td>\n",
       "      <td>1</td>\n",
       "      <td>1</td>\n",
       "      <td>1</td>\n",
       "      <td>1</td>\n",
       "      <td>...</td>\n",
       "      <td>1</td>\n",
       "      <td>1</td>\n",
       "      <td>1</td>\n",
       "      <td>1</td>\n",
       "      <td>1</td>\n",
       "      <td>1</td>\n",
       "      <td>1</td>\n",
       "      <td>1</td>\n",
       "      <td>1</td>\n",
       "      <td>0</td>\n",
       "    </tr>\n",
       "    <tr>\n",
       "      <th>11</th>\n",
       "      <td>Random Blocks</td>\n",
       "      <td>rhoMin,rhoMax,nBlocks,height,heightVariance,wi...</td>\n",
       "      <td>1000000,1,15,8,8,16,16,2,20</td>\n",
       "      <td>NaN</td>\n",
       "      <td>1</td>\n",
       "      <td>1</td>\n",
       "      <td>1</td>\n",
       "      <td>1</td>\n",
       "      <td>1</td>\n",
       "      <td>1</td>\n",
       "      <td>...</td>\n",
       "      <td>1</td>\n",
       "      <td>1</td>\n",
       "      <td>1</td>\n",
       "      <td>1</td>\n",
       "      <td>1</td>\n",
       "      <td>1</td>\n",
       "      <td>1</td>\n",
       "      <td>1</td>\n",
       "      <td>1</td>\n",
       "      <td>0</td>\n",
       "    </tr>\n",
       "  </tbody>\n",
       "</table>\n",
       "<p>5 rows × 4805 columns</p>\n",
       "</div>"
      ],
      "text/plain": [
       "   coefficientType                                     parameterNames  \\\n",
       "0         Constant  affectedSubdomains,rhoMin,rhoMax,indexShiftx,i...   \n",
       "8    Random Blocks  rhoMin,rhoMax,nBlocks,height,heightVariance,wi...   \n",
       "9    Random Blocks  rhoMin,rhoMax,nBlocks,height,heightVariance,wi...   \n",
       "10   Random Blocks  rhoMin,rhoMax,nBlocks,height,heightVariance,wi...   \n",
       "11   Random Blocks  rhoMin,rhoMax,nBlocks,height,heightVariance,wi...   \n",
       "\n",
       "                parameterValues  index  0  1  2  3  4  5  ...  4791  4792  \\\n",
       "0         6,10,1,1000000,0,0,,,    NaN  0  0  0  0  0  0  ...     0     0   \n",
       "8   1000000,1,15,8,8,16,16,2,20    NaN  1  1  1  1  1  1  ...     0     0   \n",
       "9   1000000,1,15,8,8,16,16,2,20    NaN  1  1  1  1  1  1  ...     1     1   \n",
       "10  1000000,1,15,8,8,16,16,2,20    NaN  1  1  1  1  1  1  ...     1     1   \n",
       "11  1000000,1,15,8,8,16,16,2,20    NaN  1  1  1  1  1  1  ...     1     1   \n",
       "\n",
       "    4793  4794  4795  4796  4797  4798  4799  4800  \n",
       "0      0     0     0     0     0     0     0     0  \n",
       "8      0     0     1     1     1     1     1     0  \n",
       "9      1     1     1     1     1     1     1     0  \n",
       "10     1     1     1     1     1     1     1     0  \n",
       "11     1     1     1     1     1     1     1     0  \n",
       "\n",
       "[5 rows x 4805 columns]"
      ]
     },
     "execution_count": 11,
     "metadata": {},
     "output_type": "execute_result"
    }
   ],
   "source": [
    "df_base = pd.concat([paramdf_base,df_base], axis=1)\n",
    "df_base.head()"
   ]
  },
  {
   "cell_type": "code",
   "execution_count": 12,
   "id": "83422d7d",
   "metadata": {},
   "outputs": [],
   "source": [
    "# Exportiere Trainingsdaten\n",
    "df_base.iloc[:,3:].to_csv(os.path.join(train_data_path, \"collection2_train_data_dump.csv\"),index = False, header = False)\n",
    "# Exportiere zugehörige Parameter\n",
    "df_base.iloc[:,0:3].to_csv(os.path.join(train_data_path, \"collection2_parameter_dump.csv\"),index = False, header = True)"
   ]
  },
  {
   "cell_type": "markdown",
   "id": "2766b16f",
   "metadata": {},
   "source": [
    "### Konstante Koeffizienten"
   ]
  },
  {
   "cell_type": "code",
   "execution_count": 13,
   "id": "2acf3ec5",
   "metadata": {},
   "outputs": [
    {
     "name": "stdout",
     "output_type": "stream",
     "text": [
      "(1, 4805)\n"
     ]
    }
   ],
   "source": [
    "# coeff_fun_names = [\"Constant\",\"Strip\",\"Blocks\",\"Random Blocks\",\"Completely Random\",\"StripesNBlocks\"]\n",
    "df_constant = df_base.loc[df_base['coefficientType'] == \"Constant\",]\n",
    "print(df_constant.shape)"
   ]
  },
  {
   "cell_type": "code",
   "execution_count": 14,
   "id": "eead7606",
   "metadata": {},
   "outputs": [
    {
     "data": {
      "text/plain": [
       "count    1.0\n",
       "mean     0.0\n",
       "std      NaN\n",
       "min      0.0\n",
       "25%      0.0\n",
       "50%      0.0\n",
       "75%      0.0\n",
       "max      0.0\n",
       "Name: 4800, dtype: float64"
      ]
     },
     "execution_count": 14,
     "metadata": {},
     "output_type": "execute_result"
    }
   ],
   "source": [
    "df_constant.iloc[:,-1].describe()"
   ]
  },
  {
   "cell_type": "markdown",
   "id": "2c1dd4b3",
   "metadata": {},
   "source": [
    "### Streifen Koeffizientenfunktion"
   ]
  },
  {
   "cell_type": "code",
   "execution_count": 15,
   "id": "a6a23df6",
   "metadata": {},
   "outputs": [
    {
     "name": "stdout",
     "output_type": "stream",
     "text": [
      "(1236, 4805)\n"
     ]
    }
   ],
   "source": [
    "# coeff_fun_names = [\"Constant\",\"Strip\",\"Blocks\",\"Random Blocks\",\"Completely Random\",\"StripesNBlocks\"]\n",
    "df_strip = df_base.loc[df_base['coefficientType'] == \"Strip\",]\n",
    "print(df_strip.shape)"
   ]
  },
  {
   "cell_type": "code",
   "execution_count": 16,
   "id": "d92ae536",
   "metadata": {},
   "outputs": [
    {
     "data": {
      "text/plain": [
       "count    1236.000000\n",
       "mean        0.472492\n",
       "std         0.499445\n",
       "min         0.000000\n",
       "25%         0.000000\n",
       "50%         0.000000\n",
       "75%         1.000000\n",
       "max         1.000000\n",
       "Name: 4800, dtype: float64"
      ]
     },
     "execution_count": 16,
     "metadata": {},
     "output_type": "execute_result"
    }
   ],
   "source": [
    "df_strip.iloc[:,-1].describe()"
   ]
  },
  {
   "cell_type": "markdown",
   "id": "bf8f311c",
   "metadata": {},
   "source": [
    "### Block Koeffizientenfunktion"
   ]
  },
  {
   "cell_type": "code",
   "execution_count": 17,
   "id": "ef2779e9",
   "metadata": {},
   "outputs": [
    {
     "name": "stdout",
     "output_type": "stream",
     "text": [
      "(26424, 4805)\n"
     ]
    }
   ],
   "source": [
    "# coeff_fun_names = [\"Constant\",\"Strip\",\"Blocks\",\"Random Blocks\",\"Completely Random\",\"StripesNBlocks\"]\n",
    "df_blocks = df_base.loc[df_base['coefficientType'] == \"Blocks\",]\n",
    "print(df_blocks.shape)"
   ]
  },
  {
   "cell_type": "code",
   "execution_count": 18,
   "id": "32a93241",
   "metadata": {},
   "outputs": [
    {
     "data": {
      "text/plain": [
       "count    26424.000000\n",
       "mean         0.116599\n",
       "std          0.320947\n",
       "min          0.000000\n",
       "25%          0.000000\n",
       "50%          0.000000\n",
       "75%          0.000000\n",
       "max          1.000000\n",
       "Name: 4800, dtype: float64"
      ]
     },
     "execution_count": 18,
     "metadata": {},
     "output_type": "execute_result"
    }
   ],
   "source": [
    "df_blocks.iloc[:,-1].describe()"
   ]
  },
  {
   "cell_type": "markdown",
   "id": "90e65ff9",
   "metadata": {},
   "source": [
    "### Random Block Koeffizientenfunktion"
   ]
  },
  {
   "cell_type": "code",
   "execution_count": 19,
   "id": "4be7a7de",
   "metadata": {},
   "outputs": [
    {
     "name": "stdout",
     "output_type": "stream",
     "text": [
      "(50054, 4805)\n"
     ]
    }
   ],
   "source": [
    "# coeff_fun_names = [\"Constant\",\"Strip\",\"Blocks\",\"Random Blocks\",\"Completely Random\",\"StripesNBlocks\"]\n",
    "df_randBlocks = df_base.loc[paramdf_base['coefficientType'] == \"Random Blocks\",]\n",
    "print(df_randBlocks.shape)"
   ]
  },
  {
   "cell_type": "code",
   "execution_count": 20,
   "id": "2afb4192",
   "metadata": {},
   "outputs": [
    {
     "data": {
      "text/plain": [
       "count    50054.000000\n",
       "mean         0.056119\n",
       "std          0.230154\n",
       "min          0.000000\n",
       "25%          0.000000\n",
       "50%          0.000000\n",
       "75%          0.000000\n",
       "max          1.000000\n",
       "Name: 4800, dtype: float64"
      ]
     },
     "execution_count": 20,
     "metadata": {},
     "output_type": "execute_result"
    }
   ],
   "source": [
    "df_randBlocks.iloc[:,-1].describe()"
   ]
  },
  {
   "cell_type": "markdown",
   "id": "4c57ef6f",
   "metadata": {},
   "source": [
    "### Random Koeffizientenfunktion"
   ]
  },
  {
   "cell_type": "code",
   "execution_count": 21,
   "id": "ea5a71c0",
   "metadata": {},
   "outputs": [
    {
     "name": "stdout",
     "output_type": "stream",
     "text": [
      "(6485, 4805)\n"
     ]
    }
   ],
   "source": [
    "# coeff_fun_names = [\"Constant\",\"Strip\",\"Blocks\",\"Random Blocks\",\"Completely Random\",\"StripesNBlocks\"]\n",
    "df_random = df_base.loc[paramdf_base['coefficientType'] == \"StripesNBlocks\",]\n",
    "print(df_random.shape)"
   ]
  },
  {
   "cell_type": "code",
   "execution_count": 22,
   "id": "10a2ba1b",
   "metadata": {},
   "outputs": [
    {
     "data": {
      "text/plain": [
       "count    6485.000000\n",
       "mean        0.427140\n",
       "std         0.494701\n",
       "min         0.000000\n",
       "25%         0.000000\n",
       "50%         0.000000\n",
       "75%         1.000000\n",
       "max         1.000000\n",
       "Name: 4800, dtype: float64"
      ]
     },
     "execution_count": 22,
     "metadata": {},
     "output_type": "execute_result"
    }
   ],
   "source": [
    "df_random.iloc[:,-1].describe()"
   ]
  },
  {
   "cell_type": "markdown",
   "id": "e348f6ea",
   "metadata": {},
   "source": [
    "### Stripes and Blocks"
   ]
  },
  {
   "cell_type": "code",
   "execution_count": 23,
   "id": "d777409f",
   "metadata": {},
   "outputs": [
    {
     "name": "stdout",
     "output_type": "stream",
     "text": [
      "(6485, 4805)\n"
     ]
    }
   ],
   "source": [
    "# coeff_fun_names = [\"Constant\",\"Strip\",\"Blocks\",\"Random Blocks\",\"Completely Random\",\"StripesNBlocks\"]\n",
    "df_stripsNBlocks = df_base.loc[paramdf_base['coefficientType'] == \"StripesNBlocks\",]\n",
    "print(df_stripsNBlocks.shape)"
   ]
  },
  {
   "cell_type": "code",
   "execution_count": 24,
   "id": "7ee6d5b2",
   "metadata": {},
   "outputs": [
    {
     "data": {
      "text/plain": [
       "count    6485.000000\n",
       "mean        0.427140\n",
       "std         0.494701\n",
       "min         0.000000\n",
       "25%         0.000000\n",
       "50%         0.000000\n",
       "75%         1.000000\n",
       "max         1.000000\n",
       "Name: 4800, dtype: float64"
      ]
     },
     "execution_count": 24,
     "metadata": {},
     "output_type": "execute_result"
    }
   ],
   "source": [
    "df_stripsNBlocks.iloc[:,-1].describe()"
   ]
  },
  {
   "cell_type": "code",
   "execution_count": 25,
   "id": "71eb646e",
   "metadata": {},
   "outputs": [],
   "source": [
    "del df_base"
   ]
  },
  {
   "cell_type": "markdown",
   "id": "8de089a7",
   "metadata": {},
   "source": [
    "## Datensatz zusammensetzen"
   ]
  },
  {
   "cell_type": "code",
   "execution_count": 26,
   "id": "a4b13816",
   "metadata": {},
   "outputs": [],
   "source": [
    "randomState = 0\n",
    "shareConstant = 1\n",
    "shareStrip = 1\n",
    "shareBlocks = 0.3\n",
    "shareRandBlocks = 0.4\n",
    "shareRand = 0\n",
    "shareStripsNBlocks = 0.8"
   ]
  },
  {
   "cell_type": "code",
   "execution_count": 27,
   "id": "f08617ca",
   "metadata": {},
   "outputs": [
    {
     "name": "stdout",
     "output_type": "stream",
     "text": [
      "(34374, 4805)\n"
     ]
    },
    {
     "data": {
      "text/html": [
       "<div>\n",
       "<style scoped>\n",
       "    .dataframe tbody tr th:only-of-type {\n",
       "        vertical-align: middle;\n",
       "    }\n",
       "\n",
       "    .dataframe tbody tr th {\n",
       "        vertical-align: top;\n",
       "    }\n",
       "\n",
       "    .dataframe thead th {\n",
       "        text-align: right;\n",
       "    }\n",
       "</style>\n",
       "<table border=\"1\" class=\"dataframe\">\n",
       "  <thead>\n",
       "    <tr style=\"text-align: right;\">\n",
       "      <th></th>\n",
       "      <th>coefficientType</th>\n",
       "      <th>parameterNames</th>\n",
       "      <th>parameterValues</th>\n",
       "      <th>index</th>\n",
       "      <th>0</th>\n",
       "      <th>1</th>\n",
       "      <th>2</th>\n",
       "      <th>3</th>\n",
       "      <th>4</th>\n",
       "      <th>5</th>\n",
       "      <th>...</th>\n",
       "      <th>4791</th>\n",
       "      <th>4792</th>\n",
       "      <th>4793</th>\n",
       "      <th>4794</th>\n",
       "      <th>4795</th>\n",
       "      <th>4796</th>\n",
       "      <th>4797</th>\n",
       "      <th>4798</th>\n",
       "      <th>4799</th>\n",
       "      <th>4800</th>\n",
       "    </tr>\n",
       "  </thead>\n",
       "  <tbody>\n",
       "    <tr>\n",
       "      <th>0</th>\n",
       "      <td>Constant</td>\n",
       "      <td>affectedSubdomains,rhoMin,rhoMax,indexShiftx,i...</td>\n",
       "      <td>6,10,1,1000000,0,0,,,</td>\n",
       "      <td>NaN</td>\n",
       "      <td>0</td>\n",
       "      <td>0</td>\n",
       "      <td>0</td>\n",
       "      <td>0</td>\n",
       "      <td>0</td>\n",
       "      <td>0</td>\n",
       "      <td>...</td>\n",
       "      <td>0</td>\n",
       "      <td>0</td>\n",
       "      <td>0</td>\n",
       "      <td>0</td>\n",
       "      <td>0</td>\n",
       "      <td>0</td>\n",
       "      <td>0</td>\n",
       "      <td>0</td>\n",
       "      <td>0</td>\n",
       "      <td>0</td>\n",
       "    </tr>\n",
       "    <tr>\n",
       "      <th>1</th>\n",
       "      <td>Strip</td>\n",
       "      <td>height,nStrips,rhoMin,rhoMax,indexShifty</td>\n",
       "      <td>3,4,1,1000000,12,,,,</td>\n",
       "      <td>965.0</td>\n",
       "      <td>0</td>\n",
       "      <td>0</td>\n",
       "      <td>0</td>\n",
       "      <td>0</td>\n",
       "      <td>0</td>\n",
       "      <td>0</td>\n",
       "      <td>...</td>\n",
       "      <td>1</td>\n",
       "      <td>1</td>\n",
       "      <td>1</td>\n",
       "      <td>1</td>\n",
       "      <td>1</td>\n",
       "      <td>1</td>\n",
       "      <td>1</td>\n",
       "      <td>1</td>\n",
       "      <td>1</td>\n",
       "      <td>0</td>\n",
       "    </tr>\n",
       "    <tr>\n",
       "      <th>2</th>\n",
       "      <td>Strip</td>\n",
       "      <td>height,nStrips,rhoMin,rhoMax,indexShifty</td>\n",
       "      <td>1,4,1000000,1,6,,,,</td>\n",
       "      <td>157.0</td>\n",
       "      <td>0</td>\n",
       "      <td>0</td>\n",
       "      <td>1</td>\n",
       "      <td>1</td>\n",
       "      <td>1</td>\n",
       "      <td>1</td>\n",
       "      <td>...</td>\n",
       "      <td>0</td>\n",
       "      <td>0</td>\n",
       "      <td>1</td>\n",
       "      <td>1</td>\n",
       "      <td>1</td>\n",
       "      <td>1</td>\n",
       "      <td>0</td>\n",
       "      <td>0</td>\n",
       "      <td>0</td>\n",
       "      <td>1</td>\n",
       "    </tr>\n",
       "    <tr>\n",
       "      <th>3</th>\n",
       "      <td>Strip</td>\n",
       "      <td>height,nStrips,rhoMin,rhoMax,indexShifty</td>\n",
       "      <td>4,3,1000000,1,8,,,,</td>\n",
       "      <td>1161.0</td>\n",
       "      <td>1</td>\n",
       "      <td>1</td>\n",
       "      <td>1</td>\n",
       "      <td>1</td>\n",
       "      <td>1</td>\n",
       "      <td>1</td>\n",
       "      <td>...</td>\n",
       "      <td>0</td>\n",
       "      <td>0</td>\n",
       "      <td>0</td>\n",
       "      <td>0</td>\n",
       "      <td>0</td>\n",
       "      <td>0</td>\n",
       "      <td>0</td>\n",
       "      <td>0</td>\n",
       "      <td>0</td>\n",
       "      <td>0</td>\n",
       "    </tr>\n",
       "    <tr>\n",
       "      <th>4</th>\n",
       "      <td>Strip</td>\n",
       "      <td>height,nStrips,rhoMin,rhoMax,indexShifty</td>\n",
       "      <td>2,4,1000000,1,20,,,,</td>\n",
       "      <td>506.0</td>\n",
       "      <td>1</td>\n",
       "      <td>1</td>\n",
       "      <td>0</td>\n",
       "      <td>0</td>\n",
       "      <td>0</td>\n",
       "      <td>0</td>\n",
       "      <td>...</td>\n",
       "      <td>1</td>\n",
       "      <td>1</td>\n",
       "      <td>0</td>\n",
       "      <td>0</td>\n",
       "      <td>0</td>\n",
       "      <td>0</td>\n",
       "      <td>0</td>\n",
       "      <td>1</td>\n",
       "      <td>1</td>\n",
       "      <td>1</td>\n",
       "    </tr>\n",
       "  </tbody>\n",
       "</table>\n",
       "<p>5 rows × 4805 columns</p>\n",
       "</div>"
      ],
      "text/plain": [
       "  coefficientType                                     parameterNames  \\\n",
       "0        Constant  affectedSubdomains,rhoMin,rhoMax,indexShiftx,i...   \n",
       "1           Strip           height,nStrips,rhoMin,rhoMax,indexShifty   \n",
       "2           Strip           height,nStrips,rhoMin,rhoMax,indexShifty   \n",
       "3           Strip           height,nStrips,rhoMin,rhoMax,indexShifty   \n",
       "4           Strip           height,nStrips,rhoMin,rhoMax,indexShifty   \n",
       "\n",
       "         parameterValues   index  0  1  2  3  4  5  ...  4791  4792  4793  \\\n",
       "0  6,10,1,1000000,0,0,,,     NaN  0  0  0  0  0  0  ...     0     0     0   \n",
       "1   3,4,1,1000000,12,,,,   965.0  0  0  0  0  0  0  ...     1     1     1   \n",
       "2    1,4,1000000,1,6,,,,   157.0  0  0  1  1  1  1  ...     0     0     1   \n",
       "3    4,3,1000000,1,8,,,,  1161.0  1  1  1  1  1  1  ...     0     0     0   \n",
       "4   2,4,1000000,1,20,,,,   506.0  1  1  0  0  0  0  ...     1     1     0   \n",
       "\n",
       "   4794  4795  4796  4797  4798  4799  4800  \n",
       "0     0     0     0     0     0     0     0  \n",
       "1     1     1     1     1     1     1     0  \n",
       "2     1     1     1     0     0     0     1  \n",
       "3     0     0     0     0     0     0     0  \n",
       "4     0     0     0     0     1     1     1  \n",
       "\n",
       "[5 rows x 4805 columns]"
      ]
     },
     "execution_count": 27,
     "metadata": {},
     "output_type": "execute_result"
    }
   ],
   "source": [
    "df = pd.concat([df_constant.sample(round(df_constant.shape[0] * shareConstant),random_state = randomState),\n",
    "                df_strip.sample(round(df_strip.shape[0] * shareStrip),random_state = randomState),\n",
    "                df_blocks.sample(round(df_blocks.shape[0] * shareBlocks),random_state = randomState),\n",
    "                df_randBlocks.sample(round(df_randBlocks.shape[0] * shareRandBlocks),random_state = randomState),\n",
    "                df_random.sample(round(df_random.shape[0] * shareRand),random_state = randomState),\n",
    "                df_stripsNBlocks.sample(round(df_stripsNBlocks.shape[0] * shareStripsNBlocks),random_state = randomState)\n",
    "               ], axis = 0, ignore_index = True)\n",
    "\n",
    "print(df.shape)\n",
    "df.head()"
   ]
  },
  {
   "cell_type": "markdown",
   "id": "556b72ad",
   "metadata": {},
   "source": [
    "## Speichere Daten"
   ]
  },
  {
   "cell_type": "code",
   "execution_count": 28,
   "id": "a3ceb43a",
   "metadata": {},
   "outputs": [],
   "source": [
    "# Exportiere Trainingsdaten\n",
    "df.iloc[:,3:].to_csv(os.path.join(train_data_path, \"training_dataset_ver1.csv\"),index = False, header = False)\n",
    "# Exportiere zugehörige Parameter\n",
    "df.iloc[:,0:3].to_csv(os.path.join(train_data_path, \"training_dataset_ver1_parameters.csv\"),index = False, header = True)"
   ]
  },
  {
   "cell_type": "code",
   "execution_count": null,
   "id": "6d0a9358",
   "metadata": {},
   "outputs": [],
   "source": []
  }
 ],
 "metadata": {
  "kernelspec": {
   "display_name": "Python 3 (ipykernel)",
   "language": "python",
   "name": "python3"
  },
  "language_info": {
   "codemirror_mode": {
    "name": "ipython",
    "version": 3
   },
   "file_extension": ".py",
   "mimetype": "text/x-python",
   "name": "python",
   "nbconvert_exporter": "python",
   "pygments_lexer": "ipython3",
   "version": "3.7.13"
  }
 },
 "nbformat": 4,
 "nbformat_minor": 5
}
