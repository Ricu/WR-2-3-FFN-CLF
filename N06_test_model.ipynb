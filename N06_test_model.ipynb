{
  "nbformat": 4,
  "nbformat_minor": 0,
  "metadata": {
    "colab": {
      "name": "N06_test_model.ipynb",
      "provenance": [],
      "collapsed_sections": []
    },
    "kernelspec": {
      "name": "python3",
      "display_name": "Python 3"
    },
    "language_info": {
      "name": "python"
    }
  },
  "cells": [
    {
      "cell_type": "code",
      "execution_count": 33,
      "metadata": {
        "id": "zOfLQk7WUfkD"
      },
      "outputs": [],
      "source": [
        "import numpy as np\n",
        "import pandas as pd\n",
        "import matplotlib.pyplot as plt\n",
        "import tensorflow as tf\n",
        "import joblib\n",
        "import datetime\n",
        "from sklearn.metrics import mean_squared_error, make_scorer, r2_score, accuracy_score, log_loss, confusion_matrix"
      ]
    },
    {
      "cell_type": "code",
      "source": [
        "random_state = 1\n",
        "tf.random.set_seed(random_state)\n",
        "np.random.seed(random_state)"
      ],
      "metadata": {
        "id": "EzDrifNyU-1B"
      },
      "execution_count": 34,
      "outputs": []
    },
    {
      "cell_type": "code",
      "source": [
        "model = tf.keras.models.load_model('/content/drive/MyDrive/WR2 Brrr/Trainingsdaten_Proj3/trained_model2')"
      ],
      "metadata": {
        "id": "_pVRzU5qUodl"
      },
      "execution_count": 35,
      "outputs": []
    },
    {
      "cell_type": "code",
      "source": [
        "data_list = []\n",
        "\n",
        "for i in range(3):\n",
        "  data_list.append(pd.read_csv('/content/drive/MyDrive/WR2 Brrr/Testdaten_Proj3/test_data_' + str(i+1) + '_dump.csv', header = None))\n",
        "  print(data_list[i].shape)"
      ],
      "metadata": {
        "colab": {
          "base_uri": "https://localhost:8080/"
        },
        "id": "dqlhrRofXdX7",
        "outputId": "035c0e38-8d1b-43f3-eb8c-158b6ad32d5d"
      },
      "execution_count": 36,
      "outputs": [
        {
          "output_type": "stream",
          "name": "stdout",
          "text": [
            "(24, 4801)\n",
            "(24, 4801)\n",
            "(24, 4801)\n"
          ]
        }
      ]
    },
    {
      "cell_type": "code",
      "source": [
        "model.summary()"
      ],
      "metadata": {
        "colab": {
          "base_uri": "https://localhost:8080/"
        },
        "id": "0umvvqfKp8A4",
        "outputId": "09419a8d-8e5d-4d0e-802a-ffb981a7a0ed"
      },
      "execution_count": 37,
      "outputs": [
        {
          "output_type": "stream",
          "name": "stdout",
          "text": [
            "Model: \"sequential_3\"\n",
            "_________________________________________________________________\n",
            " Layer (type)                Output Shape              Param #   \n",
            "=================================================================\n",
            " dense_1 (Dense)             (None, 800)               3840800   \n",
            "                                                                 \n",
            " dropout_1 (Dropout)         (None, 800)               0         \n",
            "                                                                 \n",
            " dense_2 (Dense)             (None, 800)               640800    \n",
            "                                                                 \n",
            " dropout_2 (Dropout)         (None, 800)               0         \n",
            "                                                                 \n",
            " dense_3 (Dense)             (None, 800)               640800    \n",
            "                                                                 \n",
            " dropout_3 (Dropout)         (None, 800)               0         \n",
            "                                                                 \n",
            " dense_4 (Dense)             (None, 800)               640800    \n",
            "                                                                 \n",
            " dropout_4 (Dropout)         (None, 800)               0         \n",
            "                                                                 \n",
            " dense_5 (Dense)             (None, 800)               640800    \n",
            "                                                                 \n",
            " dropout_5 (Dropout)         (None, 800)               0         \n",
            "                                                                 \n",
            " dense_6 (Dense)             (None, 800)               640800    \n",
            "                                                                 \n",
            " dropout_6 (Dropout)         (None, 800)               0         \n",
            "                                                                 \n",
            " dense_7 (Dense)             (None, 800)               640800    \n",
            "                                                                 \n",
            " dense_13 (Dense)            (None, 1)                 801       \n",
            "                                                                 \n",
            "=================================================================\n",
            "Total params: 7,686,401\n",
            "Trainable params: 7,686,401\n",
            "Non-trainable params: 0\n",
            "_________________________________________________________________\n"
          ]
        }
      ]
    },
    {
      "cell_type": "code",
      "source": [
        "i = 0 #waehle bild\n",
        "X = data_list[i].iloc[:,:-1].values.astype('float32')\n",
        "y_true = data_list[i].iloc[:,-1].values.astype('float32')\n",
        "y_pred = model.predict(X)\n",
        "print(y_pred)\n",
        "y_pred_np = np.array([1 if prob > 0.45 else 0 for prob in y_pred]).astype('int64')\n",
        "print(y_pred_np)\n",
        "# Save predicted labels\n",
        "file_name = '/content/drive/MyDrive/WR2 Brrr/Testdaten_Proj3/predicted_labels_' + str(i+1) + '.csv'\n",
        "np.savetxt(file_name, y_pred_np, delimiter=\",\")"
      ],
      "metadata": {
        "colab": {
          "base_uri": "https://localhost:8080/"
        },
        "id": "A7wJDD6_6JdV",
        "outputId": "073cc641-c8f9-4406-caf6-a39029b376ca"
      },
      "execution_count": 47,
      "outputs": [
        {
          "output_type": "stream",
          "name": "stdout",
          "text": [
            "[[5.4284032e-05]\n",
            " [8.6261678e-01]\n",
            " [5.4284032e-05]\n",
            " [8.6261678e-01]\n",
            " [5.4284032e-05]\n",
            " [8.6261678e-01]\n",
            " [8.6261678e-01]\n",
            " [1.8090010e-04]\n",
            " [9.9729556e-01]\n",
            " [1.8090010e-04]\n",
            " [9.9729556e-01]\n",
            " [1.8090010e-04]\n",
            " [9.9729556e-01]\n",
            " [9.9729556e-01]\n",
            " [1.8090010e-04]\n",
            " [7.5133026e-01]\n",
            " [1.8090010e-04]\n",
            " [7.5133026e-01]\n",
            " [1.8090010e-04]\n",
            " [7.5133026e-01]\n",
            " [7.5133026e-01]\n",
            " [6.1026162e-06]\n",
            " [6.1026162e-06]\n",
            " [6.1026162e-06]]\n",
            "[0 1 0 1 0 1 1 0 1 0 1 0 1 1 0 1 0 1 0 1 1 0 0 0]\n"
          ]
        }
      ]
    },
    {
      "cell_type": "code",
      "source": [
        ""
      ],
      "metadata": {
        "colab": {
          "base_uri": "https://localhost:8080/"
        },
        "id": "QVSxndNZ8TMq",
        "outputId": "a7d83ace-fccc-41fd-aa03-7e47085d6d61"
      },
      "execution_count": 41,
      "outputs": [
        {
          "output_type": "stream",
          "name": "stdout",
          "text": [
            "[0 1 0 1 0 1 1 0 1 0 1 0 1 1 0 1 0 1 0 1 1 0 0 0]\n"
          ]
        }
      ]
    }
  ]
}