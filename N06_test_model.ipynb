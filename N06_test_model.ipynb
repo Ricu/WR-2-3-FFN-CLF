{
 "cells": [
  {
   "cell_type": "markdown",
   "metadata": {
    "id": "CIzKwcCmqNbg"
   },
   "source": [
    "Dieses Notebook dient dazu, ein trainiertes Netz auf die Testbiler 1-3 anzuwenden und deren Teilgebietskanten zu klassifizieren."
   ]
  },
  {
   "cell_type": "code",
   "execution_count": 1,
   "metadata": {
    "id": "zOfLQk7WUfkD"
   },
   "outputs": [],
   "source": [
    "import numpy as np\n",
    "import pandas as pd\n",
    "import tensorflow as tf\n",
    "import os"
   ]
  },
  {
   "cell_type": "markdown",
   "metadata": {
    "id": "aUxIQxL3nqqn"
   },
   "source": [
    "Zuerst wird das bereits trainierte Netz geladen:"
   ]
  },
  {
   "cell_type": "code",
   "execution_count": 2,
   "metadata": {
    "id": "_pVRzU5qUodl"
   },
   "outputs": [
    {
     "ename": "OSError",
     "evalue": "SavedModel file does not exist at: C:/resources/trained_models/trained_model1/{saved_model.pbtxt|saved_model.pb}",
     "output_type": "error",
     "traceback": [
      "\u001b[1;31m---------------------------------------------------------------------------\u001b[0m",
      "\u001b[1;31mOSError\u001b[0m                                   Traceback (most recent call last)",
      "Input \u001b[1;32mIn [2]\u001b[0m, in \u001b[0;36m<cell line: 1>\u001b[1;34m()\u001b[0m\n\u001b[1;32m----> 1\u001b[0m model \u001b[38;5;241m=\u001b[39m \u001b[43mtf\u001b[49m\u001b[38;5;241;43m.\u001b[39;49m\u001b[43mkeras\u001b[49m\u001b[38;5;241;43m.\u001b[39;49m\u001b[43mmodels\u001b[49m\u001b[38;5;241;43m.\u001b[39;49m\u001b[43mload_model\u001b[49m\u001b[43m(\u001b[49m\u001b[43mos\u001b[49m\u001b[38;5;241;43m.\u001b[39;49m\u001b[43mpath\u001b[49m\u001b[38;5;241;43m.\u001b[39;49m\u001b[43mjoin\u001b[49m\u001b[43m(\u001b[49m\u001b[43mos\u001b[49m\u001b[38;5;241;43m.\u001b[39;49m\u001b[43mgetcwd\u001b[49m\u001b[43m(\u001b[49m\u001b[43m)\u001b[49m\u001b[43m,\u001b[49m\u001b[43m \u001b[49m\u001b[38;5;124;43m\"\u001b[39;49m\u001b[38;5;124;43m/resources/trained_models/trained_model1\u001b[39;49m\u001b[38;5;124;43m\"\u001b[39;49m\u001b[43m)\u001b[49m\u001b[43m)\u001b[49m\n",
      "File \u001b[1;32m~\\anaconda3\\envs\\WR2_Projekt3\\lib\\site-packages\\tensorflow\\python\\keras\\saving\\save.py:186\u001b[0m, in \u001b[0;36mload_model\u001b[1;34m(filepath, custom_objects, compile, options)\u001b[0m\n\u001b[0;32m    184\u001b[0m   filepath \u001b[38;5;241m=\u001b[39m path_to_string(filepath)\n\u001b[0;32m    185\u001b[0m   \u001b[38;5;28;01mif\u001b[39;00m \u001b[38;5;28misinstance\u001b[39m(filepath, six\u001b[38;5;241m.\u001b[39mstring_types):\n\u001b[1;32m--> 186\u001b[0m     \u001b[43mloader_impl\u001b[49m\u001b[38;5;241;43m.\u001b[39;49m\u001b[43mparse_saved_model\u001b[49m\u001b[43m(\u001b[49m\u001b[43mfilepath\u001b[49m\u001b[43m)\u001b[49m\n\u001b[0;32m    187\u001b[0m     \u001b[38;5;28;01mreturn\u001b[39;00m saved_model_load\u001b[38;5;241m.\u001b[39mload(filepath, \u001b[38;5;28mcompile\u001b[39m, options)\n\u001b[0;32m    189\u001b[0m \u001b[38;5;28;01mraise\u001b[39;00m \u001b[38;5;167;01mIOError\u001b[39;00m(\n\u001b[0;32m    190\u001b[0m     \u001b[38;5;124m'\u001b[39m\u001b[38;5;124mUnable to load model. Filepath is not an hdf5 file (or h5py is not \u001b[39m\u001b[38;5;124m'\u001b[39m\n\u001b[0;32m    191\u001b[0m     \u001b[38;5;124m'\u001b[39m\u001b[38;5;124mavailable) or SavedModel.\u001b[39m\u001b[38;5;124m'\u001b[39m)\n",
      "File \u001b[1;32m~\\anaconda3\\envs\\WR2_Projekt3\\lib\\site-packages\\tensorflow\\python\\saved_model\\loader_impl.py:110\u001b[0m, in \u001b[0;36mparse_saved_model\u001b[1;34m(export_dir)\u001b[0m\n\u001b[0;32m    108\u001b[0m     \u001b[38;5;28;01mraise\u001b[39;00m \u001b[38;5;167;01mIOError\u001b[39;00m(\u001b[38;5;124m\"\u001b[39m\u001b[38;5;124mCannot parse file \u001b[39m\u001b[38;5;132;01m%s\u001b[39;00m\u001b[38;5;124m: \u001b[39m\u001b[38;5;132;01m%s\u001b[39;00m\u001b[38;5;124m.\u001b[39m\u001b[38;5;124m\"\u001b[39m \u001b[38;5;241m%\u001b[39m (path_to_pbtxt, \u001b[38;5;28mstr\u001b[39m(e)))\n\u001b[0;32m    109\u001b[0m \u001b[38;5;28;01melse\u001b[39;00m:\n\u001b[1;32m--> 110\u001b[0m   \u001b[38;5;28;01mraise\u001b[39;00m \u001b[38;5;167;01mIOError\u001b[39;00m(\u001b[38;5;124m\"\u001b[39m\u001b[38;5;124mSavedModel file does not exist at: \u001b[39m\u001b[38;5;132;01m%s\u001b[39;00m\u001b[38;5;124m/\u001b[39m\u001b[38;5;124m{\u001b[39m\u001b[38;5;132;01m%s\u001b[39;00m\u001b[38;5;124m|\u001b[39m\u001b[38;5;132;01m%s\u001b[39;00m\u001b[38;5;124m}\u001b[39m\u001b[38;5;124m\"\u001b[39m \u001b[38;5;241m%\u001b[39m\n\u001b[0;32m    111\u001b[0m                 (export_dir,\n\u001b[0;32m    112\u001b[0m                  constants\u001b[38;5;241m.\u001b[39mSAVED_MODEL_FILENAME_PBTXT,\n\u001b[0;32m    113\u001b[0m                  constants\u001b[38;5;241m.\u001b[39mSAVED_MODEL_FILENAME_PB))\n",
      "\u001b[1;31mOSError\u001b[0m: SavedModel file does not exist at: C:/resources/trained_models/trained_model1/{saved_model.pbtxt|saved_model.pb}"
     ]
    }
   ],
   "source": [
    "model = tf.keras.models.load_model(os.path.join(os.getcwd(), \"/resources/trained_models/trained_model1\"))"
   ]
  },
  {
   "cell_type": "markdown",
   "metadata": {
    "id": "6HoOZbt8nzHy"
   },
   "source": [
    "Daraufhin werden die Daten zu den Testbildern 1-3 eingelesen:"
   ]
  },
  {
   "cell_type": "code",
   "execution_count": null,
   "metadata": {
    "colab": {
     "base_uri": "https://localhost:8080/"
    },
    "id": "dqlhrRofXdX7",
    "outputId": "a28455dd-da1f-4f7e-8bd5-6585facc6d14"
   },
   "outputs": [],
   "source": [
    "data_list = []\n",
    "\n",
    "for i in range(3):\n",
    "  data_list.append(pd.read_csv(os.path.join(os.getcwd(),\"/resources/test_data/test_data\") + str(i+1) + '_dump.csv', header = None))\n",
    "  print(data_list[i].shape)"
   ]
  },
  {
   "cell_type": "markdown",
   "metadata": {
    "id": "OfixYuQrpEtQ"
   },
   "source": [
    "Anschließend werden die Kanten der Testbilder von dem trainierten Netz klassifiziert:"
   ]
  },
  {
   "cell_type": "code",
   "execution_count": null,
   "metadata": {
    "colab": {
     "base_uri": "https://localhost:8080/"
    },
    "id": "A7wJDD6_6JdV",
    "outputId": "f21bb8ca-ceaa-4070-e988-1d3c466b3dc5"
   },
   "outputs": [
    {
     "name": "stdout",
     "output_type": "stream",
     "text": [
      "[[1.8672150e-01]\n",
      " [5.1451325e-03]\n",
      " [2.8771162e-04]\n",
      " [4.0692687e-03]\n",
      " [1.0229587e-08]\n",
      " [2.7998835e-02]\n",
      " [9.5744133e-01]\n",
      " [3.1230721e-07]\n",
      " [2.5047332e-02]\n",
      " [2.0135868e-01]\n",
      " [5.0468498e-05]\n",
      " [1.5516873e-05]\n",
      " [1.5950285e-05]\n",
      " [1.5824364e-05]\n",
      " [2.1352172e-03]\n",
      " [3.1185150e-04]\n",
      " [3.3435225e-04]\n",
      " [2.6088065e-01]\n",
      " [6.3386135e-05]\n",
      " [1.5815771e-06]\n",
      " [4.2555026e-09]\n",
      " [5.5776150e-06]\n",
      " [5.9885085e-03]\n",
      " [3.1259954e-03]]\n",
      "[0 0 0 0 0 0 1 0 0 0 0 0 0 0 0 0 0 0 0 0 0 0 0 0]\n"
     ]
    }
   ],
   "source": [
    "i = 2 # Auswahl: Testbild 0, 1, 2\n",
    "threshold = 0.5 # Schwelle, ab wann ein label als 1 gewaehlt werden soll\n",
    "\n",
    "X = data_list[i].iloc[:,:-1].values.astype('float32') # Eingabe fuer das Neuronale Netz\n",
    "y_true = data_list[i].iloc[:,-1].values.astype('float32') # Korrekte labels\n",
    "\n",
    "# Vorhersage des Modells\n",
    "y_pred = model.predict(X)\n",
    "print(y_pred)\n",
    "# Klassifiziere die Vorhersage -> label 0 oder 1\n",
    "y_pred_rounded = np.array([1 if prob > threshold else 0 for prob in y_pred]).astype('int64')\n",
    "print(y_pred_rounded)\n",
    "\n",
    "# Speichere vorhergesagte labels\n",
    "file_name = os.path.join(os.getcwd(),\"/resources/test_data/predicted_labels_\") + str(i+1) + '.csv'\n",
    "np.savetxt(file_name, y_pred_rounded, delimiter=\",\")"
   ]
  },
  {
   "cell_type": "code",
   "execution_count": null,
   "metadata": {
    "colab": {
     "base_uri": "https://localhost:8080/"
    },
    "id": "tQSDgp3okRfY",
    "outputId": "742055de-78d7-45aa-b59f-101347a28649"
   },
   "outputs": [
    {
     "name": "stdout",
     "output_type": "stream",
     "text": [
      "[0. 0. 0. 0. 0. 0. 1. 0. 0. 0. 0. 0. 0. 0. 0. 0. 0. 0. 0. 0. 0. 0. 0. 0.]\n"
     ]
    }
   ],
   "source": [
    "print(y_true)"
   ]
  },
  {
   "cell_type": "markdown",
   "metadata": {
    "id": "r9p3DydjptZd"
   },
   "source": [
    "Abschließend wird die Vorhersage des Modells anhand verschiedener Metriken überprüft: "
   ]
  },
  {
   "cell_type": "code",
   "execution_count": null,
   "metadata": {
    "colab": {
     "base_uri": "https://localhost:8080/"
    },
    "id": "QVSxndNZ8TMq",
    "outputId": "75fdb345-bf51-4dcd-ac41-6036c497e309"
   },
   "outputs": [
    {
     "name": "stdout",
     "output_type": "stream",
     "text": [
      "1/1 [==============================] - 0s 46ms/step - loss: 0.0355 - ACCURACY0.5: 1.0000 - ACCURACY0.4: 1.0000 - ACCURACY0.3: 1.0000 - RECALL0.5: 1.0000 - RECALL0.4: 1.0000 - RECALL0.3: 1.0000 - FN0.5: 0.0000e+00 - FN0.4: 0.0000e+00 - FN0.3: 0.0000e+00 - FP0.5: 0.0000e+00 - FP0.4: 0.0000e+00 - FP0.3: 0.0000e+00 - MAE: 0.0319\n"
     ]
    }
   ],
   "source": [
    "results = model.evaluate(X,y_true)"
   ]
  },
  {
   "cell_type": "markdown",
   "metadata": {
    "id": "-9s8R2Ukq8ap"
   },
   "source": [
    "Folgende Metriken werden dabei verwendet:"
   ]
  },
  {
   "cell_type": "code",
   "execution_count": null,
   "metadata": {
    "colab": {
     "base_uri": "https://localhost:8080/"
    },
    "id": "w6hjH17jqKWi",
    "outputId": "46f4bd49-5098-4c98-c8b4-cc38bda5ecdc"
   },
   "outputs": [
    {
     "data": {
      "text/plain": [
       "['loss',\n",
       " 'ACCURACY0.5',\n",
       " 'ACCURACY0.4',\n",
       " 'ACCURACY0.3',\n",
       " 'RECALL0.5',\n",
       " 'RECALL0.4',\n",
       " 'RECALL0.3',\n",
       " 'FN0.5',\n",
       " 'FN0.4',\n",
       " 'FN0.3',\n",
       " 'FP0.5',\n",
       " 'FP0.4',\n",
       " 'FP0.3',\n",
       " 'MAE']"
      ]
     },
     "execution_count": 31,
     "metadata": {},
     "output_type": "execute_result"
    }
   ],
   "source": [
    "model.metrics_names"
   ]
  }
 ],
 "metadata": {
  "colab": {
   "collapsed_sections": [],
   "name": "N06_test_model.ipynb",
   "provenance": []
  },
  "kernelspec": {
   "display_name": "Python 3 (ipykernel)",
   "language": "python",
   "name": "python3"
  },
  "language_info": {
   "codemirror_mode": {
    "name": "ipython",
    "version": 3
   },
   "file_extension": ".py",
   "mimetype": "text/x-python",
   "name": "python",
   "nbconvert_exporter": "python",
   "pygments_lexer": "ipython3",
   "version": "3.8.13"
  }
 },
 "nbformat": 4,
 "nbformat_minor": 1
}
