{
  "nbformat": 4,
  "nbformat_minor": 0,
  "metadata": {
    "colab": {
      "name": "N06_test_model.ipynb",
      "provenance": [],
      "collapsed_sections": []
    },
    "kernelspec": {
      "name": "python3",
      "display_name": "Python 3"
    },
    "language_info": {
      "name": "python"
    }
  },
  "cells": [
    {
      "cell_type": "code",
      "execution_count": 1,
      "metadata": {
        "id": "zOfLQk7WUfkD"
      },
      "outputs": [],
      "source": [
        "import numpy as np\n",
        "import pandas as pd\n",
        "import matplotlib.pyplot as plt\n",
        "import tensorflow as tf\n",
        "import joblib\n",
        "import datetime\n",
        "from sklearn.metrics import mean_squared_error, make_scorer, r2_score, accuracy_score, log_loss, confusion_matrix"
      ]
    },
    {
      "cell_type": "code",
      "source": [
        "random_state = 1\n",
        "tf.random.set_seed(random_state)\n",
        "np.random.seed(random_state)"
      ],
      "metadata": {
        "id": "EzDrifNyU-1B"
      },
      "execution_count": 2,
      "outputs": []
    },
    {
      "cell_type": "code",
      "source": [
        "model = tf.keras.models.load_model('/content/drive/MyDrive/WR2 Brrr/Trainingsdaten_Proj3/trained_model')"
      ],
      "metadata": {
        "id": "_pVRzU5qUodl"
      },
      "execution_count": 3,
      "outputs": []
    },
    {
      "cell_type": "code",
      "source": [
        "data_list = []\n",
        "\n",
        "for i in range(3):\n",
        "  data_list.append(pd.read_csv('/content/drive/MyDrive/WR2 Brrr/Testdaten_Proj3/test_data_' + str(i+1) + '_dump.csv', header = None))\n",
        "  print(data_list[i].shape)"
      ],
      "metadata": {
        "colab": {
          "base_uri": "https://localhost:8080/"
        },
        "id": "dqlhrRofXdX7",
        "outputId": "71b8ecd8-502f-4ce2-83f9-b03438e81b5f"
      },
      "execution_count": 4,
      "outputs": [
        {
          "output_type": "stream",
          "name": "stdout",
          "text": [
            "(24, 4801)\n",
            "(24, 4801)\n",
            "(24, 4801)\n"
          ]
        }
      ]
    },
    {
      "cell_type": "code",
      "source": [
        "i = 0 #waehle bild\n",
        "X = data_list[i].iloc[:,:-1].values.astype('float32')\n",
        "y_true = data_list[i].iloc[:,-1].values.astype('float32')\n",
        "y_pred = model.predict(X)\n",
        "print(y_pred)"
      ],
      "metadata": {
        "colab": {
          "base_uri": "https://localhost:8080/"
        },
        "id": "A7wJDD6_6JdV",
        "outputId": "a52d2676-db76-4c6b-ffe6-158c8dac4fc9"
      },
      "execution_count": 34,
      "outputs": [
        {
          "output_type": "stream",
          "name": "stdout",
          "text": [
            "[[0.]\n",
            " [0.]\n",
            " [0.]\n",
            " [0.]\n",
            " [0.]\n",
            " [0.]\n",
            " [0.]\n",
            " [1.]\n",
            " [0.]\n",
            " [1.]\n",
            " [0.]\n",
            " [1.]\n",
            " [0.]\n",
            " [0.]\n",
            " [1.]\n",
            " [0.]\n",
            " [1.]\n",
            " [0.]\n",
            " [0.]\n",
            " [0.]\n",
            " [0.]\n",
            " [1.]\n",
            " [1.]\n",
            " [1.]]\n"
          ]
        }
      ]
    },
    {
      "cell_type": "code",
      "source": [
        "for value in y_pred:\n",
        "  print(value[0])"
      ],
      "metadata": {
        "colab": {
          "base_uri": "https://localhost:8080/",
          "height": 183
        },
        "id": "mdL41Al2_PJk",
        "outputId": "ae7ccd7c-35af-4534-8f72-b4bf02add085"
      },
      "execution_count": 5,
      "outputs": [
        {
          "output_type": "error",
          "ename": "NameError",
          "evalue": "ignored",
          "traceback": [
            "\u001b[0;31m---------------------------------------------------------------------------\u001b[0m",
            "\u001b[0;31mNameError\u001b[0m                                 Traceback (most recent call last)",
            "\u001b[0;32m<ipython-input-5-37ee3bb37927>\u001b[0m in \u001b[0;36m<module>\u001b[0;34m()\u001b[0m\n\u001b[0;32m----> 1\u001b[0;31m \u001b[0;32mfor\u001b[0m \u001b[0mvalue\u001b[0m \u001b[0;32min\u001b[0m \u001b[0my_pred\u001b[0m\u001b[0;34m:\u001b[0m\u001b[0;34m\u001b[0m\u001b[0;34m\u001b[0m\u001b[0m\n\u001b[0m\u001b[1;32m      2\u001b[0m   \u001b[0mprint\u001b[0m\u001b[0;34m(\u001b[0m\u001b[0mvalue\u001b[0m\u001b[0;34m[\u001b[0m\u001b[0;36m0\u001b[0m\u001b[0;34m]\u001b[0m\u001b[0;34m)\u001b[0m\u001b[0;34m\u001b[0m\u001b[0;34m\u001b[0m\u001b[0m\n",
            "\u001b[0;31mNameError\u001b[0m: name 'y_pred' is not defined"
          ]
        }
      ]
    },
    {
      "cell_type": "code",
      "source": [
        "# label_list = []\n",
        "\n",
        "# for i in range(3):\n",
        "#   X = data_list[i].iloc[:,:-1]\n",
        "#   y_true = data_list[i].iloc[:,-1]\n",
        "#   y_pred = model.predict(X)\n",
        "#   print(y_pred)"
      ],
      "metadata": {
        "colab": {
          "base_uri": "https://localhost:8080/"
        },
        "id": "lHdJzMN64D2c",
        "outputId": "b1c28a08-47b4-4ce0-8b83-836af38479c9"
      },
      "execution_count": 6,
      "outputs": [
        {
          "output_type": "stream",
          "name": "stdout",
          "text": [
            "[[0.]\n",
            " [1.]\n",
            " [0.]\n",
            " [1.]\n",
            " [0.]\n",
            " [1.]\n",
            " [1.]\n",
            " [0.]\n",
            " [1.]\n",
            " [0.]\n",
            " [1.]\n",
            " [0.]\n",
            " [1.]\n",
            " [1.]\n",
            " [0.]\n",
            " [1.]\n",
            " [0.]\n",
            " [1.]\n",
            " [0.]\n",
            " [1.]\n",
            " [1.]\n",
            " [0.]\n",
            " [0.]\n",
            " [0.]]\n",
            "[[1.]\n",
            " [0.]\n",
            " [0.]\n",
            " [0.]\n",
            " [0.]\n",
            " [0.]\n",
            " [0.]\n",
            " [1.]\n",
            " [0.]\n",
            " [1.]\n",
            " [0.]\n",
            " [1.]\n",
            " [0.]\n",
            " [0.]\n",
            " [1.]\n",
            " [0.]\n",
            " [1.]\n",
            " [0.]\n",
            " [0.]\n",
            " [0.]\n",
            " [0.]\n",
            " [1.]\n",
            " [1.]\n",
            " [1.]]\n",
            "[[0.]\n",
            " [0.]\n",
            " [0.]\n",
            " [0.]\n",
            " [0.]\n",
            " [0.]\n",
            " [0.]\n",
            " [0.]\n",
            " [0.]\n",
            " [0.]\n",
            " [0.]\n",
            " [0.]\n",
            " [0.]\n",
            " [0.]\n",
            " [0.]\n",
            " [0.]\n",
            " [0.]\n",
            " [0.]\n",
            " [0.]\n",
            " [0.]\n",
            " [0.]\n",
            " [0.]\n",
            " [0.]\n",
            " [0.]]\n"
          ]
        }
      ]
    },
    {
      "cell_type": "code",
      "source": [
        "model.summary()"
      ],
      "metadata": {
        "colab": {
          "base_uri": "https://localhost:8080/"
        },
        "id": "0TXn8dEu9gzO",
        "outputId": "4bacb9e2-710d-4826-f4f3-1b92011217b1"
      },
      "execution_count": 8,
      "outputs": [
        {
          "output_type": "stream",
          "name": "stdout",
          "text": [
            "Model: \"sequential_2\"\n",
            "_________________________________________________________________\n",
            " Layer (type)                Output Shape              Param #   \n",
            "=================================================================\n",
            " dense_12 (Dense)            (None, 500)               2400500   \n",
            "                                                                 \n",
            " dropout_10 (Dropout)        (None, 500)               0         \n",
            "                                                                 \n",
            " dense_13 (Dense)            (None, 500)               250500    \n",
            "                                                                 \n",
            " dropout_11 (Dropout)        (None, 500)               0         \n",
            "                                                                 \n",
            " dense_14 (Dense)            (None, 500)               250500    \n",
            "                                                                 \n",
            " dropout_12 (Dropout)        (None, 500)               0         \n",
            "                                                                 \n",
            " dense_15 (Dense)            (None, 500)               250500    \n",
            "                                                                 \n",
            " dropout_13 (Dropout)        (None, 500)               0         \n",
            "                                                                 \n",
            " dense_16 (Dense)            (None, 500)               250500    \n",
            "                                                                 \n",
            " dense_17 (Dense)            (None, 1)                 501       \n",
            "                                                                 \n",
            "=================================================================\n",
            "Total params: 3,403,001\n",
            "Trainable params: 3,403,001\n",
            "Non-trainable params: 0\n",
            "_________________________________________________________________\n"
          ]
        }
      ]
    },
    {
      "cell_type": "code",
      "source": [
        "print(model.outputs[0].dtype)"
      ],
      "metadata": {
        "colab": {
          "base_uri": "https://localhost:8080/"
        },
        "id": "52lpKaLADVuz",
        "outputId": "c9fb3245-7bf5-42d0-9cb7-b4789e8026f3"
      },
      "execution_count": 36,
      "outputs": [
        {
          "output_type": "stream",
          "name": "stdout",
          "text": [
            "<dtype: 'float32'>\n"
          ]
        }
      ]
    },
    {
      "cell_type": "code",
      "source": [
        "model.layers()"
      ],
      "metadata": {
        "id": "BB-FXHIhjspK"
      },
      "execution_count": null,
      "outputs": []
    },
    {
      "cell_type": "code",
      "source": [
        "model.layers[0].weights"
      ],
      "metadata": {
        "colab": {
          "base_uri": "https://localhost:8080/"
        },
        "id": "z4yh5UgyKdxE",
        "outputId": "b88d01a5-564e-42cc-9f44-5d6afd0e82d1"
      },
      "execution_count": 18,
      "outputs": [
        {
          "output_type": "execute_result",
          "data": {
            "text/plain": [
              "[<tf.Variable 'dense_12/kernel:0' shape=(4800, 500) dtype=float32, numpy=\n",
              " array([[-2.4703193e-02,  2.7142856e-02,  1.4684651e-02, ...,\n",
              "         -4.1186016e-05,  2.9486051e-02, -1.8233040e-02],\n",
              "        [-2.8239477e-02, -2.2958085e-02,  1.3321964e-02, ...,\n",
              "         -2.7392162e-02, -2.5649872e-02, -1.5071959e-02],\n",
              "        [ 2.1623777e-02, -7.6690302e-03, -6.3008340e-03, ...,\n",
              "          1.2698106e-02,  1.7477987e-02, -3.0532114e-02],\n",
              "        ...,\n",
              "        [-1.6455652e-02, -2.2584131e-02,  9.2723481e-03, ...,\n",
              "          4.7797123e-03, -2.8841026e-02,  7.5011239e-03],\n",
              "        [ 3.1825700e-03,  6.4867553e-03, -1.0720001e-02, ...,\n",
              "         -1.7280405e-02,  2.8972510e-02,  9.9825654e-03],\n",
              "        [-1.5755078e-02,  2.2465093e-03,  2.0973089e-04, ...,\n",
              "         -5.6080190e-03,  3.1050270e-02, -3.2239787e-02]], dtype=float32)>,\n",
              " <tf.Variable 'dense_12/bias:0' shape=(500,) dtype=float32, numpy=\n",
              " array([-2.71144114e-03,  2.01431699e-02,  2.42850482e-02, -7.66538782e-03,\n",
              "         1.16671631e-02,  7.90107157e-03, -8.51956196e-03,  8.75452999e-03,\n",
              "         2.36824211e-02,  1.17249191e-02,  1.27627365e-02,  1.59056149e-02,\n",
              "         2.26351488e-02,  1.87641345e-02,  9.87417530e-03,  2.48092841e-02,\n",
              "         1.89608485e-02, -4.69025504e-03,  2.20422167e-03, -3.00471700e-04,\n",
              "         2.21972764e-02,  6.02846500e-03,  7.25541078e-03,  4.05800110e-03,\n",
              "         1.00815296e-02,  1.73333585e-02,  2.11031232e-02,  1.60555504e-02,\n",
              "        -3.28349019e-03,  2.62218080e-02,  2.58984864e-02, -1.22020589e-02,\n",
              "        -1.07126134e-02,  1.74007248e-02, -5.07372897e-03,  1.61715951e-02,\n",
              "         1.47373537e-02,  2.32901163e-02,  1.15940608e-02,  9.43828374e-03,\n",
              "        -5.66093309e-04,  3.89275588e-02,  1.35358318e-03,  1.18688433e-04,\n",
              "         2.43429933e-02,  7.04416132e-04,  3.47071365e-02, -3.17461253e-03,\n",
              "         1.96351819e-02, -2.01707380e-03, -1.08933197e-02,  2.95574833e-02,\n",
              "         1.25074163e-02,  4.24670614e-03,  1.71136539e-02,  2.29002312e-02,\n",
              "        -5.67087391e-03,  1.44840404e-02,  1.87540669e-02,  5.41217532e-03,\n",
              "         1.38043249e-02,  3.19030099e-02, -2.58775637e-03,  2.78932136e-02,\n",
              "         1.04701044e-02,  3.18821846e-03, -7.88783003e-03,  1.32930605e-02,\n",
              "        -1.09291123e-02,  3.16023789e-02, -7.17443228e-03,  8.20761919e-03,\n",
              "        -8.66052601e-03,  1.16201099e-02,  2.06085090e-02,  1.74799524e-02,\n",
              "         1.38090237e-03, -8.18593055e-03,  3.02992705e-02,  1.67270470e-02,\n",
              "        -8.06791522e-03,  1.33661237e-02,  2.33402923e-02,  2.27777399e-02,\n",
              "        -4.66291094e-03,  2.26794183e-02,  1.24848932e-02,  2.65253447e-02,\n",
              "         2.13917717e-02,  1.49128372e-02,  1.29883895e-02,  3.36151868e-02,\n",
              "         2.11962275e-02,  2.88240910e-02,  1.20600741e-02,  3.91499046e-03,\n",
              "         2.41519045e-02,  1.91542208e-02,  2.61197202e-02, -1.21333003e-02,\n",
              "        -4.34160372e-03, -6.34426204e-03, -7.01477705e-03,  2.03408138e-03,\n",
              "        -1.27258813e-02, -6.54571550e-03, -6.18107105e-03,  1.95712186e-02,\n",
              "         8.25402234e-03,  1.62680522e-02,  1.38574885e-02,  2.40147561e-02,\n",
              "         1.68202501e-02,  1.33508658e-02, -1.22039150e-02,  1.99506953e-02,\n",
              "        -8.03473685e-03,  1.69696007e-02,  1.85057241e-02,  2.28826925e-02,\n",
              "         2.68922206e-02,  1.67805923e-03,  1.64615158e-02,  2.45421268e-02,\n",
              "        -4.14813869e-03,  1.87011473e-02,  2.42661331e-02, -4.17456962e-03,\n",
              "        -1.83681585e-02,  1.05089378e-02,  1.17448205e-03, -2.16550688e-09,\n",
              "         2.37995479e-02,  1.11887949e-02,  6.43636612e-03,  3.05344490e-03,\n",
              "         2.71469429e-02, -2.36516334e-02,  3.91191570e-03,  1.16878720e-02,\n",
              "         2.45970264e-02,  1.62839610e-02, -1.12522151e-02, -1.58967823e-02,\n",
              "        -1.03067840e-02,  1.06843365e-02, -2.24405248e-03, -1.66206807e-02,\n",
              "         3.20178398e-04,  1.46931049e-03,  2.58009024e-02, -2.68344581e-03,\n",
              "         7.60795362e-03,  1.21641345e-02,  2.51355153e-02,  3.80648114e-03,\n",
              "         1.05478875e-02,  3.08117121e-02,  4.08228487e-03,  1.76163018e-02,\n",
              "         2.56545097e-02,  7.69226230e-04,  2.19792333e-02,  1.42251309e-02,\n",
              "         1.16673633e-02,  3.18088494e-02, -7.84435123e-03,  2.98535731e-02,\n",
              "         7.85261299e-03, -6.16037473e-03,  1.11731123e-02,  7.92181061e-04,\n",
              "        -2.18401407e-03, -9.64021869e-03,  3.23876948e-03, -1.87017233e-03,\n",
              "         1.39208240e-02,  1.68799255e-02,  1.74536612e-02,  2.32022237e-02,\n",
              "         2.50771716e-02,  3.06620058e-02,  1.82864349e-02,  2.16041338e-02,\n",
              "         1.20516103e-02, -4.42543719e-03,  1.34122018e-02, -1.07263550e-02,\n",
              "         1.21713169e-02,  9.35382862e-03,  1.65076666e-02, -2.94499146e-03,\n",
              "         1.18600242e-02, -1.05758598e-02,  1.61506403e-02,  1.48611413e-02,\n",
              "         1.41176824e-02,  2.10602675e-02,  2.53076805e-03, -1.12946574e-02,\n",
              "         8.33396520e-03,  2.19773930e-02,  2.28242613e-02,  2.29369048e-02,\n",
              "         1.82517301e-02,  1.82639137e-02,  2.74105743e-02,  1.87892336e-02,\n",
              "         1.89656764e-03,  1.72212403e-02,  1.73413847e-02,  9.09885764e-03,\n",
              "        -6.42572762e-03, -5.92343835e-03,  3.92164476e-02,  1.79258063e-02,\n",
              "         1.25810457e-02, -7.94240460e-03, -4.84505948e-03,  1.36497784e-02,\n",
              "        -4.30667540e-03,  2.06506569e-02,  1.78136528e-02,  3.09398826e-02,\n",
              "         4.55679605e-03,  9.38541163e-03,  2.00311579e-02,  1.69702731e-02,\n",
              "         3.67325619e-02,  6.75434107e-03,  5.90791553e-03,  1.32136689e-02,\n",
              "         1.59488972e-02,  3.07011306e-02,  1.35103269e-02, -8.68539978e-03,\n",
              "         2.72187963e-02,  8.41713976e-03, -1.68818142e-02, -1.73901357e-02,\n",
              "         4.96729324e-03,  1.79838892e-02,  2.46092714e-02,  3.77381183e-02,\n",
              "         1.43241067e-03, -4.95449128e-03,  2.57481821e-02, -6.93299924e-04,\n",
              "         8.12871289e-03,  2.21136697e-02,  1.35716032e-02,  1.85481198e-02,\n",
              "         2.13655289e-02, -1.41883958e-02,  3.33625674e-02,  1.71334315e-02,\n",
              "         1.30475359e-02,  2.28033513e-02, -4.39956738e-03,  2.12350320e-02,\n",
              "         1.98767148e-02,  2.73812860e-02,  2.04829127e-02, -1.60365291e-02,\n",
              "         2.70600338e-02,  2.05234289e-02,  2.17885543e-02,  2.23131943e-03,\n",
              "        -2.82178470e-03,  2.59637721e-02, -1.50195276e-03,  1.85441971e-02,\n",
              "         8.06437340e-03,  1.69652924e-02,  9.44401044e-03,  2.31674816e-02,\n",
              "        -1.09382840e-02,  2.90540643e-02,  1.97278764e-02,  2.94541866e-02,\n",
              "         1.76792182e-02,  2.09096316e-02,  1.80688556e-02,  4.51700157e-03,\n",
              "        -4.71165776e-03, -4.57321247e-03,  1.42504061e-02,  1.74666699e-02,\n",
              "        -3.58774862e-03, -1.68973149e-03,  1.66456196e-02,  2.63328794e-02,\n",
              "         2.67453454e-02,  4.07293858e-03,  7.67677743e-03,  6.58452464e-03,\n",
              "        -1.19594354e-02,  3.40708978e-02, -3.29251867e-03,  3.04034557e-02,\n",
              "         7.25437282e-03, -5.73247159e-03,  1.58253238e-02,  1.20709799e-02,\n",
              "         2.48257779e-02, -1.53480871e-02,  3.56651247e-02, -8.68481293e-04,\n",
              "        -1.54163223e-02,  2.22624466e-02, -1.99025646e-02,  9.21083335e-03,\n",
              "         1.77506823e-02, -1.90151471e-03, -1.47724419e-03,  1.68104190e-02,\n",
              "         1.53995110e-02,  9.12923645e-03,  1.18942261e-02,  2.03630282e-03,\n",
              "        -4.86280909e-03,  2.46999413e-03,  1.64881218e-04,  1.47717036e-02,\n",
              "         3.15326825e-02,  1.23672988e-02,  1.69172287e-02, -6.80459756e-03,\n",
              "         2.15947852e-02,  2.02402733e-02,  2.83529088e-02,  3.44025181e-03,\n",
              "         1.54187279e-02,  2.34143846e-02, -1.05850082e-02,  8.74554366e-03,\n",
              "        -1.18924230e-02,  3.02430037e-02,  2.12080497e-02,  2.12305672e-02,\n",
              "         2.29183119e-02,  2.80903950e-02,  2.01765113e-02,  8.57130717e-03,\n",
              "         1.58837568e-02,  2.71926597e-02, -1.04160085e-02,  2.08974946e-02,\n",
              "         1.61631759e-02,  1.93347260e-02, -2.06324682e-02,  1.92739337e-03,\n",
              "        -4.34511248e-03,  1.42753301e-02,  1.19981845e-03,  1.17908120e-02,\n",
              "        -1.34480908e-03, -2.72909272e-02,  9.63629689e-03,  1.35967443e-02,\n",
              "        -1.48890084e-02,  1.59133170e-02,  3.72979557e-03,  3.40816146e-03,\n",
              "         9.98064037e-03, -1.16730547e-02,  6.81286445e-03, -4.95791156e-03,\n",
              "         1.74943786e-02,  1.15967691e-02,  1.16127031e-02,  1.25474632e-02,\n",
              "         2.18610708e-02,  2.29296573e-02,  1.98214203e-02,  3.16395797e-02,\n",
              "         2.23416630e-02,  1.97421219e-02,  2.25262493e-02,  2.10213307e-02,\n",
              "         9.75898374e-03,  1.00139007e-02,  1.47052649e-02, -2.19215872e-03,\n",
              "         1.68677047e-02,  1.65146235e-02, -3.61095788e-03, -4.22057882e-03,\n",
              "        -2.17716061e-02,  7.76825845e-03,  1.93178039e-02,  2.05225125e-02,\n",
              "        -5.67468954e-03,  3.55989672e-02,  3.94610595e-03,  2.89672054e-02,\n",
              "         2.40066573e-02, -5.00528375e-03,  1.97955053e-02,  1.43212741e-02,\n",
              "         1.23455916e-02, -3.36454104e-04,  6.36412110e-03, -3.82984197e-03,\n",
              "         1.75882615e-02, -1.47545924e-02,  1.20523432e-02, -3.38854128e-03,\n",
              "        -5.97541826e-03, -2.57505383e-03, -1.72299217e-03,  2.31794119e-02,\n",
              "        -3.25741526e-03, -1.67580582e-02,  2.32166518e-02, -3.38173541e-03,\n",
              "        -7.60070514e-03,  1.25075029e-02,  7.67176179e-03,  8.76004901e-03,\n",
              "        -9.92636103e-03,  2.37887669e-02,  3.30860615e-02, -1.02194902e-02,\n",
              "         2.52609719e-02,  2.18531266e-02,  9.41258948e-03, -9.23609245e-04,\n",
              "        -3.04738106e-03,  2.31134309e-03,  1.91033930e-02, -1.53021738e-02,\n",
              "         2.60264799e-02,  3.20033953e-02, -6.02953741e-03,  3.25198472e-02,\n",
              "         2.56855600e-02,  2.40257643e-02, -4.29978315e-03,  3.27562578e-02,\n",
              "         6.34689350e-03, -1.10293329e-02,  7.67708756e-03,  1.66862663e-02,\n",
              "         2.41976921e-02,  1.54850502e-02, -2.23684823e-03,  6.09150389e-04,\n",
              "         9.66485962e-03,  1.77389495e-02,  1.60191879e-02, -1.12879761e-02,\n",
              "         1.18320212e-02,  2.22855657e-02, -8.49643908e-03,  9.32865217e-03,\n",
              "         7.56136328e-03, -1.68402158e-02,  2.79545225e-03,  1.49014639e-02,\n",
              "         2.84679309e-02, -5.69089549e-03,  1.77940112e-02,  3.46213430e-02,\n",
              "         1.42352030e-04,  1.61535554e-02,  1.32561130e-02,  2.56676394e-02,\n",
              "        -1.07325730e-03, -6.31560665e-03,  3.01576648e-02,  1.22557522e-03,\n",
              "         2.49152612e-02,  7.89318606e-03,  5.70700178e-03,  2.87781153e-02,\n",
              "         3.41582745e-02,  1.72778163e-02,  5.74645866e-03,  3.95295955e-03,\n",
              "         1.83313731e-02,  2.08526663e-02, -9.22941323e-03,  2.82424223e-02,\n",
              "         2.00283378e-02, -1.49351114e-03,  1.79284066e-02,  2.43655555e-02,\n",
              "         3.92538356e-03, -1.02797169e-02, -9.32645425e-03,  2.74370704e-02,\n",
              "         1.72482505e-02, -3.77527880e-03, -3.08985845e-03,  1.68150645e-02,\n",
              "        -1.15403160e-02, -1.35297852e-03,  2.21573934e-02,  1.49766635e-02],\n",
              "       dtype=float32)>]"
            ]
          },
          "metadata": {},
          "execution_count": 18
        }
      ]
    },
    {
      "cell_type": "code",
      "source": [
        "# from keras.models import Model\n",
        "# intermediate_layer_model = Model(inputs=model.input,\n",
        "#                                  outputs=model.get_layer('dense_12').output)\n",
        "# intermediate_output = intermediate_layer_model.predict(data_list[0].iloc[:,:-1].values)\n",
        "# print(intermediate_output)"
      ],
      "metadata": {
        "colab": {
          "base_uri": "https://localhost:8080/"
        },
        "id": "Jb_JFaONK1tP",
        "outputId": "cb304574-82e5-411f-cb20-279b9d2e9911"
      },
      "execution_count": 24,
      "outputs": [
        {
          "output_type": "stream",
          "name": "stdout",
          "text": [
            "WARNING:tensorflow:6 out of the last 1198 calls to <function Model.make_predict_function.<locals>.predict_function at 0x7f03066deb00> triggered tf.function retracing. Tracing is expensive and the excessive number of tracings could be due to (1) creating @tf.function repeatedly in a loop, (2) passing tensors with different shapes, (3) passing Python objects instead of tensors. For (1), please define your @tf.function outside of the loop. For (2), @tf.function has experimental_relax_shapes=True option that relaxes argument shapes that can avoid unnecessary retracing. For (3), please refer to https://www.tensorflow.org/guide/function#controlling_retracing and https://www.tensorflow.org/api_docs/python/tf/function for  more details.\n",
            "[[593920.25      0.        0.   ...      0.        0.        0.  ]\n",
            " [     0.        0.        0.   ... 935340.        0.        0.  ]\n",
            " [593920.25      0.        0.   ...      0.        0.        0.  ]\n",
            " ...\n",
            " [ 96492.72      0.        0.   ...      0.        0.   644715.44]\n",
            " [ 96492.72      0.        0.   ...      0.        0.   644715.44]\n",
            " [ 96492.72      0.        0.   ...      0.        0.   644715.44]]\n"
          ]
        }
      ]
    },
    {
      "cell_type": "code",
      "source": [
        "X_train = pd.read_csv('/content/drive/MyDrive/WR2 Brrr/Trainingsdaten_Proj3/training_dataset_ver5.csv', header = None).iloc[:,:-1].values.astype('int32')\n",
        "model.predict(X_train)"
      ],
      "metadata": {
        "colab": {
          "base_uri": "https://localhost:8080/",
          "height": 766
        },
        "id": "_qxYAqyLH2br",
        "outputId": "bbccb2e5-8110-4a04-a80d-1d3b8a620919"
      },
      "execution_count": 25,
      "outputs": [
        {
          "output_type": "stream",
          "name": "stdout",
          "text": [
            "WARNING:tensorflow:Model was constructed with shape (None, 4800) for input KerasTensor(type_spec=TensorSpec(shape=(None, 4800), dtype=tf.float32, name='dense_12_input'), name='dense_12_input', description=\"created by layer 'dense_12_input'\"), but it was called on an input with incompatible shape (32,).\n"
          ]
        },
        {
          "output_type": "error",
          "ename": "ValueError",
          "evalue": "ignored",
          "traceback": [
            "\u001b[0;31m---------------------------------------------------------------------------\u001b[0m",
            "\u001b[0;31mValueError\u001b[0m                                Traceback (most recent call last)",
            "\u001b[0;32m<ipython-input-25-7f33dae0abbb>\u001b[0m in \u001b[0;36m<module>\u001b[0;34m()\u001b[0m\n\u001b[1;32m      1\u001b[0m \u001b[0mX_train\u001b[0m \u001b[0;34m=\u001b[0m \u001b[0mpd\u001b[0m\u001b[0;34m.\u001b[0m\u001b[0mread_csv\u001b[0m\u001b[0;34m(\u001b[0m\u001b[0;34m'/content/drive/MyDrive/WR2 Brrr/Trainingsdaten_Proj3/training_dataset_ver5.csv'\u001b[0m\u001b[0;34m,\u001b[0m \u001b[0mheader\u001b[0m \u001b[0;34m=\u001b[0m \u001b[0;32mNone\u001b[0m\u001b[0;34m)\u001b[0m\u001b[0;34m.\u001b[0m\u001b[0miloc\u001b[0m\u001b[0;34m[\u001b[0m\u001b[0;34m:\u001b[0m\u001b[0;34m,\u001b[0m\u001b[0;34m:\u001b[0m\u001b[0;34m-\u001b[0m\u001b[0;36m1\u001b[0m\u001b[0;34m]\u001b[0m\u001b[0;34m.\u001b[0m\u001b[0mvalues\u001b[0m\u001b[0;34m.\u001b[0m\u001b[0mastype\u001b[0m\u001b[0;34m(\u001b[0m\u001b[0;34m'int32'\u001b[0m\u001b[0;34m)\u001b[0m\u001b[0;34m\u001b[0m\u001b[0;34m\u001b[0m\u001b[0m\n\u001b[0;32m----> 2\u001b[0;31m \u001b[0mmodel\u001b[0m\u001b[0;34m.\u001b[0m\u001b[0mpredict\u001b[0m\u001b[0;34m(\u001b[0m\u001b[0mX_train\u001b[0m\u001b[0;34m[\u001b[0m\u001b[0;36m0\u001b[0m\u001b[0;34m,\u001b[0m\u001b[0;34m]\u001b[0m\u001b[0;34m)\u001b[0m\u001b[0;34m\u001b[0m\u001b[0;34m\u001b[0m\u001b[0m\n\u001b[0m",
            "\u001b[0;32m/usr/local/lib/python3.7/dist-packages/keras/utils/traceback_utils.py\u001b[0m in \u001b[0;36merror_handler\u001b[0;34m(*args, **kwargs)\u001b[0m\n\u001b[1;32m     65\u001b[0m     \u001b[0;32mexcept\u001b[0m \u001b[0mException\u001b[0m \u001b[0;32mas\u001b[0m \u001b[0me\u001b[0m\u001b[0;34m:\u001b[0m  \u001b[0;31m# pylint: disable=broad-except\u001b[0m\u001b[0;34m\u001b[0m\u001b[0;34m\u001b[0m\u001b[0m\n\u001b[1;32m     66\u001b[0m       \u001b[0mfiltered_tb\u001b[0m \u001b[0;34m=\u001b[0m \u001b[0m_process_traceback_frames\u001b[0m\u001b[0;34m(\u001b[0m\u001b[0me\u001b[0m\u001b[0;34m.\u001b[0m\u001b[0m__traceback__\u001b[0m\u001b[0;34m)\u001b[0m\u001b[0;34m\u001b[0m\u001b[0;34m\u001b[0m\u001b[0m\n\u001b[0;32m---> 67\u001b[0;31m       \u001b[0;32mraise\u001b[0m \u001b[0me\u001b[0m\u001b[0;34m.\u001b[0m\u001b[0mwith_traceback\u001b[0m\u001b[0;34m(\u001b[0m\u001b[0mfiltered_tb\u001b[0m\u001b[0;34m)\u001b[0m \u001b[0;32mfrom\u001b[0m \u001b[0;32mNone\u001b[0m\u001b[0;34m\u001b[0m\u001b[0;34m\u001b[0m\u001b[0m\n\u001b[0m\u001b[1;32m     68\u001b[0m     \u001b[0;32mfinally\u001b[0m\u001b[0;34m:\u001b[0m\u001b[0;34m\u001b[0m\u001b[0;34m\u001b[0m\u001b[0m\n\u001b[1;32m     69\u001b[0m       \u001b[0;32mdel\u001b[0m \u001b[0mfiltered_tb\u001b[0m\u001b[0;34m\u001b[0m\u001b[0;34m\u001b[0m\u001b[0m\n",
            "\u001b[0;32m/usr/local/lib/python3.7/dist-packages/tensorflow/python/framework/func_graph.py\u001b[0m in \u001b[0;36mautograph_handler\u001b[0;34m(*args, **kwargs)\u001b[0m\n\u001b[1;32m   1145\u001b[0m           \u001b[0;32mexcept\u001b[0m \u001b[0mException\u001b[0m \u001b[0;32mas\u001b[0m \u001b[0me\u001b[0m\u001b[0;34m:\u001b[0m  \u001b[0;31m# pylint:disable=broad-except\u001b[0m\u001b[0;34m\u001b[0m\u001b[0;34m\u001b[0m\u001b[0m\n\u001b[1;32m   1146\u001b[0m             \u001b[0;32mif\u001b[0m \u001b[0mhasattr\u001b[0m\u001b[0;34m(\u001b[0m\u001b[0me\u001b[0m\u001b[0;34m,\u001b[0m \u001b[0;34m\"ag_error_metadata\"\u001b[0m\u001b[0;34m)\u001b[0m\u001b[0;34m:\u001b[0m\u001b[0;34m\u001b[0m\u001b[0;34m\u001b[0m\u001b[0m\n\u001b[0;32m-> 1147\u001b[0;31m               \u001b[0;32mraise\u001b[0m \u001b[0me\u001b[0m\u001b[0;34m.\u001b[0m\u001b[0mag_error_metadata\u001b[0m\u001b[0;34m.\u001b[0m\u001b[0mto_exception\u001b[0m\u001b[0;34m(\u001b[0m\u001b[0me\u001b[0m\u001b[0;34m)\u001b[0m\u001b[0;34m\u001b[0m\u001b[0;34m\u001b[0m\u001b[0m\n\u001b[0m\u001b[1;32m   1148\u001b[0m             \u001b[0;32melse\u001b[0m\u001b[0;34m:\u001b[0m\u001b[0;34m\u001b[0m\u001b[0;34m\u001b[0m\u001b[0m\n\u001b[1;32m   1149\u001b[0m               \u001b[0;32mraise\u001b[0m\u001b[0;34m\u001b[0m\u001b[0;34m\u001b[0m\u001b[0m\n",
            "\u001b[0;31mValueError\u001b[0m: in user code:\n\n    File \"/usr/local/lib/python3.7/dist-packages/keras/engine/training.py\", line 1801, in predict_function  *\n        return step_function(self, iterator)\n    File \"/usr/local/lib/python3.7/dist-packages/keras/engine/training.py\", line 1790, in step_function  **\n        outputs = model.distribute_strategy.run(run_step, args=(data,))\n    File \"/usr/local/lib/python3.7/dist-packages/keras/engine/training.py\", line 1783, in run_step  **\n        outputs = model.predict_step(data)\n    File \"/usr/local/lib/python3.7/dist-packages/keras/engine/training.py\", line 1751, in predict_step\n        return self(x, training=False)\n    File \"/usr/local/lib/python3.7/dist-packages/keras/utils/traceback_utils.py\", line 67, in error_handler\n        raise e.with_traceback(filtered_tb) from None\n    File \"/usr/local/lib/python3.7/dist-packages/keras/engine/input_spec.py\", line 228, in assert_input_compatibility\n        raise ValueError(f'Input {input_index} of layer \"{layer_name}\" '\n\n    ValueError: Exception encountered when calling layer \"sequential_2\" (type Sequential).\n    \n    Input 0 of layer \"dense_12\" is incompatible with the layer: expected min_ndim=2, found ndim=1. Full shape received: (32,)\n    \n    Call arguments received:\n      • inputs=tf.Tensor(shape=(32,), dtype=int32)\n      • training=False\n      • mask=None\n"
          ]
        }
      ]
    }
  ]
}